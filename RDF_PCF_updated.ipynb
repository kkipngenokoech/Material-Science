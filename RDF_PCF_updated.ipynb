{
  "cells": [
    {
      "cell_type": "markdown",
      "metadata": {
        "id": "view-in-github",
        "colab_type": "text"
      },
      "source": [
        "<a href=\"https://colab.research.google.com/github/kkipngenokoech/Material-Science/blob/main/RDF_PCF_updated.ipynb\" target=\"_parent\"><img src=\"https://colab.research.google.com/assets/colab-badge.svg\" alt=\"Open In Colab\"/></a>"
      ]
    },
    {
      "cell_type": "code",
      "source": [
        "!pip install ase"
      ],
      "metadata": {
        "id": "mURgShO6r9Yh"
      },
      "id": "mURgShO6r9Yh",
      "execution_count": null,
      "outputs": []
    },
    {
      "cell_type": "code",
      "source": [
        "import numpy as np\n",
        "import matplotlib.pyplot as plt"
      ],
      "metadata": {
        "id": "s_WmVDz_sy6f"
      },
      "id": "s_WmVDz_sy6f",
      "execution_count": null,
      "outputs": []
    },
    {
      "cell_type": "code",
      "source": [
        "\"\"\"\n",
        "Load the data\n",
        "\"\"\"\n",
        "# amorphous silicon (coord. in angstroms)\n",
        "path = 'Si-amor2.xyz'\n",
        "\n",
        "data_text = np.genfromtxt(fname=path, skip_header=2, dtype='unicode')\n",
        "\n",
        "[n, m] = data_text.shape"
      ],
      "metadata": {
        "id": "DhTuAzEys10c"
      },
      "id": "DhTuAzEys10c",
      "execution_count": null,
      "outputs": []
    },
    {
      "cell_type": "code",
      "execution_count": null,
      "id": "622640a0",
      "metadata": {
        "id": "622640a0"
      },
      "outputs": [],
      "source": [
        "from ase import Atoms, Atom\n",
        "from ase.io import read\n",
        "from ase.visualize import view\n",
        "\n",
        "atoms = read('Si-crys.xyz')\n",
        "atoms.center()\n",
        "\n",
        "view(atoms, viewer='x3d')"
      ]
    },
    {
      "cell_type": "code",
      "execution_count": null,
      "id": "34e57ebc",
      "metadata": {
        "id": "34e57ebc"
      },
      "outputs": [],
      "source": [
        "\"\"\"\n",
        "Set input parameters\n",
        "\"\"\"\n",
        "dr = 0.01\n",
        "\n",
        "#[dx, dy, dz] = [50, 50, 50]    # for the carbon file\n",
        "[dx, dy, dz] = [30, 30, 30]    # for the silicon file"
      ]
    },
    {
      "cell_type": "code",
      "execution_count": null,
      "id": "1748b93d",
      "metadata": {
        "id": "1748b93d"
      },
      "outputs": [],
      "source": [
        "\"\"\"\n",
        "Calculate all the interadomic distances.\n",
        "\"\"\"\n",
        "vol = dx * dy * dz    # volume of data box\n",
        "density = n/vol       # number of atoms/Angstrom^3\n",
        "\n",
        "data = np.float64(data_text[:,1:4])\n",
        "\n",
        "# Find the atom-to-atom vectors, reshpae into an n**2 by 3 array\n",
        "vects = np.array([data - i for i in data])\n",
        "\n",
        "# Find the magnitude of the vectors\n",
        "dist = np.linalg.norm(vects, axis=2)"
      ]
    },
    {
      "cell_type": "code",
      "execution_count": null,
      "id": "c0991cfc",
      "metadata": {
        "id": "c0991cfc"
      },
      "outputs": [],
      "source": [
        "\"\"\"\n",
        "Count the atoms in each shell\n",
        "\"\"\"\n",
        "# Use // (floor division operator) to get the shell index for each length\n",
        "shell_inds = (dist // dr).astype(int)\n",
        "\n",
        "# Count the number in each bin.\n",
        "# (need to flatten to 1D array first, see bincount documentation.)\n",
        "shell_inds = shell_inds.flatten()\n",
        "shell_counts = np.bincount(shell_inds)\n",
        "\n",
        "# Zero out the first element that counted all the self-self distances\n",
        "shell_counts[0] = 0"
      ]
    },
    {
      "cell_type": "code",
      "execution_count": null,
      "id": "9563764a",
      "metadata": {
        "id": "9563764a",
        "outputId": "82e1a3f9-a1f8-48ae-978a-d2138614cf15",
        "colab": {
          "base_uri": "https://localhost:8080/"
        }
      },
      "outputs": [
        {
          "output_type": "stream",
          "name": "stderr",
          "text": [
            "/tmp/ipython-input-2924189342.py:12: RuntimeWarning: invalid value encountered in divide\n",
            "  rho_r = shell_counts / v_sh / n\n"
          ]
        }
      ],
      "source": [
        "\"\"\"\n",
        "Calculate RDF and PCF.\n",
        "\"\"\"\n",
        "# Make array of the shell's radii correspondiong to each bin\n",
        "r = np.arange(0, np.max(dist), dr)\n",
        "\n",
        "# Calculate each shell's volume\n",
        "v_sh = 4 * np.pi * ((r)**2) * dr\n",
        "\n",
        "# Normailze by the number of atoms in a shell by the volume of shell and total number of atoms\n",
        "# to get the ensemble average of the local density\n",
        "rho_r = shell_counts / v_sh / n\n",
        "\n",
        "# Calculate PCF\n",
        "pcf = rho_r / (density)\n",
        "\n",
        "# Calulate RDF\n",
        "rdf = shell_counts / n"
      ]
    },
    {
      "cell_type": "code",
      "execution_count": null,
      "id": "38a1840a",
      "metadata": {
        "id": "38a1840a"
      },
      "outputs": [],
      "source": [
        "\"\"\"\n",
        "Plot and label\n",
        "\"\"\"\n",
        "plt.figure(0)\n",
        "plt.plot(r, rdf)\n",
        "plt.xlim(0, 30)\n",
        "plt.rc('font', size=12)\n",
        "plt.title('RDF')\n",
        "plt.xlabel(r'Distance ($\\AA$)')\n",
        "plt.ylabel('RDF(r)')\n",
        "\n",
        "plt.figure(1)\n",
        "plt.plot(r, pcf)\n",
        "plt.plot(r, np.ones(len(r)))\n",
        "plt.xlim(0, 30)\n",
        "plt.rc('font', size=12)\n",
        "plt.title('PCF')\n",
        "plt.xlabel(r'Distance ($\\AA$)')\n",
        "plt.ylabel('g(r)')"
      ]
    },
    {
      "cell_type": "code",
      "execution_count": null,
      "id": "80516c52",
      "metadata": {
        "id": "80516c52"
      },
      "outputs": [],
      "source": [
        "\"\"\"\n",
        "Integrate the RDF to get number of near neighbors:\n",
        "\"\"\"\n",
        "# Specify integration limits in Angstroms:\n",
        "dcutoff = np.array([0, 2.7])\n",
        "\n",
        "# Convert integration limits to array indices\n",
        "ind_cutoff = (dcutoff // dr).astype(int)\n",
        "\n",
        "nn = np.sum(rdf[ind_cutoff[0]:ind_cutoff[1]]) * dr\n",
        "print(nn)"
      ]
    }
  ],
  "metadata": {
    "kernelspec": {
      "display_name": "myenv",
      "language": "python",
      "name": "python3"
    },
    "language_info": {
      "codemirror_mode": {
        "name": "ipython",
        "version": 3
      },
      "file_extension": ".py",
      "mimetype": "text/x-python",
      "name": "python",
      "nbconvert_exporter": "python",
      "pygments_lexer": "ipython3",
      "version": "3.11.4"
    },
    "colab": {
      "provenance": [],
      "include_colab_link": true
    }
  },
  "nbformat": 4,
  "nbformat_minor": 5
}
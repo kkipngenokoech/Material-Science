{
  "cells": [
    {
      "cell_type": "markdown",
      "metadata": {
        "id": "view-in-github",
        "colab_type": "text"
      },
      "source": [
        "<a href=\"https://colab.research.google.com/github/kkipngenokoech/Material-Science/blob/main/fall/energy_content.ipynb\" target=\"_parent\"><img src=\"https://colab.research.google.com/assets/colab-badge.svg\" alt=\"Open In Colab\"/></a>"
      ]
    },
    {
      "cell_type": "markdown",
      "metadata": {
        "id": "ztVba5sDIORp"
      },
      "source": [
        "# Install atomic simulation environment and simulation code\n",
        "\n",
        "This sets up our simulation environment. ASE (Atomic Simulation Environment) builds molecules, and GPAW (a DFT code) simulates molecules and computes energies using electronic structure calculations and by approximating the electron cloud."
      ]
    },
    {
      "cell_type": "code",
      "source": [
        "# install ASE (atomic simulation environment) using Linux\n",
        "!apt install ase\n",
        "\n",
        "# install GPAW (the simulation code) using Linux\n",
        "!apt install python3-mpi4py cython3 libxc-dev gpaw-data\n",
        "!pip -q install gpaw"
      ],
      "metadata": {
        "id": "JKlzDUWKCY85",
        "collapsed": true,
        "outputId": "eaee0994-b174-4856-f146-0490f9d627b1",
        "colab": {
          "base_uri": "https://localhost:8080/"
        }
      },
      "execution_count": null,
      "outputs": [
        {
          "output_type": "stream",
          "name": "stdout",
          "text": [
            "Reading package lists... Done\n",
            "Building dependency tree... Done\n",
            "Reading state information... Done\n",
            "The following additional packages will be installed:\n",
            "  blt fonts-dejavu-core fonts-font-awesome fonts-glyphicons-halflings\n",
            "  fonts-lyx libimagequant0 libjs-bootstrap liblbfgsb0 libraqm0 libxsimd-dev\n",
            "  python-matplotlib-data python3-appdirs python3-ase python3-attr\n",
            "  python3-beniget python3-brotli python3-bs4 python3-chardet python3-cycler\n",
            "  python3-dateutil python3-decorator python3-fonttools python3-fs python3-gast\n",
            "  python3-html5lib python3-kiwisolver python3-lxml python3-lz4\n",
            "  python3-matplotlib python3-mpmath python3-numpy python3-olefile\n",
            "  python3-packaging python3-pil python3-pil.imagetk python3-ply\n",
            "  python3-pythran python3-scipy python3-soupsieve python3-spglib python3-sympy\n",
            "  python3-tk python3-tz python3-ufolib2 python3-unicodedata2\n",
            "  python3-webencodings tk8.6-blt2.5 unicode-data\n",
            "Suggested packages:\n",
            "  python-ase-doc blt-demo libxsimd-doc python3-netcdf4 python3-pycodcif\n",
            "  python-attr-doc python-cycler-doc python3-genshi python-lxml-doc dvipng\n",
            "  fonts-staypuft ghostscript gir1.2-gtk-3.0 inkscape ipython3 librsvg2-common\n",
            "  python-matplotlib-doc python3-cairocffi python3-gi-cairo python3-gobject\n",
            "  python3-pyqt5 python3-sip python3-tornado texlive-extra-utils\n",
            "  texlive-latex-extra python-mpmath-doc python3-gmpy2 python-numpy-doc\n",
            "  python3-pytest python-pil-doc python-ply-doc python-scipy-doc\n",
            "  texlive-fonts-extra python-sympy-doc tix python3-tk-dbg\n",
            "The following NEW packages will be installed:\n",
            "  ase blt fonts-dejavu-core fonts-font-awesome fonts-glyphicons-halflings\n",
            "  fonts-lyx libimagequant0 libjs-bootstrap liblbfgsb0 libraqm0 libxsimd-dev\n",
            "  python-matplotlib-data python3-appdirs python3-ase python3-attr\n",
            "  python3-beniget python3-brotli python3-bs4 python3-chardet python3-cycler\n",
            "  python3-dateutil python3-decorator python3-fonttools python3-fs python3-gast\n",
            "  python3-html5lib python3-kiwisolver python3-lxml python3-lz4\n",
            "  python3-matplotlib python3-mpmath python3-numpy python3-olefile\n",
            "  python3-packaging python3-pil python3-pil.imagetk python3-ply\n",
            "  python3-pythran python3-scipy python3-soupsieve python3-spglib python3-sympy\n",
            "  python3-tk python3-tz python3-ufolib2 python3-unicodedata2\n",
            "  python3-webencodings tk8.6-blt2.5 unicode-data\n",
            "0 upgraded, 49 newly installed, 0 to remove and 35 not upgraded.\n",
            "Need to get 48.8 MB of archives.\n",
            "After this operation, 216 MB of additional disk space will be used.\n",
            "Get:1 http://archive.ubuntu.com/ubuntu jammy/main amd64 fonts-font-awesome all 5.0.10+really4.7.0~dfsg-4.1 [516 kB]\n",
            "Get:2 http://archive.ubuntu.com/ubuntu jammy-updates/universe amd64 fonts-glyphicons-halflings all 1.009~3.4.1+dfsg-2+deb11u2build0.22.04.1 [122 kB]\n",
            "Get:3 http://archive.ubuntu.com/ubuntu jammy-updates/universe amd64 libjs-bootstrap all 3.4.1+dfsg-2+deb11u2build0.22.04.1 [129 kB]\n",
            "Get:4 http://archive.ubuntu.com/ubuntu jammy-updates/main amd64 python3-numpy amd64 1:1.21.5-1ubuntu22.04.1 [3,467 kB]\n",
            "Get:5 http://archive.ubuntu.com/ubuntu jammy/main amd64 python3-decorator all 4.4.2-0ubuntu1 [10.3 kB]\n",
            "Get:6 http://archive.ubuntu.com/ubuntu jammy/universe amd64 libxsimd-dev amd64 7.6.0-2 [108 kB]\n",
            "Get:7 http://archive.ubuntu.com/ubuntu jammy/universe amd64 python3-gast all 0.5.2-2 [9,394 B]\n",
            "Get:8 http://archive.ubuntu.com/ubuntu jammy/universe amd64 python3-beniget all 0.4.1-2 [9,904 B]\n",
            "Get:9 http://archive.ubuntu.com/ubuntu jammy/main amd64 python3-ply all 3.11-5 [47.5 kB]\n",
            "Get:10 http://archive.ubuntu.com/ubuntu jammy/universe amd64 python3-pythran amd64 0.10.0+ds2-1 [423 kB]\n",
            "Get:11 http://archive.ubuntu.com/ubuntu jammy/universe amd64 liblbfgsb0 amd64 3.0+dfsg.3-10 [29.9 kB]\n",
            "Get:12 http://archive.ubuntu.com/ubuntu jammy/universe amd64 python3-scipy amd64 1.8.0-1exp2ubuntu1 [14.7 MB]\n",
            "Get:13 http://archive.ubuntu.com/ubuntu jammy/universe amd64 python3-spglib amd64 1.16.2-2build3 [98.0 kB]\n",
            "Get:14 http://archive.ubuntu.com/ubuntu jammy/main amd64 fonts-dejavu-core all 2.37-2build1 [1,041 kB]\n",
            "Get:15 http://archive.ubuntu.com/ubuntu jammy/universe amd64 fonts-lyx all 2.3.6-1 [159 kB]\n",
            "Get:16 http://archive.ubuntu.com/ubuntu jammy/universe amd64 python-matplotlib-data all 3.5.1-2build1 [2,942 kB]\n",
            "Get:17 http://archive.ubuntu.com/ubuntu jammy/main amd64 python3-dateutil all 2.8.1-6 [78.4 kB]\n",
            "Get:18 http://archive.ubuntu.com/ubuntu jammy/main amd64 libimagequant0 amd64 2.17.0-1 [34.6 kB]\n",
            "Get:19 http://archive.ubuntu.com/ubuntu jammy/main amd64 libraqm0 amd64 0.7.0-4ubuntu1 [11.7 kB]\n",
            "Get:20 http://archive.ubuntu.com/ubuntu jammy-updates/main amd64 python3-pil amd64 9.0.1-1ubuntu0.3 [419 kB]\n",
            "Get:21 http://archive.ubuntu.com/ubuntu jammy/main amd64 tk8.6-blt2.5 amd64 2.5.3+dfsg-4.1build2 [643 kB]\n",
            "Get:22 http://archive.ubuntu.com/ubuntu jammy/main amd64 blt amd64 2.5.3+dfsg-4.1build2 [4,838 B]\n",
            "Get:23 http://archive.ubuntu.com/ubuntu jammy-updates/main amd64 python3-tk amd64 3.10.8-1~22.04 [110 kB]\n",
            "Get:24 http://archive.ubuntu.com/ubuntu jammy-updates/universe amd64 python3-pil.imagetk amd64 9.0.1-1ubuntu0.3 [9,616 B]\n",
            "Get:25 http://archive.ubuntu.com/ubuntu jammy/universe amd64 python3-cycler all 0.11.0-1 [8,156 B]\n",
            "Get:26 http://archive.ubuntu.com/ubuntu jammy/universe amd64 python3-brotli amd64 1.0.9-2build6 [319 kB]\n",
            "Get:27 http://archive.ubuntu.com/ubuntu jammy/main amd64 python3-attr all 21.2.0-1 [44.0 kB]\n",
            "Get:28 http://archive.ubuntu.com/ubuntu jammy/universe amd64 python3-ufolib2 all 0.13.1+dfsg1-1 [32.2 kB]\n",
            "Get:29 http://archive.ubuntu.com/ubuntu jammy/universe amd64 python3-mpmath all 1.2.1-2 [419 kB]\n",
            "Get:30 http://archive.ubuntu.com/ubuntu jammy/universe amd64 python3-sympy all 1.9-1 [4,312 kB]\n",
            "Get:31 http://archive.ubuntu.com/ubuntu jammy-updates/main amd64 python3-tz all 2022.1-1ubuntu0.22.04.1 [30.7 kB]\n",
            "Get:32 http://archive.ubuntu.com/ubuntu jammy/main amd64 python3-appdirs all 1.4.4-2 [11.4 kB]\n",
            "Get:33 http://archive.ubuntu.com/ubuntu jammy/universe amd64 python3-fs all 2.4.12-1 [84.9 kB]\n",
            "Get:34 http://archive.ubuntu.com/ubuntu jammy/main amd64 python3-lxml amd64 4.8.0-1build1 [1,150 kB]\n",
            "Get:35 http://archive.ubuntu.com/ubuntu jammy/universe amd64 python3-lz4 amd64 3.1.3+dfsg-1build3 [33.3 kB]\n",
            "Get:36 http://archive.ubuntu.com/ubuntu jammy/universe amd64 python3-unicodedata2 amd64 14.0.0+ds-8 [376 kB]\n",
            "Get:37 http://archive.ubuntu.com/ubuntu jammy/universe amd64 unicode-data all 14.0.0-1.1 [8,206 kB]\n",
            "Get:38 http://archive.ubuntu.com/ubuntu jammy/universe amd64 python3-fonttools amd64 4.29.1-2build1 [810 kB]\n",
            "Get:39 http://archive.ubuntu.com/ubuntu jammy/universe amd64 python3-kiwisolver amd64 1.3.2-1build1 [48.0 kB]\n",
            "Get:40 http://archive.ubuntu.com/ubuntu jammy/main amd64 python3-packaging all 21.3-1 [30.7 kB]\n",
            "Get:41 http://archive.ubuntu.com/ubuntu jammy/universe amd64 python3-matplotlib amd64 3.5.1-2build1 [5,937 kB]\n",
            "Get:42 http://archive.ubuntu.com/ubuntu jammy/universe amd64 python3-ase all 3.22.1-1ubuntu1 [1,409 kB]\n",
            "Get:43 http://archive.ubuntu.com/ubuntu jammy/universe amd64 ase all 3.22.1-1ubuntu1 [31.3 kB]\n",
            "Get:44 http://archive.ubuntu.com/ubuntu jammy/main amd64 python3-soupsieve all 2.3.1-1 [33.0 kB]\n",
            "Get:45 http://archive.ubuntu.com/ubuntu jammy/main amd64 python3-bs4 all 4.10.0-2 [79.1 kB]\n",
            "Get:46 http://archive.ubuntu.com/ubuntu jammy/main amd64 python3-chardet all 4.0.0-1 [98.0 kB]\n",
            "Get:47 http://archive.ubuntu.com/ubuntu jammy/main amd64 python3-webencodings all 0.5.1-4 [11.8 kB]\n",
            "Get:48 http://archive.ubuntu.com/ubuntu jammy/main amd64 python3-html5lib all 1.1-3 [87.0 kB]\n",
            "Get:49 http://archive.ubuntu.com/ubuntu jammy/main amd64 python3-olefile all 0.46-3 [33.8 kB]\n",
            "Fetched 48.8 MB in 2s (22.6 MB/s)\n",
            "Extracting templates from packages: 100%\n",
            "Selecting previously unselected package fonts-font-awesome.\n",
            "(Reading database ... 126435 files and directories currently installed.)\n",
            "Preparing to unpack .../00-fonts-font-awesome_5.0.10+really4.7.0~dfsg-4.1_all.deb ...\n",
            "Unpacking fonts-font-awesome (5.0.10+really4.7.0~dfsg-4.1) ...\n",
            "Selecting previously unselected package fonts-glyphicons-halflings.\n",
            "Preparing to unpack .../01-fonts-glyphicons-halflings_1.009~3.4.1+dfsg-2+deb11u2build0.22.04.1_all.deb ...\n",
            "Unpacking fonts-glyphicons-halflings (1.009~3.4.1+dfsg-2+deb11u2build0.22.04.1) ...\n",
            "Selecting previously unselected package libjs-bootstrap.\n",
            "Preparing to unpack .../02-libjs-bootstrap_3.4.1+dfsg-2+deb11u2build0.22.04.1_all.deb ...\n",
            "Unpacking libjs-bootstrap (3.4.1+dfsg-2+deb11u2build0.22.04.1) ...\n",
            "Selecting previously unselected package python3-numpy.\n",
            "Preparing to unpack .../03-python3-numpy_1%3a1.21.5-1ubuntu22.04.1_amd64.deb ...\n",
            "Unpacking python3-numpy (1:1.21.5-1ubuntu22.04.1) ...\n"
          ]
        }
      ]
    },
    {
      "cell_type": "code",
      "source": [
        "# import tools from ASE\n",
        "from ase import Atoms, Atom\n",
        "from ase.build import molecule as ase_molecule\n",
        "from ase.data.pubchem import pubchem_atoms_search\n",
        "from ase.visualize import view\n",
        "\n",
        "# import tools from GPAW\n",
        "from gpaw import GPAW, PW\n",
        "\n",
        "# import tools for plotting\n",
        "import matplotlib.pyplot as plt\n",
        "import plotly.graph_objects as go\n",
        "\n",
        "# import tools for numerical calculations\n",
        "import numpy as np"
      ],
      "metadata": {
        "id": "Wl8QUrGa-8nd"
      },
      "execution_count": null,
      "outputs": []
    },
    {
      "cell_type": "markdown",
      "source": [
        "# 1. Create the molecule &#129337;\n",
        "\n",
        "Change the CID to simulate different molecules—e.g., 297 for methane. This pulls atomic positions from PubChem."
      ],
      "metadata": {
        "id": "HhWcJodnoLuu"
      }
    },
    {
      "cell_type": "code",
      "source": [
        "\"\"\"\n",
        "define molecule using the PubChem database of the National Library of Medecine\n",
        "\n",
        "methane         = 297\n",
        "propane         = 6334\n",
        "ethanol         = 702\n",
        "octane          = 10907\n",
        "oxygen          = 977\n",
        "carbon dioxide  = 280\n",
        "water           = 962\n",
        "hydrogen        = n/a   (type the command \"molecule = ase_molecule('H2')\"\n",
        "                        instead of \"molecule = pubchem_atoms_search(cid=XXX)\")\n",
        "\n",
        "\"\"\"\n",
        "molecule = pubchem_atoms_search(cid=280)\n",
        "molecule.set_cell([7, 7, 7], scale_atoms=False)\n",
        "molecule.center()"
      ],
      "metadata": {
        "id": "Kir7lqC1Gqyh"
      },
      "execution_count": null,
      "outputs": []
    },
    {
      "cell_type": "markdown",
      "source": [
        "# 2. Visualize the molecule &#x1F50D;"
      ],
      "metadata": {
        "id": "8dggTyxNpRFW"
      }
    },
    {
      "cell_type": "code",
      "source": [
        "# show molecule\n",
        "view(molecule, viewer='x3d', block=True)"
      ],
      "metadata": {
        "id": "JGEaFxYqFeTa",
        "collapsed": true
      },
      "execution_count": null,
      "outputs": []
    },
    {
      "cell_type": "markdown",
      "source": [
        "# 3. Calculate the energy of the molecule &#x1F4BB;\n",
        "\n",
        "Run the simulation. This solves the Kohn-Sham equations to get the total energy for each molecule."
      ],
      "metadata": {
        "id": "ULsbgd3-r0da"
      }
    },
    {
      "cell_type": "code",
      "source": [
        "# set simulation parameters\n",
        "calc = GPAW(xc='PBE',\n",
        "            kpts=(1,1,1),\n",
        "            mode=PW(700),\n",
        "            basis='dzp')\n",
        "molecule.set_calculator(calc)\n",
        "\n",
        "# run computer simulation (using quantum mechanics to compute the electron cloud)\n",
        "energy = molecule.get_total_energy()\n",
        "\n",
        "print(\"*****\")\n",
        "print(\" The energy of the molecule is \"+str(energy)+\" eV\")\n",
        "print(\"*****\")"
      ],
      "metadata": {
        "id": "qcYH-7thG6_Q"
      },
      "execution_count": null,
      "outputs": []
    },
    {
      "cell_type": "markdown",
      "source": [
        "# 4. Visualize the electron cloud of the molecule &#x269B;\n",
        "\n",
        "The electron cloud represents the probability distribution of an electron's position around an atom or molecule, derived from simulations. It shows where the electron is most likely to be found, with denser areas indicating higher probability. This is the 'cloud' that determines bonding."
      ],
      "metadata": {
        "id": "zbzZ4hq1gzZo"
      }
    },
    {
      "cell_type": "code",
      "source": [
        "# convert electron cloud\n",
        "n = calc.get_all_electron_density(gridrefinement=4)\n",
        "nred = n[::3,::3,::3]\n",
        "X, Y, Z = np.mgrid[0:7:60j, 0:7:60j, 0:7:60j]\n",
        "\n",
        "# show electron cloud\n",
        "fig = go.Figure(data=go.Isosurface(\n",
        "    x=X.flatten(),\n",
        "    y=Y.flatten(),\n",
        "    z=Z.flatten(),\n",
        "    value=nred.flatten(),\n",
        "    isomin=0.1,\n",
        "    isomax=1,\n",
        "    surface_count=5,\n",
        "    colorbar_nticks=5,\n",
        "    caps=dict(x_show=False, y_show=False),\n",
        "    opacity=0.3\n",
        "    ))\n",
        "\n",
        "fig.show()"
      ],
      "metadata": {
        "id": "nbY4CAsTNdeF"
      },
      "execution_count": null,
      "outputs": []
    }
  ],
  "metadata": {
    "colab": {
      "provenance": [],
      "toc_visible": true,
      "include_colab_link": true
    },
    "gpuClass": "standard",
    "kernelspec": {
      "display_name": "Python 3",
      "name": "python3"
    }
  },
  "nbformat": 4,
  "nbformat_minor": 0
}
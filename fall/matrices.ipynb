{
  "nbformat": 4,
  "nbformat_minor": 0,
  "metadata": {
    "colab": {
      "provenance": [],
      "include_colab_link": true
    },
    "kernelspec": {
      "name": "python3",
      "display_name": "Python 3"
    },
    "language_info": {
      "name": "python"
    }
  },
  "cells": [
    {
      "cell_type": "markdown",
      "metadata": {
        "id": "view-in-github",
        "colab_type": "text"
      },
      "source": [
        "<a href=\"https://colab.research.google.com/github/kkipngenokoech/Material-Science/blob/main/fall/matrices.ipynb\" target=\"_parent\"><img src=\"https://colab.research.google.com/assets/colab-badge.svg\" alt=\"Open In Colab\"/></a>"
      ]
    },
    {
      "cell_type": "code",
      "execution_count": null,
      "metadata": {
        "id": "tpfwORl1HEnb"
      },
      "outputs": [],
      "source": [
        "import numpy as np"
      ]
    },
    {
      "cell_type": "code",
      "source": [
        "H = np.array([\n",
        "    [ -558,  -0.7,     0,     0,   33.4, -89.4,  -89.4],\n",
        "    [ -0.7, -16.2,     0,     0,   30.5, -70.7,  -70.7],\n",
        "    [    0,     0, -12.6,     0,      0,     0,      0],\n",
        "    [    0,     0,     0, -11.3,      0,     8,     -8],\n",
        "    [ 33.3,  30.5,     0,     0,   -447,   817,    817],\n",
        "    [-89.4, -70.7,     0,     8,    817, -1510,  -1510],\n",
        "    [-89.4, -70.7,     0,    -8,    817, -1510,  -1510]\n",
        "    ])"
      ],
      "metadata": {
        "id": "hqxGMNC7HJZN"
      },
      "execution_count": null,
      "outputs": []
    },
    {
      "cell_type": "code",
      "source": [
        "S = np.array([\n",
        "    [ 1.0074,    0.1076,         0,         0,   -0.4705,    0.8672,    0.8672],\n",
        "    [ 0.1076,    2.3527,         0,         0,   -6.5300,   11.3982,   11.3982],\n",
        "    [      0,         0,    1.0000,         0,         0,         0,         0],\n",
        "    [      0,         0,         0,    1.6958,    0.0000,   -0.0000,   -0.0000],\n",
        "    [-0.4705,   -6.5300,         0,    0.0000,   30.4182,  -51.2613,  -51.2613],\n",
        "    [ 0.8672,   11.3982,         0,    0.0000,  -51.2613,   88.9225,   88.0903],\n",
        "    [ 0.8672,   11.3982,         0,    0.0000,  -51.2613,   88.0903,   88.9225],\n",
        "    ])"
      ],
      "metadata": {
        "id": "vp7h47nvIGUG"
      },
      "execution_count": null,
      "outputs": []
    },
    {
      "cell_type": "code",
      "source": [
        "from scipy.linalg import eigh"
      ],
      "metadata": {
        "id": "LpdRhGyfRhfM"
      },
      "execution_count": null,
      "outputs": []
    }
  ]
}
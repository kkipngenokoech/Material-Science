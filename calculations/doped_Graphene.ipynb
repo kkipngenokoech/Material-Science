{
  "nbformat": 4,
  "nbformat_minor": 0,
  "metadata": {
    "colab": {
      "provenance": [],
      "gpuType": "T4",
      "authorship_tag": "ABX9TyMwq9LW1zsM0D7+52W2tI8W",
      "include_colab_link": true
    },
    "kernelspec": {
      "name": "python3",
      "display_name": "Python 3"
    },
    "language_info": {
      "name": "python"
    },
    "accelerator": "GPU"
  },
  "cells": [
    {
      "cell_type": "markdown",
      "metadata": {
        "id": "view-in-github",
        "colab_type": "text"
      },
      "source": [
        "<a href=\"https://colab.research.google.com/github/kkipngenokoech/Material-Science/blob/main/calculations/doped_Graphene.ipynb\" target=\"_parent\"><img src=\"https://colab.research.google.com/assets/colab-badge.svg\" alt=\"Open In Colab\"/></a>"
      ]
    },
    {
      "cell_type": "code",
      "source": [
        "!nvidia-smi"
      ],
      "metadata": {
        "id": "83ftdiEU5VyW",
        "colab": {
          "base_uri": "https://localhost:8080/"
        },
        "outputId": "48cbee54-f3ea-4808-8412-7307f549a519"
      },
      "execution_count": 2,
      "outputs": [
        {
          "output_type": "stream",
          "name": "stdout",
          "text": [
            "Tue Jul 29 15:59:39 2025       \n",
            "+-----------------------------------------------------------------------------------------+\n",
            "| NVIDIA-SMI 550.54.15              Driver Version: 550.54.15      CUDA Version: 12.4     |\n",
            "|-----------------------------------------+------------------------+----------------------+\n",
            "| GPU  Name                 Persistence-M | Bus-Id          Disp.A | Volatile Uncorr. ECC |\n",
            "| Fan  Temp   Perf          Pwr:Usage/Cap |           Memory-Usage | GPU-Util  Compute M. |\n",
            "|                                         |                        |               MIG M. |\n",
            "|=========================================+========================+======================|\n",
            "|   0  Tesla T4                       Off |   00000000:00:04.0 Off |                    0 |\n",
            "| N/A   44C    P8              9W /   70W |       0MiB /  15360MiB |      0%      Default |\n",
            "|                                         |                        |                  N/A |\n",
            "+-----------------------------------------+------------------------+----------------------+\n",
            "                                                                                         \n",
            "+-----------------------------------------------------------------------------------------+\n",
            "| Processes:                                                                              |\n",
            "|  GPU   GI   CI        PID   Type   Process name                              GPU Memory |\n",
            "|        ID   ID                                                               Usage      |\n",
            "|=========================================================================================|\n",
            "|  No running processes found                                                             |\n",
            "+-----------------------------------------------------------------------------------------+\n"
          ]
        }
      ]
    },
    {
      "cell_type": "code",
      "source": [
        "# eliminate text output during installation\n",
        "%%capture\n",
        "\n",
        "# install mathematical libraries to peform fast Fourier transforms\n",
        "# (the exclamation mark means that the command is run under Linux)\n",
        "! apt-get install -y libfftw3-3 libfftw3-dev libfftw3-doc"
      ],
      "metadata": {
        "id": "VrwoK7hIjDB_"
      },
      "execution_count": 3,
      "outputs": []
    },
    {
      "cell_type": "code",
      "source": [
        "\n",
        "# eliminate text output during installation\n",
        "%%capture\n",
        "\n",
        "# install the Atomic simulation environment\n",
        "# ! apt install ase\n",
        "! pip install git+https://gitlab.com/ase/ase"
      ],
      "metadata": {
        "id": "xnD1Gf1CjFRX"
      },
      "execution_count": 4,
      "outputs": []
    },
    {
      "cell_type": "markdown",
      "source": [
        "## Loading Libraries"
      ],
      "metadata": {
        "id": "s1sTuzu5yOoe"
      }
    },
    {
      "cell_type": "code",
      "source": [
        "import ase.io\n",
        "import matplotlib.pyplot as plt\n",
        "import numpy as np\n",
        "import re"
      ],
      "metadata": {
        "id": "7lAbGW99m1jT"
      },
      "execution_count": 5,
      "outputs": []
    },
    {
      "cell_type": "code",
      "source": [
        "# eliminate text output during installation\n",
        "%%capture\n",
        "\n",
        "# navigate to main directory named '/content/'\n",
        "%cd /content/\n",
        "\n",
        "# download the pre-compiled files in compressed format (under Linux)\n",
        "#! wget 'https://docs.google.com/uc?export=download&id=1kw_CJMjP6ggDZXDNp5phAqCPpoe2WXCA' -O qe-lite.tgz\n",
        "!gdown 'https://drive.google.com/uc?export=download&id=13l-Kiyg-F6aYb5lF8M3RsE1hSnLRdGna' -O qe-lite.tgz\n",
        "\n",
        "# unpack the compressed files (under Linux)\n",
        "! tar -xvzf qe-lite.tgz\n",
        "\n",
        "# clean up some files\n",
        "! rm -rf sample_data qe-lite.tgz"
      ],
      "metadata": {
        "id": "vN51ckNjjHMr"
      },
      "execution_count": 6,
      "outputs": []
    },
    {
      "cell_type": "code",
      "source": [
        "!ls"
      ],
      "metadata": {
        "colab": {
          "base_uri": "https://localhost:8080/"
        },
        "id": "SasoO6D6jNTs",
        "outputId": "9cc72b99-690e-4fc6-f273-7890b08e3b39"
      },
      "execution_count": 7,
      "outputs": [
        {
          "output_type": "stream",
          "name": "stdout",
          "text": [
            "qe-lite\n"
          ]
        }
      ]
    },
    {
      "cell_type": "code",
      "source": [
        "%cd /content/qe-lite/pseudopotentials/\n",
        "!wget 'http://pseudopotentials.quantum-espresso.org/upf_files/C.pbe-n-kjpaw_psl.1.0.0.UPF'\n",
        "!wget 'https://pseudopotentials.quantum-espresso.org/upf_files/N.pbe-n-kjpaw_psl.1.0.0.UPF'\n",
        "!mv C.pbe-n-kjpaw_psl.1.0.0.UPF C.upf\n",
        "!mv N.pbe-n-kjpaw_psl.1.0.0.UPF N.upf\n",
        "!ls"
      ],
      "metadata": {
        "colab": {
          "base_uri": "https://localhost:8080/"
        },
        "id": "ppy4fbH7jQ3J",
        "outputId": "a59f9240-bdfb-4c1b-ab3b-f18223fbe91b"
      },
      "execution_count": 8,
      "outputs": [
        {
          "output_type": "stream",
          "name": "stdout",
          "text": [
            "/content/qe-lite/pseudopotentials\n",
            "--2025-07-29 16:00:20--  http://pseudopotentials.quantum-espresso.org/upf_files/C.pbe-n-kjpaw_psl.1.0.0.UPF\n",
            "Resolving pseudopotentials.quantum-espresso.org (pseudopotentials.quantum-espresso.org)... 51.77.118.191\n",
            "Connecting to pseudopotentials.quantum-espresso.org (pseudopotentials.quantum-espresso.org)|51.77.118.191|:80... connected.\n",
            "HTTP request sent, awaiting response... 200 OK\n",
            "Length: 858332 (838K)\n",
            "Saving to: ‘C.pbe-n-kjpaw_psl.1.0.0.UPF’\n",
            "\n",
            "C.pbe-n-kjpaw_psl.1 100%[===================>] 838.21K   694KB/s    in 1.2s    \n",
            "\n",
            "2025-07-29 16:00:22 (694 KB/s) - ‘C.pbe-n-kjpaw_psl.1.0.0.UPF’ saved [858332/858332]\n",
            "\n",
            "--2025-07-29 16:00:22--  https://pseudopotentials.quantum-espresso.org/upf_files/N.pbe-n-kjpaw_psl.1.0.0.UPF\n",
            "Resolving pseudopotentials.quantum-espresso.org (pseudopotentials.quantum-espresso.org)... 51.77.118.191\n",
            "Connecting to pseudopotentials.quantum-espresso.org (pseudopotentials.quantum-espresso.org)|51.77.118.191|:443... connected.\n",
            "HTTP request sent, awaiting response... 200 OK\n",
            "Length: 867018 (847K)\n",
            "Saving to: ‘N.pbe-n-kjpaw_psl.1.0.0.UPF’\n",
            "\n",
            "N.pbe-n-kjpaw_psl.1 100%[===================>] 846.70K   606KB/s    in 1.4s    \n",
            "\n",
            "2025-07-29 16:00:25 (606 KB/s) - ‘N.pbe-n-kjpaw_psl.1.0.0.UPF’ saved [867018/867018]\n",
            "\n",
            "Al.upf\tAs.upf\tAu.upf\tC.upf  Ga.upf  H.upf  N.upf  O.upf  Pt.upf  Si.upf\n"
          ]
        }
      ]
    },
    {
      "cell_type": "code",
      "source": [
        "# create calculation folder and navigate into it\n",
        "%mkdir -p /content/graphene\n",
        "%cd /content/graphene/\n",
        "\n",
        "# create input and write it into the file graphene.scf.in\n",
        "# (documentation can be found at https://www.quantum-espresso.org/Doc/INPUT_PW.html)\n",
        "\n",
        "# cut-off and total enegry [10 - 100] with a step of five, a plot of cut-off and total enegry,\n",
        "# k point increase from 1 - 10\n",
        "# cell dimension along the z axis, 1 - 10 , ensure convergence\n",
        "# nitride of graphene  = 18 atoms\n",
        "\n",
        "qe_input = \"\"\"\n",
        "&CONTROL\n",
        "  calculation = 'scf'\n",
        "  restart_mode = 'from_scratch'\n",
        "  pseudo_dir= '/content/qe-lite/pseudopotentials'\n",
        "  prefix = 'graphene'\n",
        "/\n",
        "&SYSTEM\n",
        "  ibrav = 0\n",
        "  nat = 8\n",
        "  ntyp = 2\n",
        "  occupations = 'smearing'\n",
        "  smearing = 'mv'\n",
        "  degauss = 0.02\n",
        "  ecutwfc = 50\n",
        "/\n",
        "&ELECTRONS\n",
        "  mixing_beta = 0.3\n",
        "  conv_thr = 1.0d-8\n",
        "/\n",
        "ATOMIC_SPECIES\n",
        "C 12.01017 C.upf\n",
        "N 14.00670 N.upf\n",
        "\n",
        "ATOMIC_POSITIONS (crystal)\n",
        "N 0.00000  0.00000  0.0\n",
        "C 0.33333  0.66667  0.0\n",
        "C 0.50000  0.00000  0.0\n",
        "C 0.83333  0.66667  0.0\n",
        "C 0.00000  0.50000  0.0\n",
        "C 0.33333  0.16667  0.0\n",
        "C 0.50000  0.50000  0.0\n",
        "C 0.83333  0.16667  0.0\n",
        "\n",
        "\n",
        "CELL_PARAMETERS angstrom\n",
        "  4.920   0.000   0.000\n",
        " -2.460   4.260   0.000\n",
        "  0.000   0.000  15.000\n",
        "\n",
        "K_POINTS (automatic)\n",
        "10 10 1 0 0 0\n",
        "\"\"\"\n",
        "\n",
        "\n",
        "with open(\"doped_graphene.scf.in\", \"w\") as f:\n",
        "    f.write(qe_input)\n",
        "\n",
        "# print the content of the input file (under Linux)\n",
        "! cat doped_graphene.scf.in"
      ],
      "metadata": {
        "colab": {
          "base_uri": "https://localhost:8080/"
        },
        "id": "uM-ovq-jjjJB",
        "outputId": "bea388d5-8cd1-4ece-dce4-4cdfd1912afb"
      },
      "execution_count": 9,
      "outputs": [
        {
          "output_type": "stream",
          "name": "stdout",
          "text": [
            "/content/graphene\n",
            "\n",
            "&CONTROL\n",
            "  calculation = 'scf'\n",
            "  restart_mode = 'from_scratch'\n",
            "  pseudo_dir= '/content/qe-lite/pseudopotentials'\n",
            "  prefix = 'graphene'\n",
            "/\n",
            "&SYSTEM\n",
            "  ibrav = 0\n",
            "  nat = 8\n",
            "  ntyp = 2\n",
            "  occupations = 'smearing'\n",
            "  smearing = 'mv'\n",
            "  degauss = 0.02\n",
            "  ecutwfc = 50\n",
            "/\n",
            "&ELECTRONS\n",
            "  mixing_beta = 0.3\n",
            "  conv_thr = 1.0d-8\n",
            "/\n",
            "ATOMIC_SPECIES\n",
            "C 12.01017 C.upf\n",
            "N 14.00670 N.upf\n",
            "\n",
            "ATOMIC_POSITIONS (crystal)\n",
            "N 0.00000  0.00000  0.0\n",
            "C 0.33333  0.66667  0.0\n",
            "C 0.50000  0.00000  0.0\n",
            "C 0.83333  0.66667  0.0\n",
            "C 0.00000  0.50000  0.0\n",
            "C 0.33333  0.16667  0.0\n",
            "C 0.50000  0.50000  0.0\n",
            "C 0.83333  0.16667  0.0\n",
            "\n",
            "\n",
            "CELL_PARAMETERS angstrom\n",
            "  4.920   0.000   0.000\n",
            " -2.460   4.260   0.000\n",
            "  0.000   0.000  15.000\n",
            "\n",
            "K_POINTS (automatic)\n",
            "10 10 1 0 0 0\n"
          ]
        }
      ]
    },
    {
      "cell_type": "code",
      "source": [
        "# run the pw.x executable using si.scf.in to create si.scf.out\n",
        "! /content/qe-lite/bin/pw.x < doped_graphene.scf.in > graphene.scf.out\n",
        "\n",
        "# print the content of the output file (under Linux)\n",
        "! cat graphene.scf.out"
      ],
      "metadata": {
        "colab": {
          "base_uri": "https://localhost:8080/"
        },
        "id": "ql_y3A3SkIYt",
        "outputId": "c4c3888b-2a49-48bd-c5f0-4b3a0d610d76"
      },
      "execution_count": 10,
      "outputs": [
        {
          "output_type": "stream",
          "name": "stdout",
          "text": [
            "\n",
            "     Program PWSCF v.7.4 starts on 29Jul2025 at 16: 0:25 \n",
            "\n",
            "     This program is part of the open-source Quantum ESPRESSO suite\n",
            "     for quantum simulation of materials; please cite\n",
            "         \"P. Giannozzi et al., J. Phys.:Condens. Matter 21 395502 (2009);\n",
            "         \"P. Giannozzi et al., J. Phys.:Condens. Matter 29 465901 (2017);\n",
            "         \"P. Giannozzi et al., J. Chem. Phys. 152 154105 (2020);\n",
            "          URL http://www.quantum-espresso.org\", \n",
            "     in publications or presentations arising from this work. More details at\n",
            "     http://www.quantum-espresso.org/quote\n",
            "\n",
            "     Serial version\n",
            "     7610 MiB available memory on the printing compute node when the environment starts\n",
            "\n",
            "     Waiting for input...\n",
            "     Reading input from standard input\n",
            "\n",
            "     Current dimensions of program PWSCF are:\n",
            "     Max number of different atomic species (ntypx) = 10\n",
            "     Max number of k-points (npk) =  40000\n",
            "     Max angular momentum in pseudopotentials (lmaxx) =  4\n",
            "     file C.upf: wavefunction(s)  2S 2P renormalized\n",
            "     file N.upf: wavefunction(s)  2S renormalized\n",
            "     Message from routine setup:\n",
            "     using ibrav=0 with symmetry is DISCOURAGED, use correct ibrav instead\n",
            "\n",
            "\n",
            "     G-vector sticks info\n",
            "     --------------------\n",
            "     sticks:   dense  smooth     PW     G-vecs:    dense   smooth      PW\n",
            "     Sum        1189    1189    349               101363   101363   15381\n",
            "\n",
            "     Using Slab Decomposition\n",
            "\n",
            "\n",
            "\n",
            "     bravais-lattice index     =            0\n",
            "     lattice parameter (alat)  =       9.2975  a.u.\n",
            "     unit-cell volume          =    2121.5954 (a.u.)^3\n",
            "     number of atoms/cell      =            8\n",
            "     number of atomic types    =            2\n",
            "     number of electrons       =        33.00\n",
            "     number of Kohn-Sham states=           21\n",
            "     kinetic-energy cutoff     =      50.0000  Ry\n",
            "     charge density cutoff     =     200.0000  Ry\n",
            "     scf convergence threshold =      1.0E-08\n",
            "     mixing beta               =       0.3000\n",
            "     number of iterations used =            8  plain     mixing\n",
            "     Exchange-correlation= SLA  PW   PBX  PBC\n",
            "                           (   1   4   3   4   0   0   0)\n",
            "\n",
            "     celldm(1)=   9.297453  celldm(2)=   0.000000  celldm(3)=   0.000000\n",
            "     celldm(4)=   0.000000  celldm(5)=   0.000000  celldm(6)=   0.000000\n",
            "\n",
            "     crystal axes: (cart. coord. in units of alat)\n",
            "               a(1) = (   1.000000   0.000000   0.000000 )  \n",
            "               a(2) = (  -0.500000   0.865854   0.000000 )  \n",
            "               a(3) = (   0.000000   0.000000   3.048780 )  \n",
            "\n",
            "     reciprocal axes: (cart. coord. in units 2 pi/alat)\n",
            "               b(1) = (  1.000000  0.577465 -0.000000 )  \n",
            "               b(2) = (  0.000000  1.154930  0.000000 )  \n",
            "               b(3) = (  0.000000 -0.000000  0.328000 )  \n",
            "\n",
            "\n",
            "     PseudoPot. # 1 for C  read from file:\n",
            "     /content/qe-lite/pseudopotentials/C.upf\n",
            "     MD5 check sum: 5f16ad9a65e90284d1d834d4ab3b0f7d\n",
            "     Pseudo is Projector augmented-wave + core cor, Zval =  4.0\n",
            "     Generated using &quot;atomic&quot; code by A. Dal Corso  v.6.3\n",
            "     Shape of augmentation charge: PSQ\n",
            "     Using radial grid of 1073 points,  4 beta functions with: \n",
            "                l(1) =   0\n",
            "                l(2) =   0\n",
            "                l(3) =   1\n",
            "                l(4) =   1\n",
            "     Q(r) pseudized with 0 coefficients \n",
            "\n",
            "\n",
            "     PseudoPot. # 2 for N  read from file:\n",
            "     /content/qe-lite/pseudopotentials/N.upf\n",
            "     MD5 check sum: 14c48229446f9f2d411169a3abcbc3fa\n",
            "     Pseudo is Projector augmented-wave + core cor, Zval =  5.0\n",
            "     Generated using &quot;atomic&quot; code by A. Dal Corso  v.6.3\n",
            "     Shape of augmentation charge: PSQ\n",
            "     Using radial grid of 1085 points,  4 beta functions with: \n",
            "                l(1) =   0\n",
            "                l(2) =   0\n",
            "                l(3) =   1\n",
            "                l(4) =   1\n",
            "     Q(r) pseudized with 0 coefficients \n",
            "\n",
            "\n",
            "     atomic species   valence    mass     pseudopotential\n",
            "     C                 4.00    12.01017     C ( 1.00)\n",
            "     N                 5.00    14.00670     N ( 1.00)\n",
            "\n",
            "      4 Sym. Ops. (no inversion) found\n",
            "\n",
            "\n",
            "\n",
            "   Cartesian axes\n",
            "\n",
            "     site n.     atom                  positions (alat units)\n",
            "         1        N      tau(   1) = (   0.0000000   0.0000000   0.0000000  )\n",
            "         2        C      tau(   2) = (  -0.0000050   0.5772387   0.0000000  )\n",
            "         3        C      tau(   3) = (   0.5000000   0.0000000   0.0000000  )\n",
            "         4        C      tau(   4) = (   0.4999950   0.5772387   0.0000000  )\n",
            "         5        C      tau(   5) = (  -0.2500000   0.4329268   0.0000000  )\n",
            "         6        C      tau(   6) = (   0.2499950   0.1443118   0.0000000  )\n",
            "         7        C      tau(   7) = (   0.2500000   0.4329268   0.0000000  )\n",
            "         8        C      tau(   8) = (   0.7499950   0.1443118   0.0000000  )\n",
            "\n",
            "     number of k points=    31  Marzari-Vanderbilt smearing, width (Ry)=  0.0200\n",
            "                       cart. coord. in units 2pi/alat\n",
            "        k(    1) = (   0.0000000   0.0000000   0.0000000), wk =   0.0200000\n",
            "        k(    2) = (   0.0000000   0.1154930   0.0000000), wk =   0.0400000\n",
            "        k(    3) = (   0.0000000   0.2309859   0.0000000), wk =   0.0400000\n",
            "        k(    4) = (   0.0000000   0.3464789   0.0000000), wk =   0.0400000\n",
            "        k(    5) = (   0.0000000   0.4619718   0.0000000), wk =   0.0400000\n",
            "        k(    6) = (   0.0000000  -0.5774648   0.0000000), wk =   0.0200000\n",
            "        k(    7) = (   0.1000000   0.0577465   0.0000000), wk =   0.0800000\n",
            "        k(    8) = (   0.1000000   0.1732394   0.0000000), wk =   0.0800000\n",
            "        k(    9) = (   0.1000000   0.2887324   0.0000000), wk =   0.0800000\n",
            "        k(   10) = (   0.1000000   0.4042254   0.0000000), wk =   0.0800000\n",
            "        k(   11) = (   0.1000000   0.5197183   0.0000000), wk =   0.0800000\n",
            "        k(   12) = (   0.2000000   0.1154930   0.0000000), wk =   0.0800000\n",
            "        k(   13) = (   0.2000000   0.2309859   0.0000000), wk =   0.0800000\n",
            "        k(   14) = (   0.2000000   0.3464789   0.0000000), wk =   0.0800000\n",
            "        k(   15) = (   0.2000000   0.4619718   0.0000000), wk =   0.0800000\n",
            "        k(   16) = (   0.2000000   0.5774648   0.0000000), wk =   0.0400000\n",
            "        k(   17) = (   0.2000000   0.0000000   0.0000000), wk =   0.0400000\n",
            "        k(   18) = (   0.3000000   0.1732394   0.0000000), wk =   0.0800000\n",
            "        k(   19) = (   0.3000000   0.2887324   0.0000000), wk =   0.0800000\n",
            "        k(   20) = (   0.3000000   0.4042254   0.0000000), wk =   0.0800000\n",
            "        k(   21) = (   0.3000000   0.5197183   0.0000000), wk =   0.0800000\n",
            "        k(   22) = (   0.3000000  -0.0577465   0.0000000), wk =   0.0800000\n",
            "        k(   23) = (   0.4000000   0.2309859   0.0000000), wk =   0.0800000\n",
            "        k(   24) = (   0.4000000   0.3464789   0.0000000), wk =   0.0800000\n",
            "        k(   25) = (   0.4000000   0.4619718   0.0000000), wk =   0.0800000\n",
            "        k(   26) = (   0.4000000   0.5774648   0.0000000), wk =   0.0400000\n",
            "        k(   27) = (   0.4000000  -0.1154930   0.0000000), wk =   0.0800000\n",
            "        k(   28) = (   0.4000000   0.0000000   0.0000000), wk =   0.0400000\n",
            "        k(   29) = (  -0.5000000  -0.2887324   0.0000000), wk =   0.0400000\n",
            "        k(   30) = (  -0.5000000  -0.1732394   0.0000000), wk =   0.0800000\n",
            "        k(   31) = (  -0.5000000  -0.0577465   0.0000000), wk =   0.0800000\n",
            "\n",
            "     Dense  grid:   101363 G-vectors     FFT dimensions: (  45,  45, 128)\n",
            "\n",
            "     Estimated max dynamical RAM per process >     283.28 MB\n",
            "\n",
            "     Check: negative core charge=   -0.000025\n",
            "\n",
            "     Initial potential from superposition of free atoms\n",
            "\n",
            "     starting charge      32.9997, renormalised to      33.0000\n",
            "\n",
            "     negative rho (up, down):  6.301E-04 0.000E+00\n",
            "     Starting wfcs are   32 randomized atomic wfcs\n",
            "\n",
            "     total cpu time spent up to now is       11.0 secs\n",
            "\n",
            "     Self-consistent Calculation\n",
            "\n",
            "     iteration #  1     ecut=    50.00 Ry     beta= 0.30\n",
            "     Davidson diagonalization with overlap\n",
            "     ethr =  1.00E-02,  avg # of iterations =  2.1\n",
            "\n",
            "     negative rho (up, down):  7.017E-04 0.000E+00\n",
            "\n",
            "     total cpu time spent up to now is       28.3 secs\n",
            "\n",
            "     total energy              =    -157.31063453 Ry\n",
            "     estimated scf accuracy    <       0.71176464 Ry\n",
            "\n",
            "     iteration #  2     ecut=    50.00 Ry     beta= 0.30\n",
            "     Davidson diagonalization with overlap\n",
            "     ethr =  2.16E-03,  avg # of iterations =  1.2\n",
            "\n",
            "     negative rho (up, down):  1.022E-03 0.000E+00\n",
            "\n",
            "     total cpu time spent up to now is       40.5 secs\n",
            "\n",
            "     total energy              =    -157.21043325 Ry\n",
            "     estimated scf accuracy    <       0.24229144 Ry\n",
            "\n",
            "     iteration #  3     ecut=    50.00 Ry     beta= 0.30\n",
            "     Davidson diagonalization with overlap\n",
            "     ethr =  7.34E-04,  avg # of iterations =  8.9\n",
            "\n",
            "     negative rho (up, down):  1.148E-03 0.000E+00\n",
            "\n",
            "     total cpu time spent up to now is       59.6 secs\n",
            "\n",
            "     total energy              =    -157.24151908 Ry\n",
            "     estimated scf accuracy    <       0.00990706 Ry\n",
            "\n",
            "     iteration #  4     ecut=    50.00 Ry     beta= 0.30\n",
            "     Davidson diagonalization with overlap\n",
            "     ethr =  3.00E-05,  avg # of iterations =  8.2\n",
            "\n",
            "     negative rho (up, down):  1.297E-03 0.000E+00\n",
            "\n",
            "     total cpu time spent up to now is       77.2 secs\n",
            "\n",
            "     total energy              =    -157.24260332 Ry\n",
            "     estimated scf accuracy    <       0.00241513 Ry\n",
            "\n",
            "     iteration #  5     ecut=    50.00 Ry     beta= 0.30\n",
            "     Davidson diagonalization with overlap\n",
            "     ethr =  7.32E-06,  avg # of iterations =  4.7\n",
            "\n",
            "     negative rho (up, down):  1.304E-03 0.000E+00\n",
            "\n",
            "     total cpu time spent up to now is       92.0 secs\n",
            "\n",
            "     total energy              =    -157.24279644 Ry\n",
            "     estimated scf accuracy    <       0.00027787 Ry\n",
            "\n",
            "     iteration #  6     ecut=    50.00 Ry     beta= 0.30\n",
            "     Davidson diagonalization with overlap\n",
            "     ethr =  8.42E-07,  avg # of iterations =  3.4\n",
            "\n",
            "     negative rho (up, down):  1.312E-03 0.000E+00\n",
            "\n",
            "     total cpu time spent up to now is      106.2 secs\n",
            "\n",
            "     total energy              =    -157.24280462 Ry\n",
            "     estimated scf accuracy    <       0.00006542 Ry\n",
            "\n",
            "     iteration #  7     ecut=    50.00 Ry     beta= 0.30\n",
            "     Davidson diagonalization with overlap\n",
            "     ethr =  1.98E-07,  avg # of iterations =  3.1\n",
            "\n",
            "     negative rho (up, down):  1.316E-03 0.000E+00\n",
            "\n",
            "     total cpu time spent up to now is      123.4 secs\n",
            "\n",
            "     total energy              =    -157.24282324 Ry\n",
            "     estimated scf accuracy    <       0.00001716 Ry\n",
            "\n",
            "     iteration #  8     ecut=    50.00 Ry     beta= 0.30\n",
            "     Davidson diagonalization with overlap\n",
            "     ethr =  5.20E-08,  avg # of iterations =  2.0\n",
            "\n",
            "     negative rho (up, down):  1.318E-03 0.000E+00\n",
            "\n",
            "     total cpu time spent up to now is      137.0 secs\n",
            "\n",
            "     total energy              =    -157.24282485 Ry\n",
            "     estimated scf accuracy    <       0.00000118 Ry\n",
            "\n",
            "     iteration #  9     ecut=    50.00 Ry     beta= 0.30\n",
            "     Davidson diagonalization with overlap\n",
            "     ethr =  3.59E-09,  avg # of iterations =  4.2\n",
            "\n",
            "     negative rho (up, down):  1.318E-03 0.000E+00\n",
            "\n",
            "     total cpu time spent up to now is      155.4 secs\n",
            "\n",
            "     total energy              =    -157.24282527 Ry\n",
            "     estimated scf accuracy    <       0.00000219 Ry\n",
            "\n",
            "     iteration # 10     ecut=    50.00 Ry     beta= 0.30\n",
            "     Davidson diagonalization with overlap\n",
            "     ethr =  3.59E-09,  avg # of iterations =  2.0\n",
            "\n",
            "     negative rho (up, down):  1.318E-03 0.000E+00\n",
            "\n",
            "     total cpu time spent up to now is      169.6 secs\n",
            "\n",
            "     total energy              =    -157.24282538 Ry\n",
            "     estimated scf accuracy    <       0.00000022 Ry\n",
            "\n",
            "     iteration # 11     ecut=    50.00 Ry     beta= 0.30\n",
            "     Davidson diagonalization with overlap\n",
            "     ethr =  6.74E-10,  avg # of iterations =  3.2\n",
            "\n",
            "     negative rho (up, down):  1.318E-03 0.000E+00\n",
            "\n",
            "     total cpu time spent up to now is      187.2 secs\n",
            "\n",
            "     total energy              =    -157.24282545 Ry\n",
            "     estimated scf accuracy    <       0.00000003 Ry\n",
            "\n",
            "     iteration # 12     ecut=    50.00 Ry     beta= 0.30\n",
            "     Davidson diagonalization with overlap\n",
            "     ethr =  7.88E-11,  avg # of iterations =  2.1\n",
            "\n",
            "     negative rho (up, down):  1.318E-03 0.000E+00\n",
            "\n",
            "     total cpu time spent up to now is      202.2 secs\n",
            "\n",
            "     End of self-consistent calculation\n",
            "\n",
            "          k = 0.0000 0.0000 0.0000 ( 12735 PWs)   bands (ev):\n",
            "\n",
            "   -23.1941 -18.7108 -16.5465 -16.5452 -15.5442 -15.5439 -15.2934  -9.8862\n",
            "    -9.3411  -9.3393  -8.4520  -5.4621  -5.4292  -5.4281  -4.2233  -4.2215\n",
            "    -0.8784  -0.1420  -0.1415   1.1112   2.0604\n",
            "\n",
            "          k = 0.0000 0.1155 0.0000 ( 12692 PWs)   bands (ev):\n",
            "\n",
            "   -23.1598 -18.8556 -16.8101 -16.7349 -15.6324 -15.2622 -14.5903  -9.8208\n",
            "    -9.5262  -9.3736  -8.5396  -5.6676  -5.5965  -5.5481  -4.4277  -4.2647\n",
            "    -0.7808  -0.0373   0.2417   1.1941   1.9486\n",
            "\n",
            "          k = 0.0000 0.2310 0.0000 ( 12714 PWs)   bands (ev):\n",
            "\n",
            "   -23.0638 -19.2026 -17.3020 -17.0405 -15.2239 -14.6824 -13.5504 -10.0309\n",
            "    -9.6272  -9.6074  -8.6256  -6.3334  -6.0263  -5.8673  -4.7744  -4.3664\n",
            "    -0.5444   0.2364   1.1832   1.4415   2.1955\n",
            "\n",
            "          k = 0.0000 0.3465 0.0000 ( 12676 PWs)   bands (ev):\n",
            "\n",
            "   -22.9292 -19.6008 -17.6918 -17.2904 -14.5820 -14.0027 -12.4312 -10.6981\n",
            "   -10.1522  -9.3160  -8.5065  -7.3069  -6.6704  -6.2927  -5.0091  -4.4810\n",
            "    -0.2573   0.5812   1.8513   2.3689   2.6152\n",
            "\n",
            "          k = 0.0000 0.4620 0.0000 ( 12656 PWs)   bands (ev):\n",
            "\n",
            "   -22.8025 -19.9168 -17.9238 -17.4471 -13.8729 -13.3394 -11.8504 -10.8131\n",
            "   -10.7944  -8.9264  -8.4632  -8.2848  -7.3202  -6.6991  -5.1361  -4.5665\n",
            "    -0.0213   0.8702   2.4221   3.1639   3.3764\n",
            "\n",
            "          k = 0.0000-0.5775 0.0000 ( 12652 PWs)   bands (ev):\n",
            "\n",
            "   -22.7484 -20.0390 -18.0000 -17.5001 -13.4381 -12.9933 -12.1734 -11.1420\n",
            "    -9.7516  -9.6402  -8.6698  -8.1570  -7.6715  -6.8903  -5.1771  -4.5976\n",
            "     0.0704   0.9840   3.1275   3.1758   3.8659\n",
            "\n",
            "          k = 0.1000 0.0577 0.0000 ( 12692 PWs)   bands (ev):\n",
            "\n",
            "   -23.1599 -18.8556 -16.8107 -16.7339 -15.6323 -15.2621 -14.5910  -9.8208\n",
            "    -9.5275  -9.3727  -8.5390  -5.6686  -5.5967  -5.5472  -4.4283  -4.2634\n",
            "    -0.7809  -0.0376   0.2416   1.1941   1.9486\n",
            "\n",
            "          k = 0.1000 0.1732 0.0000 ( 12693 PWs)   bands (ev):\n",
            "\n",
            "   -23.0946 -19.0913 -17.3748 -16.6532 -15.6223 -14.6759 -13.8766  -9.9384\n",
            "    -9.6912  -9.3985  -8.6686  -6.1014  -5.8590  -5.7861  -4.8301  -4.2007\n",
            "    -0.7206   0.3124   0.8215   1.3593   2.1131\n",
            "\n",
            "          k = 0.1000 0.2887 0.0000 ( 12702 PWs)   bands (ev):\n",
            "\n",
            "   -22.9784 -19.4322 -17.9112 -16.7155 -15.2709 -13.9266 -12.8864 -10.6291\n",
            "    -9.6080  -9.4381  -8.7369  -6.8770  -6.3504  -6.2025  -5.2949  -4.1005\n",
            "    -0.6710   0.8361   1.6879   1.8085   2.4427\n",
            "\n",
            "          k = 0.1000 0.4042 0.0000 ( 12672 PWs)   bands (ev):\n",
            "\n",
            "   -22.8451 -19.7608 -18.2733 -16.8549 -14.6466 -13.1964 -11.9425 -11.2368\n",
            "   -10.1173  -9.0819  -8.5870  -7.8880  -6.9798  -6.6659  -5.5800  -4.0451\n",
            "    -0.5677   1.2740   2.1785   2.9030   3.0371\n",
            "\n",
            "          k = 0.1000 0.5197 0.0000 ( 12632 PWs)   bands (ev):\n",
            "\n",
            "   -22.7509 -19.9678 -18.4498 -16.9414 -14.0345 -12.7136 -12.1431 -10.8653\n",
            "   -10.2023  -9.0900  -8.7118  -8.3347  -7.5207  -7.0163  -5.7083  -4.0265\n",
            "    -0.4798   1.5318   2.8293   3.5718   3.6335\n",
            "\n",
            "          k = 0.2000 0.1155 0.0000 ( 12714 PWs)   bands (ev):\n",
            "\n",
            "   -23.0638 -19.2028 -17.3018 -17.0395 -15.2240 -14.6826 -13.5516 -10.0320\n",
            "    -9.6272  -9.6077  -8.6236  -6.3346  -6.0270  -5.8660  -4.7740  -4.3650\n",
            "    -0.5447   0.2359   1.1827   1.4414   2.1954\n",
            "\n",
            "          k = 0.2000 0.2310 0.0000 ( 12702 PWs)   bands (ev):\n",
            "\n",
            "   -22.9785 -19.4324 -17.9108 -16.7149 -15.2715 -13.9264 -12.8872 -10.6290\n",
            "    -9.6094  -9.4382  -8.7352  -6.8780  -6.3510  -6.2014  -5.2940  -4.1001\n",
            "    -0.6713   0.8359   1.6878   1.8082   2.4426\n",
            "\n",
            "          k = 0.2000 0.3465 0.0000 ( 12665 PWs)   bands (ev):\n",
            "\n",
            "   -22.8615 -19.6541 -18.4978 -16.3241 -15.2426 -13.0224 -12.0978 -11.3733\n",
            "    -9.5302  -9.1370  -8.9990  -7.6075  -6.7440  -6.7290  -5.9251  -3.6953\n",
            "    -0.9448   1.6775   2.0974   2.5982   2.8538\n",
            "\n",
            "          k = 0.2000 0.4620 0.0000 ( 12646 PWs)   bands (ev):\n",
            "\n",
            "   -22.7549 -19.8112 -18.8856 -16.1997 -14.8307 -12.6693 -11.8651 -11.0009\n",
            "    -9.8282  -9.0330  -8.7684  -8.3986  -7.2909  -7.1882  -6.3037  -3.3829\n",
            "    -1.1452   2.2340   2.6688   3.4161   3.6275\n",
            "\n",
            "          k = 0.2000 0.5775 0.0000 ( 12624 PWs)   bands (ev):\n",
            "\n",
            "   -22.7105 -19.8694 -19.0206 -16.1940 -14.4967 -12.9809 -11.5266 -10.5750\n",
            "    -9.7902  -9.4852  -8.5928  -8.5389  -7.5561  -7.4714  -6.4119  -3.2639\n",
            "    -1.2193   2.4200   3.3804   3.4205   4.1137\n",
            "\n",
            "          k = 0.2000 0.0000 0.0000 ( 12687 PWs)   bands (ev):\n",
            "\n",
            "   -23.0946 -19.0913 -17.3754 -16.6510 -15.6231 -14.6761 -13.8775  -9.9402\n",
            "    -9.6913  -9.3972  -8.6677  -6.1011  -5.8594  -5.7865  -4.8310  -4.1984\n",
            "    -0.7214   0.3122   0.8213   1.3592   2.1130\n",
            "\n",
            "          k = 0.3000 0.1732 0.0000 ( 12676 PWs)   bands (ev):\n",
            "\n",
            "   -22.9293 -19.6011 -17.6911 -17.2893 -14.5824 -14.0033 -12.4329 -10.6987\n",
            "   -10.1528  -9.3162  -8.5040  -7.3084  -6.6712  -6.2910  -5.0081  -4.4796\n",
            "    -0.2578   0.5805   1.8511   2.3682   2.6149\n",
            "\n",
            "          k = 0.3000 0.2887 0.0000 ( 12670 PWs)   bands (ev):\n",
            "\n",
            "   -22.8452 -19.7611 -18.2725 -16.8539 -14.6479 -13.1962 -11.9436 -11.2368\n",
            "   -10.1185  -9.0821  -8.5849  -7.8896  -6.9807  -6.6640  -5.5787  -4.0442\n",
            "    -0.5684   1.2735   2.1783   2.9027   3.0365\n",
            "\n",
            "          k = 0.3000 0.4042 0.0000 ( 12646 PWs)   bands (ev):\n",
            "\n",
            "   -22.7549 -19.8114 -18.8852 -16.1986 -14.8320 -12.6692 -11.8652 -11.0016\n",
            "    -9.8288  -9.0320  -8.7685  -8.3996  -7.2895  -7.1888  -6.3029  -3.3822\n",
            "    -1.1459   2.2338   2.6687   3.4162   3.6276\n",
            "\n",
            "          k = 0.3000 0.5197 0.0000 ( 12630 PWs)   bands (ev):\n",
            "\n",
            "   -22.6956 -19.7207 -19.3327 -15.6591 -14.9338 -13.1677 -11.0005 -10.5352\n",
            "    -9.9250  -9.3871  -8.5859  -8.4860  -7.9736  -7.2506  -6.8528  -2.7764\n",
            "    -1.6997   2.9195   3.3203   4.0799   4.1114\n",
            "\n",
            "          k = 0.3000-0.0577 0.0000 ( 12702 PWs)   bands (ev):\n",
            "\n",
            "   -22.9785 -19.4323 -17.9113 -16.7132 -15.2717 -13.9272 -12.8880 -10.6306\n",
            "    -9.6072  -9.4383  -8.7350  -6.8770  -6.3511  -6.2025  -5.2949  -4.0979\n",
            "    -0.6723   0.8355   1.6877   1.8080   2.4426\n",
            "\n",
            "          k = 0.4000 0.2310 0.0000 ( 12656 PWs)   bands (ev):\n",
            "\n",
            "   -22.8027 -19.9172 -17.9229 -17.4459 -13.8737 -13.3405 -11.8514 -10.8141\n",
            "   -10.7945  -8.9268  -8.4649  -8.2825  -7.3209  -6.6969  -5.1349  -4.5650\n",
            "    -0.0221   0.8692   2.4217   3.1635   3.3761\n",
            "\n",
            "          k = 0.4000 0.3465 0.0000 ( 12630 PWs)   bands (ev):\n",
            "\n",
            "   -22.7510 -19.9682 -18.4490 -16.9400 -14.0363 -12.7137 -12.1434 -10.8660\n",
            "   -10.2030  -9.0917  -8.7122  -8.3331  -7.5214  -7.0139  -5.7071  -4.0252\n",
            "    -0.4808   1.5311   2.8289   3.5714   3.6328\n",
            "\n",
            "          k = 0.4000 0.4620 0.0000 ( 12628 PWs)   bands (ev):\n",
            "\n",
            "   -22.7106 -19.8697 -19.0201 -16.1923 -14.4986 -12.9809 -11.5277 -10.5754\n",
            "    -9.7910  -9.4851  -8.5922  -8.5392  -7.5542  -7.4718  -6.4111  -3.2622\n",
            "    -1.2206   2.4195   3.3799   3.4200   4.1131\n",
            "\n",
            "          k = 0.4000 0.5775 0.0000 ( 12636 PWs)   bands (ev):\n",
            "\n",
            "   -22.6957 -19.7208 -19.3326 -15.6572 -14.9357 -13.1679 -11.0018 -10.5360\n",
            "    -9.9238  -9.3868  -8.5845  -8.4863  -7.9742  -7.2506  -6.8526  -2.7746\n",
            "    -1.7013   2.9192   3.3197   4.0792   4.1115\n",
            "\n",
            "          k = 0.4000-0.1155 0.0000 ( 12672 PWs)   bands (ev):\n",
            "\n",
            "   -22.8453 -19.7610 -18.2729 -16.8529 -14.6475 -13.1977 -11.9444 -11.2377\n",
            "   -10.1164  -9.0822  -8.5850  -7.8883  -6.9805  -6.6652  -5.5793  -4.0427\n",
            "    -0.5692   1.2730   2.1782   2.9026   3.0364\n",
            "\n",
            "          k = 0.4000 0.0000 0.0000 ( 12665 PWs)   bands (ev):\n",
            "\n",
            "   -22.8616 -19.6541 -18.4980 -16.3215 -15.2440 -13.0233 -12.0994 -11.3745\n",
            "    -9.5288  -9.1372  -8.9975  -7.6065  -6.7448  -6.7291  -5.9253  -3.6928\n",
            "    -0.9464   1.6771   2.0972   2.5974   2.8535\n",
            "\n",
            "          k =-0.5000-0.2887 0.0000 ( 12648 PWs)   bands (ev):\n",
            "\n",
            "   -22.7486 -20.0393 -17.9990 -17.4989 -13.4394 -12.9949 -12.1734 -11.1416\n",
            "    -9.7533  -9.6418  -8.6703  -8.1549  -7.6720  -6.8878  -5.1758  -4.5962\n",
            "     0.0696   0.9829   3.1270   3.1751   3.8649\n",
            "\n",
            "          k =-0.5000-0.1732 0.0000 ( 12632 PWs)   bands (ev):\n",
            "\n",
            "   -22.7510 -19.9682 -18.4492 -16.9397 -14.0359 -12.7147 -12.1438 -10.8654\n",
            "   -10.2036  -9.0907  -8.7123  -8.3329  -7.5212  -7.0143  -5.7074  -4.0247\n",
            "    -0.4811   1.5310   2.8287   3.5711   3.6330\n",
            "\n",
            "          k =-0.5000-0.0577 0.0000 ( 12645 PWs)   bands (ev):\n",
            "\n",
            "   -22.7550 -19.8113 -18.8853 -16.1972 -14.8325 -12.6704 -11.8660 -11.0027\n",
            "    -9.8278  -9.0310  -8.7688  -8.3981  -7.2905  -7.1885  -6.3032  -3.3805\n",
            "    -1.1470   2.2335   2.6683   3.4156   3.6270\n",
            "\n",
            "     the Fermi energy is    -0.6561 ev\n",
            "\n",
            "!    total energy              =    -157.24282545 Ry\n",
            "     total all-electron energy =      -642.890304 Ry\n",
            "     estimated scf accuracy    <          2.5E-09 Ry\n",
            "     smearing contrib. (-TS)   =      -0.00167353 Ry\n",
            "     internal energy E=F+TS    =    -157.24115192 Ry\n",
            "\n",
            "     The total energy is F=E-TS. E is the sum of the following terms:\n",
            "     one-electron contribution =    -674.97665508 Ry\n",
            "     hartree contribution      =     343.98902800 Ry\n",
            "     xc contribution           =     -38.16953242 Ry\n",
            "     ewald contribution        =     263.03791825 Ry\n",
            "     one-center paw contrib.   =     -51.12191067 Ry\n",
            "\n",
            "     convergence has been achieved in  12 iterations\n",
            "\n",
            "     Writing all to output data dir ./graphene.save/ :\n",
            "     XML data file, charge density, pseudopotentials, collected wavefunctions\n",
            "\n",
            "     init_run     :      9.49s CPU     10.50s WALL (       1 calls)\n",
            "     electrons    :    187.37s CPU    191.18s WALL (       1 calls)\n",
            "\n",
            "     Called by init_run:\n",
            "     wfcinit      :      7.76s CPU      8.00s WALL (       1 calls)\n",
            "     potinit      :      0.48s CPU      0.61s WALL (       1 calls)\n",
            "     hinit0       :      1.00s CPU      1.53s WALL (       1 calls)\n",
            "\n",
            "     Called by electrons:\n",
            "     c_bands      :    152.36s CPU    154.28s WALL (      12 calls)\n",
            "     sum_band     :     27.68s CPU     28.81s WALL (      12 calls)\n",
            "     v_of_rho     :      1.45s CPU      1.57s WALL (      13 calls)\n",
            "     newd         :      1.75s CPU      2.51s WALL (      13 calls)\n",
            "     PAW_pot      :      4.38s CPU      4.42s WALL (      13 calls)\n",
            "     mix_rho      :      0.25s CPU      0.26s WALL (      12 calls)\n",
            "\n",
            "     Called by c_bands:\n",
            "     init_us_2    :      4.18s CPU      4.24s WALL (     775 calls)\n",
            "     cegterg      :    145.27s CPU    147.11s WALL (     372 calls)\n",
            "\n",
            "     Called by *egterg:\n",
            "     cdiaghg      :      1.05s CPU      1.09s WALL (    1770 calls)\n",
            "     h_psi        :    129.22s CPU    130.74s WALL (    1801 calls)\n",
            "     s_psi        :      4.93s CPU      4.98s WALL (    1801 calls)\n",
            "     g_psi        :      0.78s CPU      0.79s WALL (    1398 calls)\n",
            "\n",
            "     Called by h_psi:\n",
            "     h_psi:calbec :      4.90s CPU      4.95s WALL (    1801 calls)\n",
            "     vloc_psi     :    117.66s CPU    118.93s WALL (    1801 calls)\n",
            "     add_vuspsi   :      6.01s CPU      6.06s WALL (    1801 calls)\n",
            "\n",
            "     General routines\n",
            "     calbec       :      6.37s CPU      6.44s WALL (    2173 calls)\n",
            "     fft          :      0.97s CPU      1.25s WALL (     143 calls)\n",
            "     ffts         :      0.04s CPU      0.05s WALL (      12 calls)\n",
            "     fftw         :    119.48s CPU    120.78s WALL (   51338 calls)\n",
            "\n",
            "\n",
            "     PWSCF        :   3m17.18s CPU   3m22.36s WALL\n",
            "\n",
            "\n",
            "   This run was terminated on:  16: 3:48  29Jul2025            \n",
            "\n",
            "=------------------------------------------------------------------------------=\n",
            "   JOB DONE.\n",
            "=------------------------------------------------------------------------------=\n"
          ]
        }
      ]
    },
    {
      "cell_type": "code",
      "source": [
        "\n",
        "! grep -e \"total energy  \" -e \"estimated\" graphene.scf.out"
      ],
      "metadata": {
        "colab": {
          "base_uri": "https://localhost:8080/"
        },
        "id": "2bBy8PPikMYN",
        "outputId": "d83028f0-3a86-4009-fe59-7262bb08aa69"
      },
      "execution_count": 11,
      "outputs": [
        {
          "output_type": "stream",
          "name": "stdout",
          "text": [
            "     total energy              =    -157.31063453 Ry\n",
            "     estimated scf accuracy    <       0.71176464 Ry\n",
            "     total energy              =    -157.21043325 Ry\n",
            "     estimated scf accuracy    <       0.24229144 Ry\n",
            "     total energy              =    -157.24151908 Ry\n",
            "     estimated scf accuracy    <       0.00990706 Ry\n",
            "     total energy              =    -157.24260332 Ry\n",
            "     estimated scf accuracy    <       0.00241513 Ry\n",
            "     total energy              =    -157.24279644 Ry\n",
            "     estimated scf accuracy    <       0.00027787 Ry\n",
            "     total energy              =    -157.24280462 Ry\n",
            "     estimated scf accuracy    <       0.00006542 Ry\n",
            "     total energy              =    -157.24282324 Ry\n",
            "     estimated scf accuracy    <       0.00001716 Ry\n",
            "     total energy              =    -157.24282485 Ry\n",
            "     estimated scf accuracy    <       0.00000118 Ry\n",
            "     total energy              =    -157.24282527 Ry\n",
            "     estimated scf accuracy    <       0.00000219 Ry\n",
            "     total energy              =    -157.24282538 Ry\n",
            "     estimated scf accuracy    <       0.00000022 Ry\n",
            "     total energy              =    -157.24282545 Ry\n",
            "     estimated scf accuracy    <       0.00000003 Ry\n",
            "!    total energy              =    -157.24282545 Ry\n",
            "     estimated scf accuracy    <          2.5E-09 Ry\n"
          ]
        }
      ]
    },
    {
      "cell_type": "markdown",
      "source": [
        "dopdopdd!!!EE!## CONVERGENCE TEST W.R.T TO PLANE WAVE FUNCTION ECUTOFF ENERGY"
      ],
      "metadata": {
        "id": "vmqNhL3-nduB"
      }
    },
    {
      "cell_type": "code",
      "source": [
        "!cat doped_graphene.scf.in"
      ],
      "metadata": {
        "colab": {
          "base_uri": "https://localhost:8080/"
        },
        "id": "JJHNVHOwpl1G",
        "outputId": "b11869b0-1d49-41cf-bc13-c332c0dd793d"
      },
      "execution_count": 12,
      "outputs": [
        {
          "output_type": "stream",
          "name": "stdout",
          "text": [
            "\n",
            "&CONTROL\n",
            "  calculation = 'scf'\n",
            "  restart_mode = 'from_scratch'\n",
            "  pseudo_dir= '/content/qe-lite/pseudopotentials'\n",
            "  prefix = 'graphene'\n",
            "/\n",
            "&SYSTEM\n",
            "  ibrav = 0\n",
            "  nat = 8\n",
            "  ntyp = 2\n",
            "  occupations = 'smearing'\n",
            "  smearing = 'mv'\n",
            "  degauss = 0.02\n",
            "  ecutwfc = 50\n",
            "/\n",
            "&ELECTRONS\n",
            "  mixing_beta = 0.3\n",
            "  conv_thr = 1.0d-8\n",
            "/\n",
            "ATOMIC_SPECIES\n",
            "C 12.01017 C.upf\n",
            "N 14.00670 N.upf\n",
            "\n",
            "ATOMIC_POSITIONS (crystal)\n",
            "N 0.00000  0.00000  0.0\n",
            "C 0.33333  0.66667  0.0\n",
            "C 0.50000  0.00000  0.0\n",
            "C 0.83333  0.66667  0.0\n",
            "C 0.00000  0.50000  0.0\n",
            "C 0.33333  0.16667  0.0\n",
            "C 0.50000  0.50000  0.0\n",
            "C 0.83333  0.16667  0.0\n",
            "\n",
            "\n",
            "CELL_PARAMETERS angstrom\n",
            "  4.920   0.000   0.000\n",
            " -2.460   4.260   0.000\n",
            "  0.000   0.000  15.000\n",
            "\n",
            "K_POINTS (automatic)\n",
            "10 10 1 0 0 0\n"
          ]
        }
      ]
    },
    {
      "cell_type": "code",
      "source": [
        "!grep -e \"ecutwfc\" doped_graphene.scf.in"
      ],
      "metadata": {
        "colab": {
          "base_uri": "https://localhost:8080/"
        },
        "id": "j0yMo_stptRJ",
        "outputId": "2cba4c40-221c-4050-e411-c876d19a6db9"
      },
      "execution_count": 13,
      "outputs": [
        {
          "output_type": "stream",
          "name": "stdout",
          "text": [
            "  ecutwfc = 50\n"
          ]
        }
      ]
    },
    {
      "cell_type": "markdown",
      "source": [
        "## Changing the value of ecutwfc"
      ],
      "metadata": {
        "id": "jNLRjmGvq64x"
      }
    },
    {
      "cell_type": "code",
      "source": [
        "def change_ecutwfc_param(new_cutwfc):\n",
        "  global qe_input\n",
        "  qe_input = re.sub(r\"ecutwfc\\s*=\\s*\\d+\", f\"ecutwfc = {new_cutwfc}\", qe_input)\n",
        "  with open(\"doped_graphene.scf.in\", \"w\") as f:\n",
        "    f.write(qe_input)\n",
        "\n",
        "  grep_output = !grep -e \"ecutwfc \" doped_graphene.scf.in\n",
        "  if grep_output:\n",
        "      match = re.search(r\"ecutwfc\\s*=\\s*(\\d+)\", grep_output[0])\n",
        "      if match:\n",
        "          ecutwfc_value = match.group(1)\n",
        "\n",
        "  print(f\"Running calculation with ecutwfc={ecutwfc_value}\")\n",
        "\n"
      ],
      "metadata": {
        "id": "7-KCv-O0pw-t"
      },
      "execution_count": 14,
      "outputs": []
    },
    {
      "cell_type": "code",
      "source": [
        "change_ecutwfc_param(20)\n",
        "!cat doped_graphene.scf.in"
      ],
      "metadata": {
        "colab": {
          "base_uri": "https://localhost:8080/"
        },
        "id": "dYAixjXowA_n",
        "outputId": "b42b934a-fead-4e4a-ebb5-2ab0a7567abb"
      },
      "execution_count": 15,
      "outputs": [
        {
          "output_type": "stream",
          "name": "stdout",
          "text": [
            "Running calculation with ecutwfc=20\n",
            "\n",
            "&CONTROL\n",
            "  calculation = 'scf'\n",
            "  restart_mode = 'from_scratch'\n",
            "  pseudo_dir= '/content/qe-lite/pseudopotentials'\n",
            "  prefix = 'graphene'\n",
            "/\n",
            "&SYSTEM\n",
            "  ibrav = 0\n",
            "  nat = 8\n",
            "  ntyp = 2\n",
            "  occupations = 'smearing'\n",
            "  smearing = 'mv'\n",
            "  degauss = 0.02\n",
            "  ecutwfc = 20\n",
            "/\n",
            "&ELECTRONS\n",
            "  mixing_beta = 0.3\n",
            "  conv_thr = 1.0d-8\n",
            "/\n",
            "ATOMIC_SPECIES\n",
            "C 12.01017 C.upf\n",
            "N 14.00670 N.upf\n",
            "\n",
            "ATOMIC_POSITIONS (crystal)\n",
            "N 0.00000  0.00000  0.0\n",
            "C 0.33333  0.66667  0.0\n",
            "C 0.50000  0.00000  0.0\n",
            "C 0.83333  0.66667  0.0\n",
            "C 0.00000  0.50000  0.0\n",
            "C 0.33333  0.16667  0.0\n",
            "C 0.50000  0.50000  0.0\n",
            "C 0.83333  0.16667  0.0\n",
            "\n",
            "\n",
            "CELL_PARAMETERS angstrom\n",
            "  4.920   0.000   0.000\n",
            " -2.460   4.260   0.000\n",
            "  0.000   0.000  15.000\n",
            "\n",
            "K_POINTS (automatic)\n",
            "10 10 1 0 0 0\n"
          ]
        }
      ]
    },
    {
      "cell_type": "markdown",
      "source": [
        "### PLOTTING A GRAPH OF TOTAL ENERGY AGAINST CUTOFF"
      ],
      "metadata": {
        "id": "6AOii7XGxDMv"
      }
    },
    {
      "cell_type": "code",
      "source": [
        "ecutwfc_values = [10, 20, 30, 40, 50, 60, 70, 80, 90, 100, 110, 120]\n",
        "ecutoff_total_energies = []\n",
        "\n",
        "for ecutwfc in ecutwfc_values:\n",
        "  change_ecutwfc_param(ecutwfc)\n",
        "  ! /content/qe-lite/bin/pw.x < doped_graphene.scf.in > graphene.scf.out\n",
        "  output = ase.io.read(\"graphene.scf.out\")\n",
        "  # ! grep -e \"total energy  \" -e \"estimated\" graphene.scf.out\n",
        "  ecutoff_total_energies.append(output.get_total_energy())\n",
        "  print(f\"Successfully read energy: {output.get_total_energy()}\")\n",
        "\n",
        "\n",
        "plt.plot(ecutwfc_values, ecutoff_total_energies, 'o-')\n",
        "plt.xlabel('ecutwfc')\n",
        "plt.ylabel('Total Energy (eV/atom)')\n",
        "plt.title('Total Energy vs. ecutwfc')\n",
        "plt.show()\n"
      ],
      "metadata": {
        "colab": {
          "base_uri": "https://localhost:8080/",
          "height": 889
        },
        "id": "Rb9N9S0vxCyl",
        "outputId": "436bd289-cd0e-478b-cc6d-5b04bd3109f4"
      },
      "execution_count": 16,
      "outputs": [
        {
          "output_type": "stream",
          "name": "stdout",
          "text": [
            "Running calculation with ecutwfc=10\n",
            "Successfully read energy: -2076.270283993685\n",
            "Running calculation with ecutwfc=20\n",
            "Successfully read energy: -2132.9622381415443\n",
            "Running calculation with ecutwfc=30\n",
            "Successfully read energy: -2138.723645942925\n",
            "Running calculation with ecutwfc=40\n",
            "Successfully read energy: -2139.3349690015475\n",
            "Running calculation with ecutwfc=50\n",
            "Successfully read energy: -2139.3974417129675\n",
            "Running calculation with ecutwfc=60\n",
            "Successfully read energy: -2139.4055336982447\n",
            "Running calculation with ecutwfc=70\n",
            "Successfully read energy: -2139.423582056764\n",
            "Running calculation with ecutwfc=80\n",
            "Successfully read energy: -2139.4332131179126\n",
            "Running calculation with ecutwfc=90\n",
            "Successfully read energy: -2139.4351441737685\n",
            "Running calculation with ecutwfc=100\n",
            "Successfully read energy: -2139.4358292203574\n",
            "Running calculation with ecutwfc=110\n",
            "Successfully read energy: -2139.4365134506047\n",
            "Running calculation with ecutwfc=120\n",
            "Successfully read energy: -2139.437813746583\n"
          ]
        },
        {
          "output_type": "display_data",
          "data": {
            "text/plain": [
              "<Figure size 640x480 with 1 Axes>"
            ],
            "image/png": "[encoded data removed]"
          },
          "metadata": {}
        }
      ]
    },
    {
      "cell_type": "markdown",
      "source": [
        "## CONVERGENCE OF K-POINT SAMPLING WITH TOTAL ENERGY"
      ],
      "metadata": {
        "id": "qJHZP60RAS52"
      }
    },
    {
      "cell_type": "code",
      "source": [
        "!cat doped_graphene.scf.in"
      ],
      "metadata": {
        "colab": {
          "base_uri": "https://localhost:8080/"
        },
        "id": "D7YVHT43mpIR",
        "outputId": "cc8661b7-4201-49ea-8441-de9ee2dc4ab7"
      },
      "execution_count": 17,
      "outputs": [
        {
          "output_type": "stream",
          "name": "stdout",
          "text": [
            "\n",
            "&CONTROL\n",
            "  calculation = 'scf'\n",
            "  restart_mode = 'from_scratch'\n",
            "  pseudo_dir= '/content/qe-lite/pseudopotentials'\n",
            "  prefix = 'graphene'\n",
            "/\n",
            "&SYSTEM\n",
            "  ibrav = 0\n",
            "  nat = 8\n",
            "  ntyp = 2\n",
            "  occupations = 'smearing'\n",
            "  smearing = 'mv'\n",
            "  degauss = 0.02\n",
            "  ecutwfc = 120\n",
            "/\n",
            "&ELECTRONS\n",
            "  mixing_beta = 0.3\n",
            "  conv_thr = 1.0d-8\n",
            "/\n",
            "ATOMIC_SPECIES\n",
            "C 12.01017 C.upf\n",
            "N 14.00670 N.upf\n",
            "\n",
            "ATOMIC_POSITIONS (crystal)\n",
            "N 0.00000  0.00000  0.0\n",
            "C 0.33333  0.66667  0.0\n",
            "C 0.50000  0.00000  0.0\n",
            "C 0.83333  0.66667  0.0\n",
            "C 0.00000  0.50000  0.0\n",
            "C 0.33333  0.16667  0.0\n",
            "C 0.50000  0.50000  0.0\n",
            "C 0.83333  0.16667  0.0\n",
            "\n",
            "\n",
            "CELL_PARAMETERS angstrom\n",
            "  4.920   0.000   0.000\n",
            " -2.460   4.260   0.000\n",
            "  0.000   0.000  15.000\n",
            "\n",
            "K_POINTS (automatic)\n",
            "10 10 1 0 0 0\n"
          ]
        }
      ]
    },
    {
      "cell_type": "markdown",
      "source": [
        "### changing the k point sampling"
      ],
      "metadata": {
        "id": "NXnFwnDlCaF1"
      }
    },
    {
      "cell_type": "code",
      "source": [
        "k_point_values = [2, 3, 4, 5, 6, 7, 8, 9, 10, 11, 12,13, 14, 15, 16, 17, 18, 19, 20]\n",
        "k_point_total_energies = []\n",
        "def change_k_point_param(new_k_point):\n",
        "  global qe_input\n",
        "  qe_input = re.sub(r\"K_POINTS\\s*\\(\\s*automatic\\s*\\)\\s*\\n.*\", f\"K_POINTS (automatic)\\n{new_k_point} {new_k_point} 1 0 0 0\", qe_input)\n",
        "  with open(\"doped_graphene.scf.in\", \"w\") as f:\n",
        "    f.write(qe_input)\n",
        "  qe_output = !grep -e \"K_POINTS\" -A 1 doped_graphene.scf.in\n",
        "  print(f\"The current K points is: {qe_output[1]}\")"
      ],
      "metadata": {
        "id": "W1Gz5KTPL-Lw"
      },
      "execution_count": 18,
      "outputs": []
    },
    {
      "cell_type": "code",
      "source": [
        "change_k_point_param(3)\n",
        "!cat graphene.scf.in"
      ],
      "metadata": {
        "colab": {
          "base_uri": "https://localhost:8080/"
        },
        "id": "xfqIzoANMU5M",
        "outputId": "85d9f960-179c-4096-8c26-53750e313ebe"
      },
      "execution_count": 19,
      "outputs": [
        {
          "output_type": "stream",
          "name": "stdout",
          "text": [
            "The current K points is: 3 3 1 0 0 0\n",
            "cat: graphene.scf.in: No such file or directory\n"
          ]
        }
      ]
    },
    {
      "cell_type": "markdown",
      "source": [
        "### PLOTTING A GRAPH OF K POINTS AGAINST TOTAL ENERGY TO TEST FOR CONVERENCE"
      ],
      "metadata": {
        "id": "ho6HWgJlOZyX"
      }
    },
    {
      "cell_type": "code",
      "source": [
        "for k_point in k_point_values:\n",
        "  change_k_point_param(k_point)\n",
        "  ! /content/qe-lite/bin/pw.x < doped_graphene.scf.in > graphene.scf.out\n",
        "  output = ase.io.read(\"graphene.scf.out\")\n",
        "  k_point_total_energies.append(output.get_total_energy())\n",
        "  print(f\"Successfully read energy: {output.get_total_energy()}\")\n",
        "\n",
        "plt.plot(k_point_values, k_point_total_energies, 'o-')\n",
        "plt.xlabel('K Points')\n",
        "plt.ylabel('Total Energy (eV/atom)')\n",
        "plt.title('Total Energy vs. K Points')\n",
        "plt.show()"
      ],
      "metadata": {
        "colab": {
          "base_uri": "https://localhost:8080/",
          "height": 1000
        },
        "id": "y1vLxpHYCMuM",
        "outputId": "9446a7f3-7781-4ab2-c34a-9963dd98ba37"
      },
      "execution_count": 20,
      "outputs": [
        {
          "output_type": "stream",
          "name": "stdout",
          "text": [
            "The current K points is: 2 2 1 0 0 0\n",
            "Successfully read energy: -2139.0569244417784\n",
            "The current K points is: 3 3 1 0 0 0\n",
            "Successfully read energy: -2139.4407903998635\n",
            "The current K points is: 4 4 1 0 0 0\n",
            "Successfully read energy: -2139.5198947091026\n",
            "The current K points is: 5 5 1 0 0 0\n",
            "Successfully read energy: -2139.4704138007955\n",
            "The current K points is: 6 6 1 0 0 0\n",
            "Successfully read energy: -2139.426512314636\n",
            "The current K points is: 7 7 1 0 0 0\n",
            "Successfully read energy: -2139.4156447682044\n",
            "The current K points is: 8 8 1 0 0 0\n",
            "Successfully read energy: -2139.421771139168\n",
            "The current K points is: 9 9 1 0 0 0\n",
            "Successfully read energy: -2139.431120970664\n",
            "The current K points is: 10 10 1 0 0 0\n",
            "Successfully read energy: -2139.437813746583\n",
            "The current K points is: 11 11 1 0 0 0\n",
            "Successfully read energy: -2139.4391834315898\n",
            "The current K points is: 12 12 1 0 0 0\n",
            "Successfully read energy: -2139.4372591785796\n",
            "The current K points is: 13 13 1 0 0 0\n",
            "Successfully read energy: -2139.4354157433795\n",
            "The current K points is: 14 14 1 0 0 0\n",
            "Successfully read energy: -2139.4348033511856\n",
            "The current K points is: 15 15 1 0 0 0\n",
            "Successfully read energy: -2139.4350311104686\n",
            "The current K points is: 16 16 1 0 0 0\n",
            "Successfully read energy: -2139.4354543835448\n",
            "The current K points is: 17 17 1 0 0 0\n",
            "Successfully read energy: -2139.4356825509985\n",
            "The current K points is: 18 18 1 0 0 0\n",
            "Successfully read energy: -2139.4356962927473\n",
            "The current K points is: 19 19 1 0 0 0\n",
            "Successfully read energy: -2139.4356206451002\n",
            "The current K points is: 20 20 1 0 0 0\n",
            "Successfully read energy: -2139.4355671747307\n"
          ]
        },
        {
          "output_type": "display_data",
          "data": {
            "text/plain": [
              "<Figure size 640x480 with 1 Axes>"
            ],
            "image/png": "[encoded data removed]"
          },
          "metadata": {}
        }
      ]
    },
    {
      "cell_type": "markdown",
      "source": [
        "## PLOTTING VACUUM SIZE SPACE AGAINST TOTAL ENERGY (Lattice Parameter C)\n",
        "\n"
      ],
      "metadata": {
        "id": "pb3MjjYPR87m"
      }
    },
    {
      "cell_type": "code",
      "source": [
        "!cat doped_graphene.scf.in"
      ],
      "metadata": {
        "id": "jHsnys7WPoUx",
        "colab": {
          "base_uri": "https://localhost:8080/"
        },
        "outputId": "df30a65b-0008-4565-eee1-65f3bdf5c001"
      },
      "execution_count": 21,
      "outputs": [
        {
          "output_type": "stream",
          "name": "stdout",
          "text": [
            "\n",
            "&CONTROL\n",
            "  calculation = 'scf'\n",
            "  restart_mode = 'from_scratch'\n",
            "  pseudo_dir= '/content/qe-lite/pseudopotentials'\n",
            "  prefix = 'graphene'\n",
            "/\n",
            "&SYSTEM\n",
            "  ibrav = 0\n",
            "  nat = 8\n",
            "  ntyp = 2\n",
            "  occupations = 'smearing'\n",
            "  smearing = 'mv'\n",
            "  degauss = 0.02\n",
            "  ecutwfc = 120\n",
            "/\n",
            "&ELECTRONS\n",
            "  mixing_beta = 0.3\n",
            "  conv_thr = 1.0d-8\n",
            "/\n",
            "ATOMIC_SPECIES\n",
            "C 12.01017 C.upf\n",
            "N 14.00670 N.upf\n",
            "\n",
            "ATOMIC_POSITIONS (crystal)\n",
            "N 0.00000  0.00000  0.0\n",
            "C 0.33333  0.66667  0.0\n",
            "C 0.50000  0.00000  0.0\n",
            "C 0.83333  0.66667  0.0\n",
            "C 0.00000  0.50000  0.0\n",
            "C 0.33333  0.16667  0.0\n",
            "C 0.50000  0.50000  0.0\n",
            "C 0.83333  0.16667  0.0\n",
            "\n",
            "\n",
            "CELL_PARAMETERS angstrom\n",
            "  4.920   0.000   0.000\n",
            " -2.460   4.260   0.000\n",
            "  0.000   0.000  15.000\n",
            "\n",
            "K_POINTS (automatic)\n",
            "20 20 1 0 0 0\n"
          ]
        }
      ]
    },
    {
      "cell_type": "code",
      "source": [
        "c_values = [2.00, 3.00, 4.00, 5.00, 6.00, 7.00, 8.00, 9.00, 10.00, 11.00, 12.00, 13.00, 14.00, 15.00, 16.00, 17.00, 18.00, 19.00, 20.00]\n",
        "c_values_total_energies = []"
      ],
      "metadata": {
        "id": "qzA5s185XotE"
      },
      "execution_count": 22,
      "outputs": []
    },
    {
      "cell_type": "code",
      "source": [
        "def change_vacuum_value(c):\n",
        "    global qe_input\n",
        "\n",
        "    # Use regex to replace only the third line of CELL_PARAMETERS\n",
        "    qe_input = re.sub(\n",
        "        r\"(CELL_PARAMETERS\\s+angstrom\\s+[\\s\\S]*?\\n[\\s\\S]*?\\n)[\\s\\S]*?\\n\",\n",
        "        rf\"\\1  0.00   0.00   {c:.2f}\\n\",\n",
        "        qe_input\n",
        "    )\n",
        "\n",
        "    with open(\"doped_graphene.scf.in\", \"w\") as f:\n",
        "        f.write(qe_input)\n",
        "\n",
        "    # Confirm what was written\n",
        "    output = !grep -A 3 CELL_PARAMETERS doped_graphene.scf.in\n",
        "    print(\"Updated CELL_PARAMETERS:\")\n",
        "    for line in output:\n",
        "        print(line)\n"
      ],
      "metadata": {
        "id": "YoGfUCdBeXIv"
      },
      "execution_count": 23,
      "outputs": []
    },
    {
      "cell_type": "code",
      "source": [
        "change_vacuum_value(3.00)\n",
        "!cat doped_graphene.scf.in"
      ],
      "metadata": {
        "id": "XWAQ-b2Mag5D",
        "colab": {
          "base_uri": "https://localhost:8080/"
        },
        "outputId": "57994c99-7c71-41b1-d200-977b0bea10c0"
      },
      "execution_count": 24,
      "outputs": [
        {
          "output_type": "stream",
          "name": "stdout",
          "text": [
            "Updated CELL_PARAMETERS:\n",
            "CELL_PARAMETERS angstrom\n",
            "  4.920   0.000   0.000\n",
            " -2.460   4.260   0.000\n",
            "  0.00   0.00   3.00\n",
            "\n",
            "&CONTROL\n",
            "  calculation = 'scf'\n",
            "  restart_mode = 'from_scratch'\n",
            "  pseudo_dir= '/content/qe-lite/pseudopotentials'\n",
            "  prefix = 'graphene'\n",
            "/\n",
            "&SYSTEM\n",
            "  ibrav = 0\n",
            "  nat = 8\n",
            "  ntyp = 2\n",
            "  occupations = 'smearing'\n",
            "  smearing = 'mv'\n",
            "  degauss = 0.02\n",
            "  ecutwfc = 120\n",
            "/\n",
            "&ELECTRONS\n",
            "  mixing_beta = 0.3\n",
            "  conv_thr = 1.0d-8\n",
            "/\n",
            "ATOMIC_SPECIES\n",
            "C 12.01017 C.upf\n",
            "N 14.00670 N.upf\n",
            "\n",
            "ATOMIC_POSITIONS (crystal)\n",
            "N 0.00000  0.00000  0.0\n",
            "C 0.33333  0.66667  0.0\n",
            "C 0.50000  0.00000  0.0\n",
            "C 0.83333  0.66667  0.0\n",
            "C 0.00000  0.50000  0.0\n",
            "C 0.33333  0.16667  0.0\n",
            "C 0.50000  0.50000  0.0\n",
            "C 0.83333  0.16667  0.0\n",
            "\n",
            "\n",
            "CELL_PARAMETERS angstrom\n",
            "  4.920   0.000   0.000\n",
            " -2.460   4.260   0.000\n",
            "  0.00   0.00   3.00\n",
            "\n",
            "K_POINTS (automatic)\n",
            "20 20 1 0 0 0\n"
          ]
        }
      ]
    },
    {
      "cell_type": "code",
      "source": [
        "for c in c_values:\n",
        "  change_vacuum_value(c)\n",
        "  ! /content/qe-lite/bin/pw.x < doped_graphene.scf.in > graphene.scf.out\n",
        "  output = ase.io.read(\"graphene.scf.out\")\n",
        "  c_values_total_energies.append(output.get_total_energy())\n",
        "  print(f\"Successfully read energy: {output.get_total_energy()}\")\n",
        "  print(f\"Successfully read lattice parameter: {c}\")\n",
        "\n",
        "plt.plot(c_values, c_values_total_energies, 'o-')\n",
        "plt.xlabel('C')\n",
        "plt.ylabel('Total Energy (eV/atom)')\n",
        "plt.title('Total Energy vs. C')\n",
        "plt.show()\n"
      ],
      "metadata": {
        "id": "bnTnlzhHaij9",
        "colab": {
          "base_uri": "https://localhost:8080/",
          "height": 1000
        },
        "outputId": "dfb4b3c1-db87-4273-8eff-d8b494b06111"
      },
      "execution_count": 25,
      "outputs": [
        {
          "output_type": "stream",
          "name": "stdout",
          "text": [
            "Updated CELL_PARAMETERS:\n",
            "CELL_PARAMETERS angstrom\n",
            "  4.920   0.000   0.000\n",
            " -2.460   4.260   0.000\n",
            "  0.00   0.00   2.00\n",
            "Successfully read energy: -2105.1981992330852\n",
            "Successfully read lattice parameter: 2.0\n",
            "Updated CELL_PARAMETERS:\n",
            "CELL_PARAMETERS angstrom\n",
            "  4.920   0.000   0.000\n",
            " -2.460   4.260   0.000\n",
            "  0.00   0.00   3.00\n",
            "Successfully read energy: -2129.7824571861534\n",
            "Successfully read lattice parameter: 3.0\n",
            "Updated CELL_PARAMETERS:\n",
            "CELL_PARAMETERS angstrom\n",
            "  4.920   0.000   0.000\n",
            " -2.460   4.260   0.000\n",
            "  0.00   0.00   4.00\n",
            "Successfully read energy: -2137.3055518841547\n",
            "Successfully read lattice parameter: 4.0\n",
            "Updated CELL_PARAMETERS:\n",
            "CELL_PARAMETERS angstrom\n",
            "  4.920   0.000   0.000\n",
            " -2.460   4.260   0.000\n",
            "  0.00   0.00   5.00\n",
            "Successfully read energy: -2139.0230462688655\n",
            "Successfully read lattice parameter: 5.0\n",
            "Updated CELL_PARAMETERS:\n",
            "CELL_PARAMETERS angstrom\n",
            "  4.920   0.000   0.000\n",
            " -2.460   4.260   0.000\n",
            "  0.00   0.00   6.00\n",
            "Successfully read energy: -2139.3607094740582\n",
            "Successfully read lattice parameter: 6.0\n",
            "Updated CELL_PARAMETERS:\n",
            "CELL_PARAMETERS angstrom\n",
            "  4.920   0.000   0.000\n",
            " -2.460   4.260   0.000\n",
            "  0.00   0.00   7.00\n",
            "Successfully read energy: -2139.4222639373297\n",
            "Successfully read lattice parameter: 7.0\n",
            "Updated CELL_PARAMETERS:\n",
            "CELL_PARAMETERS angstrom\n",
            "  4.920   0.000   0.000\n",
            " -2.460   4.260   0.000\n",
            "  0.00   0.00   8.00\n",
            "Successfully read energy: -2139.4332102607173\n",
            "Successfully read lattice parameter: 8.0\n",
            "Updated CELL_PARAMETERS:\n",
            "CELL_PARAMETERS angstrom\n",
            "  4.920   0.000   0.000\n",
            " -2.460   4.260   0.000\n",
            "  0.00   0.00   9.00\n",
            "Successfully read energy: -2139.435143493484\n",
            "Successfully read lattice parameter: 9.0\n",
            "Updated CELL_PARAMETERS:\n",
            "CELL_PARAMETERS angstrom\n",
            "  4.920   0.000   0.000\n",
            " -2.460   4.260   0.000\n",
            "  0.00   0.00   10.00\n",
            "^C\n"
          ]
        },
        {
          "output_type": "error",
          "ename": "StopIteration",
          "evalue": "",
          "traceback": [
            "\u001b[0;31m---------------------------------------------------------------------------\u001b[0m",
            "\u001b[0;31mStopIteration\u001b[0m                             Traceback (most recent call last)",
            "\u001b[0;32m/tmp/ipython-input-25-3972123606.py\u001b[0m in \u001b[0;36m<cell line: 0>\u001b[0;34m()\u001b[0m\n\u001b[1;32m      2\u001b[0m   \u001b[0mchange_vacuum_value\u001b[0m\u001b[0;34m(\u001b[0m\u001b[0mc\u001b[0m\u001b[0;34m)\u001b[0m\u001b[0;34m\u001b[0m\u001b[0;34m\u001b[0m\u001b[0m\n\u001b[1;32m      3\u001b[0m   \u001b[0mget_ipython\u001b[0m\u001b[0;34m(\u001b[0m\u001b[0;34m)\u001b[0m\u001b[0;34m.\u001b[0m\u001b[0msystem\u001b[0m\u001b[0;34m(\u001b[0m\u001b[0;34m' /content/qe-lite/bin/pw.x < doped_graphene.scf.in > graphene.scf.out'\u001b[0m\u001b[0;34m)\u001b[0m\u001b[0;34m\u001b[0m\u001b[0;34m\u001b[0m\u001b[0m\n\u001b[0;32m----> 4\u001b[0;31m   \u001b[0moutput\u001b[0m \u001b[0;34m=\u001b[0m \u001b[0mase\u001b[0m\u001b[0;34m.\u001b[0m\u001b[0mio\u001b[0m\u001b[0;34m.\u001b[0m\u001b[0mread\u001b[0m\u001b[0;34m(\u001b[0m\u001b[0;34m\"graphene.scf.out\"\u001b[0m\u001b[0;34m)\u001b[0m\u001b[0;34m\u001b[0m\u001b[0;34m\u001b[0m\u001b[0m\n\u001b[0m\u001b[1;32m      5\u001b[0m   \u001b[0mc_values_total_energies\u001b[0m\u001b[0;34m.\u001b[0m\u001b[0mappend\u001b[0m\u001b[0;34m(\u001b[0m\u001b[0moutput\u001b[0m\u001b[0;34m.\u001b[0m\u001b[0mget_total_energy\u001b[0m\u001b[0;34m(\u001b[0m\u001b[0;34m)\u001b[0m\u001b[0;34m)\u001b[0m\u001b[0;34m\u001b[0m\u001b[0;34m\u001b[0m\u001b[0m\n\u001b[1;32m      6\u001b[0m   \u001b[0mprint\u001b[0m\u001b[0;34m(\u001b[0m\u001b[0;34mf\"Successfully read energy: {output.get_total_energy()}\"\u001b[0m\u001b[0;34m)\u001b[0m\u001b[0;34m\u001b[0m\u001b[0;34m\u001b[0m\u001b[0m\n",
            "\u001b[0;32m/usr/local/lib/python3.11/dist-packages/ase/io/formats.py\u001b[0m in \u001b[0;36mread\u001b[0;34m(filename, index, format, parallel, do_not_split_by_at_sign, **kwargs)\u001b[0m\n\u001b[1;32m    792\u001b[0m                            **kwargs))\n\u001b[1;32m    793\u001b[0m     \u001b[0;32melse\u001b[0m\u001b[0;34m:\u001b[0m\u001b[0;34m\u001b[0m\u001b[0;34m\u001b[0m\u001b[0m\n\u001b[0;32m--> 794\u001b[0;31m         return next(_iread(filename, slice(index, None), format, io,\n\u001b[0m\u001b[1;32m    795\u001b[0m                            parallel=parallel, **kwargs))\n\u001b[1;32m    796\u001b[0m \u001b[0;34m\u001b[0m\u001b[0m\n",
            "\u001b[0;31mStopIteration\u001b[0m: "
          ]
        }
      ]
    },
    {
      "cell_type": "code",
      "source": [
        "plt.plot(c_values[:len(c_values_total_energies)], c_values_total_energies, 'o-')\n",
        "plt.xlabel('C')\n",
        "plt.ylabel('Total Energy (eV/atom)')\n",
        "plt.title('Total Energy vs. C')\n",
        "plt.show()"
      ],
      "metadata": {
        "colab": {
          "base_uri": "https://localhost:8080/",
          "height": 472
        },
        "id": "llFYi4QMJ2ij",
        "outputId": "352e8f14-c876-4d4d-d9af-0b49c81cad17"
      },
      "execution_count": 30,
      "outputs": [
        {
          "output_type": "display_data",
          "data": {
            "text/plain": [
              "<Figure size 640x480 with 1 Axes>"
            ],
            "image/png": "[encoded data removed]"
          },
          "metadata": {}
        }
      ]
    },
    {
      "cell_type": "markdown",
      "source": [
        "## COMBINING ALL GRAPHS INTO ONE FIGURE"
      ],
      "metadata": {
        "id": "jAe0LloLdXvi"
      }
    },
    {
      "cell_type": "code",
      "source": [
        "plt.figure(figsize=(20, 8))\n",
        "\n",
        "plt.subplot(1, 3, 1)\n",
        "plt.plot(ecutwfc_values, ecutoff_total_energies, 'o-')\n",
        "plt.xlabel('ecutwfc')\n",
        "plt.ylabel('Total Energy (eV/atom)')\n",
        "plt.title('Total Energy vs. ecutwfc')\n",
        "\n",
        "plt.subplot(1, 3, 2)\n",
        "plt.plot(k_point_values, k_point_total_energies, 'o-')\n",
        "plt.xlabel('K Points')\n",
        "plt.ylabel('Total Energy (eV/atom)')\n",
        "plt.title('Total Energy vs. K Points')\n",
        "\n",
        "plt.subplot(1, 3, 3)\n",
        "plt.plot(c_values[:len(c_values_total_energies)], c_values_total_energies, 'o-')\n",
        "plt.xlabel('C')\n",
        "plt.ylabel('Total Energy (eV/atom)')\n",
        "plt.title('Total Energy vs. C')\n",
        "\n",
        "plt.tight_layout()\n",
        "plt.show()"
      ],
      "metadata": {
        "id": "F-iDnjrycM-3",
        "colab": {
          "base_uri": "https://localhost:8080/",
          "height": 591
        },
        "outputId": "4fc0ea0f-163d-4ebe-8509-eb07309bea17"
      },
      "execution_count": 31,
      "outputs": [
        {
          "output_type": "display_data",
          "data": {
            "text/plain": [
              "<Figure size 2000x800 with 3 Axes>"
            ],
            "image/png": "[encoded data removed]"
          },
          "metadata": {}
        }
      ]
    }
  ]
}
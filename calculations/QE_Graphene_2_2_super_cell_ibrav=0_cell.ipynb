{
  "nbformat": 4,
  "nbformat_minor": 0,
  "metadata": {
    "colab": {
      "provenance": [],
      "gpuType": "T4",
      "authorship_tag": "ABX9TyNwYYQKQcAylfxX1Sm6sthk",
      "include_colab_link": true
    },
    "kernelspec": {
      "name": "python3",
      "display_name": "Python 3"
    },
    "language_info": {
      "name": "python"
    },
    "accelerator": "GPU"
  },
  "cells": [
    {
      "cell_type": "markdown",
      "metadata": {
        "id": "view-in-github",
        "colab_type": "text"
      },
      "source": [
        "<a href=\"https://colab.research.google.com/github/kkipngenokoech/Material-Science/blob/main/calculations/QE_Graphene_2_2_super_cell_ibrav%3D0_cell.ipynb\" target=\"_parent\"><img src=\"https://colab.research.google.com/assets/colab-badge.svg\" alt=\"Open In Colab\"/></a>"
      ]
    },
    {
      "cell_type": "code",
      "source": [
        "!nvidia-smi"
      ],
      "metadata": {
        "id": "LJoFMy5C4qNU",
        "outputId": "41050dcd-51e1-4627-c73e-9ed13307366a",
        "colab": {
          "base_uri": "https://localhost:8080/"
        }
      },
      "execution_count": 2,
      "outputs": [
        {
          "output_type": "stream",
          "name": "stdout",
          "text": [
            "Tue Jul 29 15:53:51 2025       \n",
            "+-----------------------------------------------------------------------------------------+\n",
            "| NVIDIA-SMI 550.54.15              Driver Version: 550.54.15      CUDA Version: 12.4     |\n",
            "|-----------------------------------------+------------------------+----------------------+\n",
            "| GPU  Name                 Persistence-M | Bus-Id          Disp.A | Volatile Uncorr. ECC |\n",
            "| Fan  Temp   Perf          Pwr:Usage/Cap |           Memory-Usage | GPU-Util  Compute M. |\n",
            "|                                         |                        |               MIG M. |\n",
            "|=========================================+========================+======================|\n",
            "|   0  Tesla T4                       Off |   00000000:00:04.0 Off |                    0 |\n",
            "| N/A   50C    P8             10W /   70W |       0MiB /  15360MiB |      0%      Default |\n",
            "|                                         |                        |                  N/A |\n",
            "+-----------------------------------------+------------------------+----------------------+\n",
            "                                                                                         \n",
            "+-----------------------------------------------------------------------------------------+\n",
            "| Processes:                                                                              |\n",
            "|  GPU   GI   CI        PID   Type   Process name                              GPU Memory |\n",
            "|        ID   ID                                                               Usage      |\n",
            "|=========================================================================================|\n",
            "|  No running processes found                                                             |\n",
            "+-----------------------------------------------------------------------------------------+\n"
          ]
        }
      ]
    },
    {
      "cell_type": "code",
      "source": [
        "# eliminate text output during installation\n",
        "%%capture\n",
        "\n",
        "# install mathematical libraries to peform fast Fourier transforms\n",
        "# (the exclamation mark means that the command is run under Linux)\n",
        "! apt-get install -y libfftw3-3 libfftw3-dev libfftw3-doc"
      ],
      "metadata": {
        "id": "VrwoK7hIjDB_"
      },
      "execution_count": 3,
      "outputs": []
    },
    {
      "cell_type": "code",
      "source": [
        "# eliminate text output during installation\n",
        "%%capture\n",
        "\n",
        "# install the Atomic simulation environment\n",
        "# ! apt install ase\n",
        "! pip install git+https://gitlab.com/ase/ase"
      ],
      "metadata": {
        "id": "xnD1Gf1CjFRX"
      },
      "execution_count": 4,
      "outputs": []
    },
    {
      "cell_type": "markdown",
      "source": [
        "## Loading Libraries"
      ],
      "metadata": {
        "id": "s1sTuzu5yOoe"
      }
    },
    {
      "cell_type": "code",
      "source": [
        "import ase.io\n",
        "import matplotlib.pyplot as plt\n",
        "import numpy as np\n",
        "import re"
      ],
      "metadata": {
        "id": "7lAbGW99m1jT"
      },
      "execution_count": 5,
      "outputs": []
    },
    {
      "cell_type": "code",
      "source": [
        "# eliminate text output during installation\n",
        "%%capture\n",
        "\n",
        "# navigate to main directory named '/content/'\n",
        "%cd /content/\n",
        "\n",
        "# download the pre-compiled files in compressed format (under Linux)\n",
        "#! wget 'https://docs.google.com/uc?export=download&id=1kw_CJMjP6ggDZXDNp5phAqCPpoe2WXCA' -O qe-lite.tgz\n",
        "!gdown 'https://drive.google.com/uc?export=download&id=13l-Kiyg-F6aYb5lF8M3RsE1hSnLRdGna' -O qe-lite.tgz\n",
        "\n",
        "# unpack the compressed files (under Linux)\n",
        "! tar -xvzf qe-lite.tgz\n",
        "\n",
        "# clean up some files\n",
        "! rm -rf sample_data qe-lite.tgz"
      ],
      "metadata": {
        "id": "vN51ckNjjHMr"
      },
      "execution_count": 6,
      "outputs": []
    },
    {
      "cell_type": "code",
      "source": [
        "!ls"
      ],
      "metadata": {
        "colab": {
          "base_uri": "https://localhost:8080/"
        },
        "id": "SasoO6D6jNTs",
        "outputId": "d61163b1-6bc5-4f93-9adb-cf68d84efd38"
      },
      "execution_count": 7,
      "outputs": [
        {
          "output_type": "stream",
          "name": "stdout",
          "text": [
            "qe-lite\n"
          ]
        }
      ]
    },
    {
      "cell_type": "code",
      "source": [
        "%cd /content/qe-lite/pseudopotentials/\n",
        "!wget 'http://pseudopotentials.quantum-espresso.org/upf_files/C.pbe-n-kjpaw_psl.1.0.0.UPF'\n",
        "!mv C.pbe-n-kjpaw_psl.1.0.0.UPF C.upf"
      ],
      "metadata": {
        "colab": {
          "base_uri": "https://localhost:8080/"
        },
        "id": "ppy4fbH7jQ3J",
        "outputId": "f92beb74-7d50-4cd3-e416-5904702123fb"
      },
      "execution_count": 8,
      "outputs": [
        {
          "output_type": "stream",
          "name": "stdout",
          "text": [
            "/content/qe-lite/pseudopotentials\n",
            "--2025-07-29 15:54:37--  http://pseudopotentials.quantum-espresso.org/upf_files/C.pbe-n-kjpaw_psl.1.0.0.UPF\n",
            "Resolving pseudopotentials.quantum-espresso.org (pseudopotentials.quantum-espresso.org)... 51.77.118.191\n",
            "Connecting to pseudopotentials.quantum-espresso.org (pseudopotentials.quantum-espresso.org)|51.77.118.191|:80... connected.\n",
            "HTTP request sent, awaiting response... 200 OK\n",
            "Length: 858332 (838K)\n",
            "Saving to: ‘C.pbe-n-kjpaw_psl.1.0.0.UPF’\n",
            "\n",
            "C.pbe-n-kjpaw_psl.1 100%[===================>] 838.21K   602KB/s    in 1.4s    \n",
            "\n",
            "2025-07-29 15:54:39 (602 KB/s) - ‘C.pbe-n-kjpaw_psl.1.0.0.UPF’ saved [858332/858332]\n",
            "\n"
          ]
        }
      ]
    },
    {
      "cell_type": "code",
      "source": [
        "# create calculation folder and navigate into it\n",
        "%mkdir -p /content/graphene\n",
        "%cd /content/graphene/\n",
        "\n",
        "# create input and write it into the file graphene.scf.in\n",
        "# (documentation can be found at https://www.quantum-espresso.org/Doc/INPUT_PW.html)\n",
        "\n",
        "# cut-off and total enegry [10 - 100] with a step of five, a plot of cut-off and total enegry,\n",
        "# k point increase from 1 - 10\n",
        "# cell dimension along the z axis, 1 - 10 , ensure convergence\n",
        "# nitride of graphene  = 18 atoms\n",
        "\n",
        "qe_input = \"\"\"\n",
        "&CONTROL\n",
        "  calculation = 'scf'\n",
        "  restart_mode = 'from_scratch'\n",
        "  pseudo_dir= '/content/qe-lite/pseudopotentials'\n",
        "  prefix = 'graphene'\n",
        "/\n",
        "&SYSTEM\n",
        "  ibrav = 0\n",
        "  nat = 8\n",
        "  ntyp = 1\n",
        "  occupations = 'smearing'\n",
        "  smearing = 'mv'\n",
        "  degauss = 0.02\n",
        "  ecutwfc = 50\n",
        "/\n",
        "&ELECTRONS\n",
        "  mixing_beta = 0.3\n",
        "  conv_thr = 1.0d-8\n",
        "/\n",
        "ATOMIC_SPECIES\n",
        "C 12.01017 C.upf\n",
        "\n",
        "ATOMIC_POSITIONS (crystal)\n",
        "C 0.00000  0.00000  0.0\n",
        "C 0.33333  0.66667  0.0\n",
        "C 0.50000  0.00000  0.0\n",
        "C 0.83333  0.66667  0.0\n",
        "C 0.00000  0.50000  0.0\n",
        "C 0.33333  0.16667  0.0\n",
        "C 0.50000  0.50000  0.0\n",
        "C 0.83333  0.16667  0.0\n",
        "\n",
        "\n",
        "CELL_PARAMETERS angstrom\n",
        "  4.920   0.000   0.000\n",
        " -2.460   4.260   0.000\n",
        "  0.000   0.000  15.000\n",
        "\n",
        "K_POINTS (automatic)\n",
        "10 10 1 0 0 0\n",
        "\"\"\"\n",
        "\n",
        "\n",
        "with open(\"graphene.scf.in\", \"w\") as f:\n",
        "    f.write(qe_input)\n",
        "\n",
        "# print the content of the input file (under Linux)\n",
        "! cat graphene.scf.in"
      ],
      "metadata": {
        "colab": {
          "base_uri": "https://localhost:8080/"
        },
        "id": "uM-ovq-jjjJB",
        "outputId": "0a03af00-c6b5-45a5-c993-6a7e4a82910d"
      },
      "execution_count": 9,
      "outputs": [
        {
          "output_type": "stream",
          "name": "stdout",
          "text": [
            "/content/graphene\n",
            "\n",
            "&CONTROL\n",
            "  calculation = 'scf'\n",
            "  restart_mode = 'from_scratch'\n",
            "  pseudo_dir= '/content/qe-lite/pseudopotentials'\n",
            "  prefix = 'graphene'\n",
            "/\n",
            "&SYSTEM\n",
            "  ibrav = 0\n",
            "  nat = 8\n",
            "  ntyp = 1\n",
            "  occupations = 'smearing'\n",
            "  smearing = 'mv'\n",
            "  degauss = 0.02\n",
            "  ecutwfc = 50\n",
            "/\n",
            "&ELECTRONS\n",
            "  mixing_beta = 0.3\n",
            "  conv_thr = 1.0d-8\n",
            "/\n",
            "ATOMIC_SPECIES\n",
            "C 12.01017 C.upf\n",
            "\n",
            "ATOMIC_POSITIONS (crystal)\n",
            "C 0.00000  0.00000  0.0\n",
            "C 0.33333  0.66667  0.0\n",
            "C 0.50000  0.00000  0.0\n",
            "C 0.83333  0.66667  0.0\n",
            "C 0.00000  0.50000  0.0\n",
            "C 0.33333  0.16667  0.0\n",
            "C 0.50000  0.50000  0.0\n",
            "C 0.83333  0.16667  0.0\n",
            "\n",
            "\n",
            "CELL_PARAMETERS angstrom\n",
            "  4.920   0.000   0.000\n",
            " -2.460   4.260   0.000\n",
            "  0.000   0.000  15.000\n",
            "  \n",
            "K_POINTS (automatic)\n",
            "10 10 1 0 0 0\n"
          ]
        }
      ]
    },
    {
      "cell_type": "code",
      "source": [
        "# run the pw.x executable using si.scf.in to create si.scf.out\n",
        "! /content/qe-lite/bin/pw.x < graphene.scf.in > graphene.scf.out\n",
        "\n",
        "# print the content of the output file (under Linux)\n",
        "! cat graphene.scf.out"
      ],
      "metadata": {
        "colab": {
          "base_uri": "https://localhost:8080/"
        },
        "id": "ql_y3A3SkIYt",
        "outputId": "31d32f15-7f3e-44d5-d47d-dbfbadb6fb60"
      },
      "execution_count": 10,
      "outputs": [
        {
          "output_type": "stream",
          "name": "stdout",
          "text": [
            "\n",
            "     Program PWSCF v.7.4 starts on 29Jul2025 at 15:54:39 \n",
            "\n",
            "     This program is part of the open-source Quantum ESPRESSO suite\n",
            "     for quantum simulation of materials; please cite\n",
            "         \"P. Giannozzi et al., J. Phys.:Condens. Matter 21 395502 (2009);\n",
            "         \"P. Giannozzi et al., J. Phys.:Condens. Matter 29 465901 (2017);\n",
            "         \"P. Giannozzi et al., J. Chem. Phys. 152 154105 (2020);\n",
            "          URL http://www.quantum-espresso.org\", \n",
            "     in publications or presentations arising from this work. More details at\n",
            "     http://www.quantum-espresso.org/quote\n",
            "\n",
            "     Serial version\n",
            "     7688 MiB available memory on the printing compute node when the environment starts\n",
            "\n",
            "     Waiting for input...\n",
            "     Reading input from standard input\n",
            "\n",
            "     Current dimensions of program PWSCF are:\n",
            "     Max number of different atomic species (ntypx) = 10\n",
            "     Max number of k-points (npk) =  40000\n",
            "     Max angular momentum in pseudopotentials (lmaxx) =  4\n",
            "     file C.upf: wavefunction(s)  2S 2P renormalized\n",
            "     Found identity + ( -0.5000  0.0000  0.0000) symmetry\n",
            "     This is a supercell, fractional translations are disabled\n",
            "     Message from routine setup:\n",
            "     using ibrav=0 with symmetry is DISCOURAGED, use correct ibrav instead\n",
            "\n",
            "\n",
            "     G-vector sticks info\n",
            "     --------------------\n",
            "     sticks:   dense  smooth     PW     G-vecs:    dense   smooth      PW\n",
            "     Sum        1189    1189    349               101363   101363   15381\n",
            "\n",
            "     Using Slab Decomposition\n",
            "\n",
            "\n",
            "\n",
            "     bravais-lattice index     =            0\n",
            "     lattice parameter (alat)  =       9.2975  a.u.\n",
            "     unit-cell volume          =    2121.5954 (a.u.)^3\n",
            "     number of atoms/cell      =            8\n",
            "     number of atomic types    =            1\n",
            "     number of electrons       =        32.00\n",
            "     number of Kohn-Sham states=           20\n",
            "     kinetic-energy cutoff     =      50.0000  Ry\n",
            "     charge density cutoff     =     200.0000  Ry\n",
            "     scf convergence threshold =      1.0E-08\n",
            "     mixing beta               =       0.3000\n",
            "     number of iterations used =            8  plain     mixing\n",
            "     Exchange-correlation= SLA  PW   PBX  PBC\n",
            "                           (   1   4   3   4   0   0   0)\n",
            "\n",
            "     celldm(1)=   9.297453  celldm(2)=   0.000000  celldm(3)=   0.000000\n",
            "     celldm(4)=   0.000000  celldm(5)=   0.000000  celldm(6)=   0.000000\n",
            "\n",
            "     crystal axes: (cart. coord. in units of alat)\n",
            "               a(1) = (   1.000000   0.000000   0.000000 )  \n",
            "               a(2) = (  -0.500000   0.865854   0.000000 )  \n",
            "               a(3) = (   0.000000   0.000000   3.048780 )  \n",
            "\n",
            "     reciprocal axes: (cart. coord. in units 2 pi/alat)\n",
            "               b(1) = (  1.000000  0.577465 -0.000000 )  \n",
            "               b(2) = (  0.000000  1.154930  0.000000 )  \n",
            "               b(3) = (  0.000000 -0.000000  0.328000 )  \n",
            "\n",
            "\n",
            "     PseudoPot. # 1 for C  read from file:\n",
            "     /content/qe-lite/pseudopotentials/C.upf\n",
            "     MD5 check sum: 5f16ad9a65e90284d1d834d4ab3b0f7d\n",
            "     Pseudo is Projector augmented-wave + core cor, Zval =  4.0\n",
            "     Generated using &quot;atomic&quot; code by A. Dal Corso  v.6.3\n",
            "     Shape of augmentation charge: PSQ\n",
            "     Using radial grid of 1073 points,  4 beta functions with: \n",
            "                l(1) =   0\n",
            "                l(2) =   0\n",
            "                l(3) =   1\n",
            "                l(4) =   1\n",
            "     Q(r) pseudized with 0 coefficients \n",
            "\n",
            "\n",
            "     atomic species   valence    mass     pseudopotential\n",
            "     C                 4.00    12.01017     C ( 1.00)\n",
            "\n",
            "      4 Sym. Ops. (no inversion) found\n",
            "\n",
            "\n",
            "\n",
            "   Cartesian axes\n",
            "\n",
            "     site n.     atom                  positions (alat units)\n",
            "         1        C      tau(   1) = (   0.0000000   0.0000000   0.0000000  )\n",
            "         2        C      tau(   2) = (  -0.0000050   0.5772387   0.0000000  )\n",
            "         3        C      tau(   3) = (   0.5000000   0.0000000   0.0000000  )\n",
            "         4        C      tau(   4) = (   0.4999950   0.5772387   0.0000000  )\n",
            "         5        C      tau(   5) = (  -0.2500000   0.4329268   0.0000000  )\n",
            "         6        C      tau(   6) = (   0.2499950   0.1443118   0.0000000  )\n",
            "         7        C      tau(   7) = (   0.2500000   0.4329268   0.0000000  )\n",
            "         8        C      tau(   8) = (   0.7499950   0.1443118   0.0000000  )\n",
            "\n",
            "     number of k points=    31  Marzari-Vanderbilt smearing, width (Ry)=  0.0200\n",
            "                       cart. coord. in units 2pi/alat\n",
            "        k(    1) = (   0.0000000   0.0000000   0.0000000), wk =   0.0200000\n",
            "        k(    2) = (   0.0000000   0.1154930   0.0000000), wk =   0.0400000\n",
            "        k(    3) = (   0.0000000   0.2309859   0.0000000), wk =   0.0400000\n",
            "        k(    4) = (   0.0000000   0.3464789   0.0000000), wk =   0.0400000\n",
            "        k(    5) = (   0.0000000   0.4619718   0.0000000), wk =   0.0400000\n",
            "        k(    6) = (   0.0000000  -0.5774648   0.0000000), wk =   0.0200000\n",
            "        k(    7) = (   0.1000000   0.0577465   0.0000000), wk =   0.0800000\n",
            "        k(    8) = (   0.1000000   0.1732394   0.0000000), wk =   0.0800000\n",
            "        k(    9) = (   0.1000000   0.2887324   0.0000000), wk =   0.0800000\n",
            "        k(   10) = (   0.1000000   0.4042254   0.0000000), wk =   0.0800000\n",
            "        k(   11) = (   0.1000000   0.5197183   0.0000000), wk =   0.0800000\n",
            "        k(   12) = (   0.2000000   0.1154930   0.0000000), wk =   0.0800000\n",
            "        k(   13) = (   0.2000000   0.2309859   0.0000000), wk =   0.0800000\n",
            "        k(   14) = (   0.2000000   0.3464789   0.0000000), wk =   0.0800000\n",
            "        k(   15) = (   0.2000000   0.4619718   0.0000000), wk =   0.0800000\n",
            "        k(   16) = (   0.2000000   0.5774648   0.0000000), wk =   0.0400000\n",
            "        k(   17) = (   0.2000000   0.0000000   0.0000000), wk =   0.0400000\n",
            "        k(   18) = (   0.3000000   0.1732394   0.0000000), wk =   0.0800000\n",
            "        k(   19) = (   0.3000000   0.2887324   0.0000000), wk =   0.0800000\n",
            "        k(   20) = (   0.3000000   0.4042254   0.0000000), wk =   0.0800000\n",
            "        k(   21) = (   0.3000000   0.5197183   0.0000000), wk =   0.0800000\n",
            "        k(   22) = (   0.3000000  -0.0577465   0.0000000), wk =   0.0800000\n",
            "        k(   23) = (   0.4000000   0.2309859   0.0000000), wk =   0.0800000\n",
            "        k(   24) = (   0.4000000   0.3464789   0.0000000), wk =   0.0800000\n",
            "        k(   25) = (   0.4000000   0.4619718   0.0000000), wk =   0.0800000\n",
            "        k(   26) = (   0.4000000   0.5774648   0.0000000), wk =   0.0400000\n",
            "        k(   27) = (   0.4000000  -0.1154930   0.0000000), wk =   0.0800000\n",
            "        k(   28) = (   0.4000000   0.0000000   0.0000000), wk =   0.0400000\n",
            "        k(   29) = (  -0.5000000  -0.2887324   0.0000000), wk =   0.0400000\n",
            "        k(   30) = (  -0.5000000  -0.1732394   0.0000000), wk =   0.0800000\n",
            "        k(   31) = (  -0.5000000  -0.0577465   0.0000000), wk =   0.0800000\n",
            "\n",
            "     Dense  grid:   101363 G-vectors     FFT dimensions: (  45,  45, 128)\n",
            "\n",
            "     Estimated max dynamical RAM per process >     275.22 MB\n",
            "\n",
            "     Check: negative core charge=   -0.000025\n",
            "\n",
            "     Initial potential from superposition of free atoms\n",
            "\n",
            "     starting charge      31.9997, renormalised to      32.0000\n",
            "\n",
            "     negative rho (up, down):  1.908E-04 0.000E+00\n",
            "     Starting wfcs are   32 randomized atomic wfcs\n",
            "\n",
            "     total cpu time spent up to now is       12.2 secs\n",
            "\n",
            "     Self-consistent Calculation\n",
            "\n",
            "     iteration #  1     ecut=    50.00 Ry     beta= 0.30\n",
            "     Davidson diagonalization with overlap\n",
            "     ethr =  1.00E-02,  avg # of iterations =  2.2\n",
            "\n",
            "     negative rho (up, down):  1.482E-04 0.000E+00\n",
            "\n",
            "     total cpu time spent up to now is       28.2 secs\n",
            "\n",
            "     WARNING: integrated charge=    32.00204560, expected=    32.00000000\n",
            "\n",
            "     total energy              =    -147.65554316 Ry\n",
            "     estimated scf accuracy    <       0.76074819 Ry\n",
            "\n",
            "     iteration #  2     ecut=    50.00 Ry     beta= 0.30\n",
            "     Davidson diagonalization with overlap\n",
            "     ethr =  2.38E-03,  avg # of iterations =  1.2\n",
            "\n",
            "     negative rho (up, down):  6.375E-04 0.000E+00\n",
            "\n",
            "     total cpu time spent up to now is       39.5 secs\n",
            "\n",
            "     WARNING: integrated charge=    32.00551784, expected=    32.00000000\n",
            "\n",
            "     total energy              =    -147.49069746 Ry\n",
            "     estimated scf accuracy    <       0.29283089 Ry\n",
            "\n",
            "     iteration #  3     ecut=    50.00 Ry     beta= 0.30\n",
            "     Davidson diagonalization with overlap\n",
            "     ethr =  9.15E-04,  avg # of iterations =  2.9\n",
            "\n",
            "     negative rho (up, down):  6.089E-04 0.000E+00\n",
            "\n",
            "     total cpu time spent up to now is       55.5 secs\n",
            "\n",
            "     WARNING: integrated charge=    32.00531175, expected=    32.00000000\n",
            "\n",
            "     total energy              =    -147.54892010 Ry\n",
            "     estimated scf accuracy    <       0.01230413 Ry\n",
            "\n",
            "     iteration #  4     ecut=    50.00 Ry     beta= 0.30\n",
            "     Davidson diagonalization with overlap\n",
            "     ethr =  3.85E-05,  avg # of iterations = 11.1\n",
            "\n",
            "     negative rho (up, down):  8.076E-04 0.000E+00\n",
            "\n",
            "     total cpu time spent up to now is       73.9 secs\n",
            "\n",
            "     WARNING: integrated charge=    32.00609019, expected=    32.00000000\n",
            "\n",
            "     total energy              =    -147.55070843 Ry\n",
            "     estimated scf accuracy    <       0.00228553 Ry\n",
            "\n",
            "     iteration #  5     ecut=    50.00 Ry     beta= 0.30\n",
            "     Davidson diagonalization with overlap\n",
            "     ethr =  7.14E-06,  avg # of iterations =  2.7\n",
            "\n",
            "     negative rho (up, down):  8.039E-04 0.000E+00\n",
            "\n",
            "     total cpu time spent up to now is       86.2 secs\n",
            "\n",
            "     WARNING: integrated charge=    32.00606817, expected=    32.00000000\n",
            "\n",
            "     total energy              =    -147.55058517 Ry\n",
            "     estimated scf accuracy    <       0.00040786 Ry\n",
            "\n",
            "     iteration #  6     ecut=    50.00 Ry     beta= 0.30\n",
            "     Davidson diagonalization with overlap\n",
            "     c_bands:  2 eigenvalues not converged\n",
            "     c_bands:  2 eigenvalues not converged\n",
            "     ethr =  1.27E-06,  avg # of iterations =  5.6\n",
            "\n",
            "     negative rho (up, down):  8.055E-04 0.000E+00\n",
            "\n",
            "     total cpu time spent up to now is      102.9 secs\n",
            "\n",
            "     WARNING: integrated charge=    32.00607016, expected=    32.00000000\n",
            "\n",
            "     total energy              =    -147.55067015 Ry\n",
            "     estimated scf accuracy    <       0.00000399 Ry\n",
            "\n",
            "     iteration #  7     ecut=    50.00 Ry     beta= 0.30\n",
            "     Davidson diagonalization with overlap\n",
            "     ethr =  1.25E-08,  avg # of iterations =  5.0\n",
            "\n",
            "     negative rho (up, down):  8.074E-04 0.000E+00\n",
            "\n",
            "     total cpu time spent up to now is      119.3 secs\n",
            "\n",
            "     WARNING: integrated charge=    32.00607537, expected=    32.00000000\n",
            "\n",
            "     total energy              =    -147.55067007 Ry\n",
            "     estimated scf accuracy    <       0.00000208 Ry\n",
            "\n",
            "     iteration #  8     ecut=    50.00 Ry     beta= 0.30\n",
            "     Davidson diagonalization with overlap\n",
            "     ethr =  6.51E-09,  avg # of iterations =  2.0\n",
            "\n",
            "     negative rho (up, down):  8.080E-04 0.000E+00\n",
            "\n",
            "     total cpu time spent up to now is      133.5 secs\n",
            "\n",
            "     WARNING: integrated charge=    32.00607650, expected=    32.00000000\n",
            "\n",
            "     total energy              =    -147.55067025 Ry\n",
            "     estimated scf accuracy    <       0.00000001 Ry\n",
            "\n",
            "     iteration #  9     ecut=    50.00 Ry     beta= 0.30\n",
            "     Davidson diagonalization with overlap\n",
            "     ethr =  4.12E-11,  avg # of iterations =  4.1\n",
            "\n",
            "     negative rho (up, down):  8.079E-04 0.000E+00\n",
            "\n",
            "     total cpu time spent up to now is      150.5 secs\n",
            "\n",
            "     End of self-consistent calculation\n",
            "\n",
            "          k = 0.0000 0.0000 0.0000 ( 12735 PWs)   bands (ev):\n",
            "\n",
            "   -21.2440 -15.9711 -15.9706 -15.9676 -14.9534 -14.9530 -14.9522  -9.3299\n",
            "    -8.1112  -8.1084  -8.1077  -4.7044  -4.7032  -4.0322  -4.0318  -4.0292\n",
            "     0.0275   0.0277   0.0284   1.0883\n",
            "\n",
            "          k = 0.0000 0.1155 0.0000 ( 12692 PWs)   bands (ev):\n",
            "\n",
            "   -21.1847 -16.6329 -16.1641 -16.1637 -14.6620 -14.6614 -14.1999  -9.2588\n",
            "    -8.2907  -8.2900  -8.0520  -4.9464  -4.8326  -4.3843  -4.0746  -4.0742\n",
            "     0.1344   0.1351   0.4754   1.1700\n",
            "\n",
            "          k = 0.0000 0.2310 0.0000 ( 12714 PWs)   bands (ev):\n",
            "\n",
            "   -21.0069 -17.5449 -16.4759 -16.4758 -14.0615 -14.0610 -13.0263  -9.0461\n",
            "    -8.7898  -8.7891  -7.8763  -5.6238  -5.1816  -5.1609  -4.1787  -4.1784\n",
            "     0.4149   0.4154   1.4153   1.5245\n",
            "\n",
            "          k = 0.0000 0.3465 0.0000 ( 12676 PWs)   bands (ev):\n",
            "\n",
            "   -20.7114 -18.3887 -16.7303 -16.7302 -13.3479 -13.3475 -11.7567  -9.4914\n",
            "    -9.4908  -8.6939  -7.5896  -6.6191  -6.0296  -5.6676  -4.2958  -4.2956\n",
            "     0.7685   0.7689   1.8240   2.5526\n",
            "\n",
            "          k = 0.0000 0.4620 0.0000 ( 12656 PWs)   bands (ev):\n",
            "\n",
            "   -20.2994 -19.1343 -16.8896 -16.8895 -12.6251 -12.6248 -10.4381 -10.2387\n",
            "   -10.2381  -8.2061  -7.8120  -7.2024  -6.8563  -6.2059  -4.3829  -4.3828\n",
            "     1.0656   1.0658   2.3961   3.1242\n",
            "\n",
            "          k = 0.0000-0.5775 0.0000 ( 12652 PWs)   bands (ev):\n",
            "\n",
            "   -19.7729 -19.7727 -16.9435 -16.9434 -12.2144 -12.2144 -10.6629 -10.6623\n",
            "    -9.1077  -9.1071  -7.5896  -7.5896  -6.7319  -6.7319  -4.4146  -4.4146\n",
            "     1.1828   1.1828   3.1298   3.1317\n",
            "\n",
            "          k = 0.1000 0.0577 0.0000 ( 12692 PWs)   bands (ev):\n",
            "\n",
            "   -21.1847 -16.6347 -16.1638 -16.1613 -14.6619 -14.6617 -14.2007  -9.2588\n",
            "    -8.2933  -8.2904  -8.0487  -4.9473  -4.8317  -4.3865  -4.0745  -4.0717\n",
            "     0.1342   0.1349   0.4753   1.1699\n",
            "\n",
            "          k = 0.1000 0.1732 0.0000 ( 12693 PWs)   bands (ev):\n",
            "\n",
            "   -21.0662 -17.0540 -17.0524 -15.8189 -14.8021 -13.5980 -13.5971  -9.1169\n",
            "    -8.8502  -8.1748  -8.1717  -5.3890  -5.0891  -4.6974  -4.6953  -3.8150\n",
            "    -0.0318   0.9373   0.9374   1.3335\n",
            "\n",
            "          k = 0.1000 0.2887 0.0000 ( 12702 PWs)   bands (ev):\n",
            "\n",
            "   -20.8296 -17.9362 -17.3811 -15.8547 -14.3764 -12.9080 -12.3725  -9.6197\n",
            "    -8.8344  -8.6083  -7.9410  -6.1868  -5.5457  -5.5451  -4.9625  -3.6481\n",
            "    -0.0182   1.4433   1.6606   2.1343\n",
            "\n",
            "          k = 0.1000 0.4042 0.0000 ( 12672 PWs)   bands (ev):\n",
            "\n",
            "   -20.4758 -18.7317 -17.6033 -16.0033 -13.6859 -12.1812 -11.0828 -10.4691\n",
            "    -9.2320  -8.4143  -7.5991  -7.2472  -6.4021  -6.0925  -5.1527  -3.5702\n",
            "     0.1057   1.8929   2.1510   2.8793\n",
            "\n",
            "          k = 0.1000 0.5197 0.0000 ( 12632 PWs)   bands (ev):\n",
            "\n",
            "   -20.0065 -19.4239 -17.7154 -16.0940 -13.0420 -11.5631 -11.1920  -9.8201\n",
            "    -9.7667  -8.4682  -7.8616  -7.1854  -7.1616  -6.6484  -5.2516  -3.5458\n",
            "     0.2168   2.1660   2.8045   3.5319\n",
            "\n",
            "          k = 0.2000 0.1155 0.0000 ( 12714 PWs)   bands (ev):\n",
            "\n",
            "   -21.0070 -17.5462 -16.4753 -16.4737 -14.0618 -14.0612 -13.0276  -9.0462\n",
            "    -8.7921  -8.7894  -7.8732  -5.6250  -5.1804  -5.1626  -4.1783  -4.1761\n",
            "     0.4145   0.4149   1.4153   1.5239\n",
            "\n",
            "          k = 0.2000 0.2310 0.0000 ( 12702 PWs)   bands (ev):\n",
            "\n",
            "   -20.8296 -17.9374 -17.3796 -15.8539 -14.3773 -12.9072 -12.3737  -9.6195\n",
            "    -8.8345  -8.6109  -7.9382  -6.1878  -5.5466  -5.5447  -4.9606  -3.6477\n",
            "    -0.0186   1.4433   1.6605   2.1338\n",
            "\n",
            "          k = 0.2000 0.3465 0.0000 ( 12665 PWs)   bands (ev):\n",
            "\n",
            "   -20.5347 -18.2204 -18.2192 -15.3631 -14.3893 -11.6691 -11.6681 -10.5431\n",
            "    -8.4840  -8.3124  -8.3102  -6.9788  -6.1348  -5.8315  -5.8300  -3.1671\n",
            "    -0.3481   2.0693   2.6993   2.6996\n",
            "\n",
            "          k = 0.2000 0.4620 0.0000 ( 12646 PWs)   bands (ev):\n",
            "\n",
            "   -20.1237 -18.9620 -18.3914 -15.2455 -13.9224 -11.4210 -10.9890 -10.3982\n",
            "    -8.8368  -7.9985  -7.9811  -7.9022  -6.7868  -6.6545  -6.0063  -2.8182\n",
            "    -0.5598   2.6414   3.1200   3.3693\n",
            "\n",
            "          k = 0.2000 0.5775 0.0000 ( 12624 PWs)   bands (ev):\n",
            "\n",
            "   -19.5985 -19.5984 -18.4486 -15.2509 -13.5504 -11.8896 -10.6216  -9.1616\n",
            "    -9.1474  -9.1467  -7.3891  -7.3887  -7.3847  -7.3847  -6.0651  -2.6878\n",
            "    -0.6347   3.2797   3.3751   3.3770\n",
            "\n",
            "          k = 0.2000 0.0000 0.0000 ( 12687 PWs)   bands (ev):\n",
            "\n",
            "   -21.0662 -17.0538 -17.0537 -15.8155 -14.8034 -13.5985 -13.5980  -9.1170\n",
            "    -8.8528  -8.1720  -8.1713  -5.3886  -5.0895  -4.6974  -4.6971  -3.8121\n",
            "    -0.0329   0.9369   0.9375   1.3334\n",
            "\n",
            "          k = 0.3000 0.1732 0.0000 ( 12676 PWs)   bands (ev):\n",
            "\n",
            "   -20.7116 -18.3896 -16.7294 -16.7284 -13.3489 -13.3478 -11.7583  -9.4931\n",
            "    -9.4906  -8.6941  -7.5867  -6.6207  -6.0308  -5.6660  -4.2950  -4.2935\n",
            "     0.7679   0.7681   1.8238   2.5519\n",
            "\n",
            "          k = 0.3000 0.2887 0.0000 ( 12670 PWs)   bands (ev):\n",
            "\n",
            "   -20.4760 -18.7326 -17.6019 -16.0021 -13.6876 -12.1808 -11.0842 -10.4687\n",
            "    -9.2338  -8.4145  -7.5966  -7.2489  -6.4032  -6.0906  -5.1511  -3.5693\n",
            "     0.1048   1.8926   2.1508   2.8791\n",
            "\n",
            "          k = 0.3000 0.4042 0.0000 ( 12646 PWs)   bands (ev):\n",
            "\n",
            "   -20.1238 -18.9628 -18.3904 -15.2441 -13.9241 -11.4207 -10.9888 -10.3992\n",
            "    -8.8379  -7.9986  -7.9823  -7.9005  -6.7854  -6.6555  -6.0050  -2.8174\n",
            "    -0.5606   2.6413   3.1198   3.3693\n",
            "\n",
            "          k = 0.3000 0.5197 0.0000 ( 12630 PWs)   bands (ev):\n",
            "\n",
            "   -19.6568 -19.0784 -19.0776 -14.6060 -14.0763 -12.1325  -9.8443  -9.8439\n",
            "    -8.8321  -8.2910  -8.2906  -7.5815  -7.4515  -6.7828  -6.7819  -2.1001\n",
            "    -1.2178   3.2945   4.0212   4.1097\n",
            "\n",
            "          k = 0.3000-0.0577 0.0000 ( 12702 PWs)   bands (ev):\n",
            "\n",
            "   -20.8297 -17.9371 -17.3805 -15.8518 -14.3775 -12.9090 -12.3739  -9.6218\n",
            "    -8.8346  -8.6077  -7.9382  -6.1867  -5.5465  -5.5459  -4.9619  -3.6452\n",
            "    -0.0197   1.4425   1.6604   2.1338\n",
            "\n",
            "          k = 0.4000 0.2310 0.0000 ( 12656 PWs)   bands (ev):\n",
            "\n",
            "   -20.2997 -19.1350 -16.8884 -16.8879 -12.6268 -12.6255 -10.4400 -10.2395\n",
            "   -10.2376  -8.2065  -7.8138  -7.1996  -6.8572  -6.2038  -4.3818  -4.3810\n",
            "     1.0647   1.0647   2.3958   3.1245\n",
            "\n",
            "          k = 0.4000 0.3465 0.0000 ( 12630 PWs)   bands (ev):\n",
            "\n",
            "   -20.0068 -19.4246 -17.7142 -16.0924 -13.0443 -11.5638 -11.1912  -9.8205\n",
            "    -9.7682  -8.4702  -7.8620  -7.1863  -7.1594  -6.6460  -5.2502  -3.5443\n",
            "     0.2155   2.1653   2.8041   3.5317\n",
            "\n",
            "          k = 0.4000 0.4620 0.0000 ( 12628 PWs)   bands (ev):\n",
            "\n",
            "   -19.5990 -19.5986 -18.4477 -15.2488 -13.5526 -11.8895 -10.6230  -9.1609\n",
            "    -9.1492  -9.1476  -7.3880  -7.3864  -7.3855  -7.3850  -6.0641  -2.6859\n",
            "    -0.6363   3.2791   3.3745   3.3765\n",
            "\n",
            "          k = 0.4000 0.5775 0.0000 ( 12636 PWs)   bands (ev):\n",
            "\n",
            "   -19.6573 -19.0778 -19.0777 -14.6029 -14.0792 -12.1327  -9.8460  -9.8452\n",
            "    -8.8307  -8.2897  -8.2889  -7.5829  -7.4522  -6.7821  -6.7821  -2.0976\n",
            "    -1.2201   3.2939   4.0206   4.1090\n",
            "\n",
            "          k = 0.4000-0.1155 0.0000 ( 12672 PWs)   bands (ev):\n",
            "\n",
            "   -20.4761 -18.7324 -17.6025 -16.0010 -13.6870 -12.1829 -11.0844 -10.4705\n",
            "    -9.2309  -8.4147  -7.5965  -7.2476  -6.4030  -6.0921  -5.1518  -3.5676\n",
            "     0.1040   1.8918   2.1507   2.8789\n",
            "\n",
            "          k = 0.4000 0.0000 0.0000 ( 12665 PWs)   bands (ev):\n",
            "\n",
            "   -20.5349 -18.2199 -18.2198 -15.3598 -14.3910 -11.6703 -11.6698 -10.5449\n",
            "    -8.4842  -8.3098  -8.3091  -6.9779  -6.1359  -5.8310  -5.8309  -3.1644\n",
            "    -0.3498   2.0693   2.6985   2.6989\n",
            "\n",
            "          k =-0.5000-0.2887 0.0000 ( 12648 PWs)   bands (ev):\n",
            "\n",
            "   -19.7733 -19.7732 -16.9421 -16.9420 -12.2163 -12.2162 -10.6624 -10.6618\n",
            "    -9.1096  -9.1090  -7.5902  -7.5902  -6.7295  -6.7294  -4.4131  -4.4131\n",
            "     1.1817   1.1817   3.1292   3.1311\n",
            "\n",
            "          k =-0.5000-0.1732 0.0000 ( 12632 PWs)   bands (ev):\n",
            "\n",
            "   -20.0069 -19.4244 -17.7143 -16.0921 -13.0436 -11.5648 -11.1923  -9.8192\n",
            "    -9.7689  -8.4695  -7.8622  -7.1860  -7.1586  -6.6469  -5.2505  -3.5437\n",
            "     0.2153   2.1652   2.8039   3.5310\n",
            "\n",
            "          k =-0.5000-0.0577 0.0000 ( 12645 PWs)   bands (ev):\n",
            "\n",
            "   -20.1241 -18.9624 -18.3907 -15.2425 -13.9245 -11.4219 -10.9904 -10.4005\n",
            "    -8.8359  -7.9990  -7.9809  -7.8992  -6.7870  -6.6550  -6.0055  -2.8156\n",
            "    -0.5619   2.6408   3.1194   3.3695\n",
            "\n",
            "     the Fermi energy is    -1.5193 ev\n",
            "\n",
            "     WARNING: integrated charge=    32.00607585, expected=    32.00000000\n",
            "\n",
            "!    total energy              =    -147.55067024 Ry\n",
            "     total all-electron energy =      -609.663448 Ry\n",
            "     estimated scf accuracy    <          4.6E-09 Ry\n",
            "     smearing contrib. (-TS)   =       0.00011448 Ry\n",
            "     internal energy E=F+TS    =    -147.55078473 Ry\n",
            "\n",
            "     The total energy is F=E-TS. E is the sum of the following terms:\n",
            "     one-electron contribution =    -630.47505368 Ry\n",
            "     hartree contribution      =     321.78759456 Ry\n",
            "     xc contribution           =     -37.14489116 Ry\n",
            "     ewald contribution        =     247.61839941 Ry\n",
            "     one-center paw contrib.   =     -49.33683386 Ry\n",
            "\n",
            "     convergence has been achieved in   9 iterations\n",
            "\n",
            "     Writing all to output data dir ./graphene.save/ :\n",
            "     XML data file, charge density, pseudopotentials, collected wavefunctions\n",
            "\n",
            "     init_run     :      9.03s CPU     12.02s WALL (       1 calls)\n",
            "     electrons    :    136.06s CPU    138.25s WALL (       1 calls)\n",
            "\n",
            "     Called by init_run:\n",
            "     wfcinit      :      7.60s CPU      9.81s WALL (       1 calls)\n",
            "     potinit      :      0.62s CPU      0.97s WALL (       1 calls)\n",
            "     hinit0       :      0.58s CPU      0.60s WALL (       1 calls)\n",
            "\n",
            "     Called by electrons:\n",
            "     c_bands      :    112.03s CPU    113.18s WALL (       9 calls)\n",
            "     sum_band     :     18.97s CPU     19.65s WALL (       9 calls)\n",
            "     v_of_rho     :      1.18s CPU      1.36s WALL (      10 calls)\n",
            "     newd         :      0.86s CPU      1.47s WALL (      10 calls)\n",
            "     PAW_pot      :      3.55s CPU      3.83s WALL (      10 calls)\n",
            "     mix_rho      :      0.15s CPU      0.15s WALL (       9 calls)\n",
            "\n",
            "     Called by c_bands:\n",
            "     init_us_2    :      2.77s CPU      2.90s WALL (     589 calls)\n",
            "     cegterg      :    106.96s CPU    108.06s WALL (     279 calls)\n",
            "\n",
            "     Called by *egterg:\n",
            "     cdiaghg      :      0.75s CPU      0.82s WALL (    1418 calls)\n",
            "     h_psi        :     97.58s CPU    100.16s WALL (    1449 calls)\n",
            "     s_psi        :      3.64s CPU      3.75s WALL (    1449 calls)\n",
            "     g_psi        :      0.60s CPU      0.61s WALL (    1139 calls)\n",
            "\n",
            "     Called by h_psi:\n",
            "     h_psi:calbec :      3.80s CPU      3.87s WALL (    1449 calls)\n",
            "     vloc_psi     :     88.88s CPU     91.20s WALL (    1449 calls)\n",
            "     add_vuspsi   :      4.43s CPU      4.52s WALL (    1449 calls)\n",
            "\n",
            "     General routines\n",
            "     calbec       :      4.86s CPU      4.95s WALL (    1728 calls)\n",
            "     fft          :      0.78s CPU      0.81s WALL (     110 calls)\n",
            "     ffts         :      0.03s CPU      0.03s WALL (       9 calls)\n",
            "     fftw         :     89.43s CPU     91.73s WALL (   38660 calls)\n",
            "\n",
            "\n",
            "     PWSCF        :   2m25.30s CPU   2m30.65s WALL\n",
            "\n",
            "\n",
            "   This run was terminated on:  15:57:10  29Jul2025            \n",
            "\n",
            "=------------------------------------------------------------------------------=\n",
            "   JOB DONE.\n",
            "=------------------------------------------------------------------------------=\n"
          ]
        }
      ]
    },
    {
      "cell_type": "code",
      "source": [
        "\n",
        "! grep -e \"total energy  \" -e \"estimated\" graphene.scf.out"
      ],
      "metadata": {
        "colab": {
          "base_uri": "https://localhost:8080/"
        },
        "id": "2bBy8PPikMYN",
        "outputId": "495f7832-c06b-4f79-9e27-08a17988bbf2"
      },
      "execution_count": 11,
      "outputs": [
        {
          "output_type": "stream",
          "name": "stdout",
          "text": [
            "     total energy              =    -147.65554316 Ry\n",
            "     estimated scf accuracy    <       0.76074819 Ry\n",
            "     total energy              =    -147.49069746 Ry\n",
            "     estimated scf accuracy    <       0.29283089 Ry\n",
            "     total energy              =    -147.54892010 Ry\n",
            "     estimated scf accuracy    <       0.01230413 Ry\n",
            "     total energy              =    -147.55070843 Ry\n",
            "     estimated scf accuracy    <       0.00228553 Ry\n",
            "     total energy              =    -147.55058517 Ry\n",
            "     estimated scf accuracy    <       0.00040786 Ry\n",
            "     total energy              =    -147.55067015 Ry\n",
            "     estimated scf accuracy    <       0.00000399 Ry\n",
            "     total energy              =    -147.55067007 Ry\n",
            "     estimated scf accuracy    <       0.00000208 Ry\n",
            "     total energy              =    -147.55067025 Ry\n",
            "     estimated scf accuracy    <       0.00000001 Ry\n",
            "!    total energy              =    -147.55067024 Ry\n",
            "     estimated scf accuracy    <          4.6E-09 Ry\n"
          ]
        }
      ]
    },
    {
      "cell_type": "markdown",
      "source": [
        "## CONVERGENCE TEST W.R.T TO PLANE WAVE FUNCTION ECUTOFF ENERGY"
      ],
      "metadata": {
        "id": "vmqNhL3-nduB"
      }
    },
    {
      "cell_type": "code",
      "source": [
        "!cat graphene.scf.in"
      ],
      "metadata": {
        "colab": {
          "base_uri": "https://localhost:8080/"
        },
        "id": "JJHNVHOwpl1G",
        "outputId": "1f7af5f4-a081-4600-918a-b116aaffb160"
      },
      "execution_count": 12,
      "outputs": [
        {
          "output_type": "stream",
          "name": "stdout",
          "text": [
            "\n",
            "&CONTROL\n",
            "  calculation = 'scf'\n",
            "  restart_mode = 'from_scratch'\n",
            "  pseudo_dir= '/content/qe-lite/pseudopotentials'\n",
            "  prefix = 'graphene'\n",
            "/\n",
            "&SYSTEM\n",
            "  ibrav = 0\n",
            "  nat = 8\n",
            "  ntyp = 1\n",
            "  occupations = 'smearing'\n",
            "  smearing = 'mv'\n",
            "  degauss = 0.02\n",
            "  ecutwfc = 50\n",
            "/\n",
            "&ELECTRONS\n",
            "  mixing_beta = 0.3\n",
            "  conv_thr = 1.0d-8\n",
            "/\n",
            "ATOMIC_SPECIES\n",
            "C 12.01017 C.upf\n",
            "\n",
            "ATOMIC_POSITIONS (crystal)\n",
            "C 0.00000  0.00000  0.0\n",
            "C 0.33333  0.66667  0.0\n",
            "C 0.50000  0.00000  0.0\n",
            "C 0.83333  0.66667  0.0\n",
            "C 0.00000  0.50000  0.0\n",
            "C 0.33333  0.16667  0.0\n",
            "C 0.50000  0.50000  0.0\n",
            "C 0.83333  0.16667  0.0\n",
            "\n",
            "\n",
            "CELL_PARAMETERS angstrom\n",
            "  4.920   0.000   0.000\n",
            " -2.460   4.260   0.000\n",
            "  0.000   0.000  15.000\n",
            "  \n",
            "K_POINTS (automatic)\n",
            "10 10 1 0 0 0\n"
          ]
        }
      ]
    },
    {
      "cell_type": "code",
      "source": [
        "!grep -e \"ecutwfc\" graphene.scf.in"
      ],
      "metadata": {
        "colab": {
          "base_uri": "https://localhost:8080/"
        },
        "id": "j0yMo_stptRJ",
        "outputId": "bd228566-6014-439c-9e12-43ba3db9da73"
      },
      "execution_count": 13,
      "outputs": [
        {
          "output_type": "stream",
          "name": "stdout",
          "text": [
            "  ecutwfc = 50\n"
          ]
        }
      ]
    },
    {
      "cell_type": "markdown",
      "source": [
        "## Changing the value of ecutwfc"
      ],
      "metadata": {
        "id": "jNLRjmGvq64x"
      }
    },
    {
      "cell_type": "code",
      "source": [
        "def change_ecutwfc_param(new_cutwfc):\n",
        "  global qe_input\n",
        "  qe_input = re.sub(r\"ecutwfc\\s*=\\s*\\d+\", f\"ecutwfc = {new_cutwfc}\", qe_input)\n",
        "  with open(\"graphene.scf.in\", \"w\") as f:\n",
        "    f.write(qe_input)\n",
        "\n",
        "  grep_output = !grep -e \"ecutwfc \" graphene.scf.in\n",
        "  if grep_output:\n",
        "      match = re.search(r\"ecutwfc\\s*=\\s*(\\d+)\", grep_output[0])\n",
        "      if match:\n",
        "          ecutwfc_value = match.group(1)\n",
        "\n",
        "  print(f\"Running calculation with ecutwfc={ecutwfc_value}\")\n",
        "\n"
      ],
      "metadata": {
        "id": "7-KCv-O0pw-t"
      },
      "execution_count": 14,
      "outputs": []
    },
    {
      "cell_type": "code",
      "source": [
        "change_ecutwfc_param(20)\n",
        "!cat graphene.scf.in"
      ],
      "metadata": {
        "colab": {
          "base_uri": "https://localhost:8080/"
        },
        "id": "dYAixjXowA_n",
        "outputId": "2f292d04-2ae5-4a6e-867d-68a3e6fc8659"
      },
      "execution_count": 15,
      "outputs": [
        {
          "output_type": "stream",
          "name": "stdout",
          "text": [
            "Running calculation with ecutwfc=20\n",
            "\n",
            "&CONTROL\n",
            "  calculation = 'scf'\n",
            "  restart_mode = 'from_scratch'\n",
            "  pseudo_dir= '/content/qe-lite/pseudopotentials'\n",
            "  prefix = 'graphene'\n",
            "/\n",
            "&SYSTEM\n",
            "  ibrav = 0\n",
            "  nat = 8\n",
            "  ntyp = 1\n",
            "  occupations = 'smearing'\n",
            "  smearing = 'mv'\n",
            "  degauss = 0.02\n",
            "  ecutwfc = 20\n",
            "/\n",
            "&ELECTRONS\n",
            "  mixing_beta = 0.3\n",
            "  conv_thr = 1.0d-8\n",
            "/\n",
            "ATOMIC_SPECIES\n",
            "C 12.01017 C.upf\n",
            "\n",
            "ATOMIC_POSITIONS (crystal)\n",
            "C 0.00000  0.00000  0.0\n",
            "C 0.33333  0.66667  0.0\n",
            "C 0.50000  0.00000  0.0\n",
            "C 0.83333  0.66667  0.0\n",
            "C 0.00000  0.50000  0.0\n",
            "C 0.33333  0.16667  0.0\n",
            "C 0.50000  0.50000  0.0\n",
            "C 0.83333  0.16667  0.0\n",
            "\n",
            "\n",
            "CELL_PARAMETERS angstrom\n",
            "  4.920   0.000   0.000\n",
            " -2.460   4.260   0.000\n",
            "  0.000   0.000  15.000\n",
            "  \n",
            "K_POINTS (automatic)\n",
            "10 10 1 0 0 0\n"
          ]
        }
      ]
    },
    {
      "cell_type": "markdown",
      "source": [
        "### PLOTTING A GRAPH OF TOTAL ENERGY AGAINST CUTOFF"
      ],
      "metadata": {
        "id": "6AOii7XGxDMv"
      }
    },
    {
      "cell_type": "code",
      "source": [
        "ecutwfc_values = [10, 20, 30, 40, 50, 60, 70, 80]#, 90, 100, 110, 120]\n",
        "ecutoff_total_energies = []\n",
        "\n",
        "for ecutwfc in ecutwfc_values:\n",
        "  change_ecutwfc_param(ecutwfc)\n",
        "  ! /content/qe-lite/bin/pw.x < graphene.scf.in > graphene.scf.out\n",
        "  output = ase.io.read(\"graphene.scf.out\")\n",
        "  # ! grep -e \"total energy  \" -e \"estimated\" graphene.scf.out\n",
        "  ecutoff_total_energies.append(output.get_total_energy())\n",
        "  print(f\"Successfully read energy: {output.get_total_energy()}\")\n",
        "\n",
        "\n",
        "plt.plot(ecutwfc_values, ecutoff_total_energies, 'o-')\n",
        "plt.xlabel('ecutwfc')\n",
        "plt.ylabel('Total Energy (eV/atom)')\n",
        "plt.title('Total Energy vs. ecutwfc')\n",
        "plt.show()\n"
      ],
      "metadata": {
        "colab": {
          "base_uri": "https://localhost:8080/",
          "height": 750
        },
        "id": "Rb9N9S0vxCyl",
        "outputId": "3602da2c-c3c8-4347-bf1d-12c148f654f5"
      },
      "execution_count": 16,
      "outputs": [
        {
          "output_type": "stream",
          "name": "stdout",
          "text": [
            "Running calculation with ecutwfc=10\n",
            "Successfully read energy: -1957.590883388042\n",
            "Running calculation with ecutwfc=20\n",
            "Successfully read energy: -2003.3612950113593\n",
            "Running calculation with ecutwfc=30\n",
            "Successfully read energy: -2007.1377475999577\n",
            "Running calculation with ecutwfc=40\n",
            "Successfully read energy: -2007.475878296725\n",
            "Running calculation with ecutwfc=50\n",
            "Successfully read energy: -2007.528963760996\n",
            "Running calculation with ecutwfc=60\n",
            "Successfully read energy: -2007.5344415486252\n",
            "Running calculation with ecutwfc=70\n",
            "Successfully read energy: -2007.5483027554526\n",
            "Running calculation with ecutwfc=80\n",
            "Successfully read energy: -2007.556016366437\n"
          ]
        },
        {
          "output_type": "display_data",
          "data": {
            "text/plain": [
              "<Figure size 640x480 with 1 Axes>"
            ],
            "image/png": "[encoded data removed]"
          },
          "metadata": {}
        }
      ]
    },
    {
      "cell_type": "markdown",
      "source": [
        "## CONVERGENCE OF K-POINT SAMPLING WITH TOTAL ENERGY"
      ],
      "metadata": {
        "id": "qJHZP60RAS52"
      }
    },
    {
      "cell_type": "code",
      "source": [
        "!cat graphene.scf.in"
      ],
      "metadata": {
        "colab": {
          "base_uri": "https://localhost:8080/"
        },
        "id": "D7YVHT43mpIR",
        "outputId": "41d52758-7ace-4be2-d049-cdf6c3b58242"
      },
      "execution_count": 17,
      "outputs": [
        {
          "output_type": "stream",
          "name": "stdout",
          "text": [
            "\n",
            "&CONTROL\n",
            "  calculation = 'scf'\n",
            "  restart_mode = 'from_scratch'\n",
            "  pseudo_dir= '/content/qe-lite/pseudopotentials'\n",
            "  prefix = 'graphene'\n",
            "/\n",
            "&SYSTEM\n",
            "  ibrav = 0\n",
            "  nat = 8\n",
            "  ntyp = 1\n",
            "  occupations = 'smearing'\n",
            "  smearing = 'mv'\n",
            "  degauss = 0.02\n",
            "  ecutwfc = 80\n",
            "/\n",
            "&ELECTRONS\n",
            "  mixing_beta = 0.3\n",
            "  conv_thr = 1.0d-8\n",
            "/\n",
            "ATOMIC_SPECIES\n",
            "C 12.01017 C.upf\n",
            "\n",
            "ATOMIC_POSITIONS (crystal)\n",
            "C 0.00000  0.00000  0.0\n",
            "C 0.33333  0.66667  0.0\n",
            "C 0.50000  0.00000  0.0\n",
            "C 0.83333  0.66667  0.0\n",
            "C 0.00000  0.50000  0.0\n",
            "C 0.33333  0.16667  0.0\n",
            "C 0.50000  0.50000  0.0\n",
            "C 0.83333  0.16667  0.0\n",
            "\n",
            "\n",
            "CELL_PARAMETERS angstrom\n",
            "  4.920   0.000   0.000\n",
            " -2.460   4.260   0.000\n",
            "  0.000   0.000  15.000\n",
            "  \n",
            "K_POINTS (automatic)\n",
            "10 10 1 0 0 0\n"
          ]
        }
      ]
    },
    {
      "cell_type": "markdown",
      "source": [
        "### changing the k point sampling"
      ],
      "metadata": {
        "id": "NXnFwnDlCaF1"
      }
    },
    {
      "cell_type": "code",
      "source": [
        "k_point_values = [2, 3, 4, 5, 6, 7, 8, 9, 10, 11, 12,13, 14, 15, 16, 17, 18, 19, 20]\n",
        "k_point_total_energies = []\n",
        "def change_k_point_param(new_k_point):\n",
        "  global qe_input\n",
        "  qe_input = re.sub(r\"K_POINTS\\s*\\(\\s*automatic\\s*\\)\\s*\\n.*\", f\"K_POINTS (automatic)\\n{new_k_point} {new_k_point} 1 0 0 0\", qe_input)\n",
        "  with open(\"graphene.scf.in\", \"w\") as f:\n",
        "    f.write(qe_input)\n",
        "  qe_output = !grep -e \"K_POINTS\" -A 1 graphene.scf.in\n",
        "  print(f\"The current K points is: {qe_output[1]}\")"
      ],
      "metadata": {
        "id": "W1Gz5KTPL-Lw"
      },
      "execution_count": 18,
      "outputs": []
    },
    {
      "cell_type": "code",
      "source": [
        "change_k_point_param(3)\n",
        "!cat graphene.scf.in"
      ],
      "metadata": {
        "colab": {
          "base_uri": "https://localhost:8080/"
        },
        "id": "xfqIzoANMU5M",
        "outputId": "097bcc63-fd1f-448f-ef6c-4391c61c3122"
      },
      "execution_count": 19,
      "outputs": [
        {
          "output_type": "stream",
          "name": "stdout",
          "text": [
            "The current K points is: 3 3 1 0 0 0\n",
            "\n",
            "&CONTROL\n",
            "  calculation = 'scf'\n",
            "  restart_mode = 'from_scratch'\n",
            "  pseudo_dir= '/content/qe-lite/pseudopotentials'\n",
            "  prefix = 'graphene'\n",
            "/\n",
            "&SYSTEM\n",
            "  ibrav = 0\n",
            "  nat = 8\n",
            "  ntyp = 1\n",
            "  occupations = 'smearing'\n",
            "  smearing = 'mv'\n",
            "  degauss = 0.02\n",
            "  ecutwfc = 80\n",
            "/\n",
            "&ELECTRONS\n",
            "  mixing_beta = 0.3\n",
            "  conv_thr = 1.0d-8\n",
            "/\n",
            "ATOMIC_SPECIES\n",
            "C 12.01017 C.upf\n",
            "\n",
            "ATOMIC_POSITIONS (crystal)\n",
            "C 0.00000  0.00000  0.0\n",
            "C 0.33333  0.66667  0.0\n",
            "C 0.50000  0.00000  0.0\n",
            "C 0.83333  0.66667  0.0\n",
            "C 0.00000  0.50000  0.0\n",
            "C 0.33333  0.16667  0.0\n",
            "C 0.50000  0.50000  0.0\n",
            "C 0.83333  0.16667  0.0\n",
            "\n",
            "\n",
            "CELL_PARAMETERS angstrom\n",
            "  4.920   0.000   0.000\n",
            " -2.460   4.260   0.000\n",
            "  0.000   0.000  15.000\n",
            "  \n",
            "K_POINTS (automatic)\n",
            "3 3 1 0 0 0\n"
          ]
        }
      ]
    },
    {
      "cell_type": "markdown",
      "source": [
        "### PLOTTING A GRAPH OF K POINTS AGAINST TOTAL ENERGY TO TEST FOR CONVERENCE"
      ],
      "metadata": {
        "id": "ho6HWgJlOZyX"
      }
    },
    {
      "cell_type": "code",
      "source": [
        "for k_point in k_point_values:\n",
        "  change_k_point_param(k_point)\n",
        "  ! /content/qe-lite/bin/pw.x < graphene.scf.in > graphene.scf.out\n",
        "  output = ase.io.read(\"graphene.scf.out\")\n",
        "  k_point_total_energies.append(output.get_total_energy())\n",
        "  print(f\"Successfully read energy: {output.get_total_energy()}\")\n",
        "\n",
        "plt.plot(k_point_values, k_point_total_energies, 'o-')\n",
        "plt.xlabel('K Points')\n",
        "plt.ylabel('Total Energy (eV/atom)')\n",
        "plt.title('Total Energy vs. K Points')\n",
        "plt.show()"
      ],
      "metadata": {
        "colab": {
          "base_uri": "https://localhost:8080/",
          "height": 1000
        },
        "id": "y1vLxpHYCMuM",
        "outputId": "e823ec38-2a11-4910-e944-df8ed3d98f45"
      },
      "execution_count": 20,
      "outputs": [
        {
          "output_type": "stream",
          "name": "stdout",
          "text": [
            "The current K points is: 2 2 1 0 0 0\n",
            "Successfully read energy: -2007.6742875170992\n",
            "The current K points is: 3 3 1 0 0 0\n",
            "Successfully read energy: -2007.35451307566\n",
            "The current K points is: 4 4 1 0 0 0\n",
            "Successfully read energy: -2007.5430652443429\n",
            "The current K points is: 5 5 1 0 0 0\n",
            "Successfully read energy: -2007.5635472529787\n",
            "The current K points is: 6 6 1 0 0 0\n",
            "Successfully read energy: -2007.5259481954363\n",
            "The current K points is: 7 7 1 0 0 0\n",
            "Successfully read energy: -2007.5493450875113\n",
            "The current K points is: 8 8 1 0 0 0\n",
            "Successfully read energy: -2007.5511681141736\n",
            "The current K points is: 9 9 1 0 0 0\n",
            "Successfully read energy: -2007.5413714717542\n",
            "The current K points is: 10 10 1 0 0 0\n",
            "Successfully read energy: -2007.556016366437\n",
            "The current K points is: 11 11 1 0 0 0\n",
            "Successfully read energy: -2007.5547430097288\n",
            "The current K points is: 12 12 1 0 0 0\n",
            "Successfully read energy: -2007.54460010245\n",
            "The current K points is: 13 13 1 0 0 0\n",
            "Successfully read energy: -2007.5448552091736\n",
            "The current K points is: 14 14 1 0 0 0\n",
            "Successfully read energy: -2007.5450070486957\n",
            "The current K points is: 15 15 1 0 0 0\n",
            "Successfully read energy: -2007.545292904283\n",
            "The current K points is: 16 16 1 0 0 0\n",
            "Successfully read energy: -2007.545118887483\n",
            "The current K points is: 17 17 1 0 0 0\n",
            "Successfully read energy: -2007.5450914039857\n",
            "The current K points is: 18 18 1 0 0 0\n",
            "Successfully read energy: -2007.5452303181003\n",
            "The current K points is: 19 19 1 0 0 0\n",
            "Successfully read energy: -2007.5451754871617\n",
            "The current K points is: 20 20 1 0 0 0\n",
            "Successfully read energy: -2007.545153173827\n"
          ]
        },
        {
          "output_type": "display_data",
          "data": {
            "text/plain": [
              "<Figure size 640x480 with 1 Axes>"
            ],
            "image/png": "[encoded data removed]"
          },
          "metadata": {}
        }
      ]
    },
    {
      "cell_type": "markdown",
      "source": [
        "## PLOTTING VACUUM SIZE SPACE AGAINST TOTAL ENERGY (Lattice Parameter C)\n",
        "\n"
      ],
      "metadata": {
        "id": "pb3MjjYPR87m"
      }
    },
    {
      "cell_type": "code",
      "source": [
        "!cat graphene.scf.in"
      ],
      "metadata": {
        "colab": {
          "base_uri": "https://localhost:8080/"
        },
        "id": "jHsnys7WPoUx",
        "outputId": "a9cb2cbc-1215-4fc0-87e0-1b9ced99dd34"
      },
      "execution_count": 21,
      "outputs": [
        {
          "output_type": "stream",
          "name": "stdout",
          "text": [
            "\n",
            "&CONTROL\n",
            "  calculation = 'scf'\n",
            "  restart_mode = 'from_scratch'\n",
            "  pseudo_dir= '/content/qe-lite/pseudopotentials'\n",
            "  prefix = 'graphene'\n",
            "/\n",
            "&SYSTEM\n",
            "  ibrav = 0\n",
            "  nat = 8\n",
            "  ntyp = 1\n",
            "  occupations = 'smearing'\n",
            "  smearing = 'mv'\n",
            "  degauss = 0.02\n",
            "  ecutwfc = 80\n",
            "/\n",
            "&ELECTRONS\n",
            "  mixing_beta = 0.3\n",
            "  conv_thr = 1.0d-8\n",
            "/\n",
            "ATOMIC_SPECIES\n",
            "C 12.01017 C.upf\n",
            "\n",
            "ATOMIC_POSITIONS (crystal)\n",
            "C 0.00000  0.00000  0.0\n",
            "C 0.33333  0.66667  0.0\n",
            "C 0.50000  0.00000  0.0\n",
            "C 0.83333  0.66667  0.0\n",
            "C 0.00000  0.50000  0.0\n",
            "C 0.33333  0.16667  0.0\n",
            "C 0.50000  0.50000  0.0\n",
            "C 0.83333  0.16667  0.0\n",
            "\n",
            "\n",
            "CELL_PARAMETERS angstrom\n",
            "  4.920   0.000   0.000\n",
            " -2.460   4.260   0.000\n",
            "  0.000   0.000  15.000\n",
            "  \n",
            "K_POINTS (automatic)\n",
            "20 20 1 0 0 0\n"
          ]
        }
      ]
    },
    {
      "cell_type": "code",
      "source": [
        "c_values = [2.00, 3.00, 4.00, 5.00, 6.00, 7.00, 8.00, 9.00, 10.00, 11.00, 12.00,  13.00, 14.00, 15.00, 16.00, 17.00, 18.00, 19.00, 20.00]\n",
        "c_values_total_energies = []"
      ],
      "metadata": {
        "id": "qzA5s185XotE"
      },
      "execution_count": 22,
      "outputs": []
    },
    {
      "cell_type": "code",
      "source": [
        "def change_vacuum_value(c):\n",
        "    global qe_input\n",
        "\n",
        "    # Use regex to replace only the third line of CELL_PARAMETERS\n",
        "    qe_input = re.sub(\n",
        "        r\"(CELL_PARAMETERS\\s+angstrom\\s+[\\s\\S]*?\\n[\\s\\S]*?\\n)[\\s\\S]*?\\n\",\n",
        "        rf\"\\1  0.00   0.00   {c:.2f}\\n\",\n",
        "        qe_input\n",
        "    )\n",
        "\n",
        "    with open(\"graphene.scf.in\", \"w\") as f:\n",
        "        f.write(qe_input)\n",
        "\n",
        "    # Confirm what was written\n",
        "    output = !grep -A 3 CELL_PARAMETERS graphene.scf.in\n",
        "    print(\"Updated CELL_PARAMETERS:\")\n",
        "    for line in output:\n",
        "        print(line)\n"
      ],
      "metadata": {
        "id": "YoGfUCdBeXIv"
      },
      "execution_count": 23,
      "outputs": []
    },
    {
      "cell_type": "code",
      "source": [
        "change_vacuum_value(3.00)\n",
        "!cat graphene.scf.in"
      ],
      "metadata": {
        "colab": {
          "base_uri": "https://localhost:8080/"
        },
        "id": "XWAQ-b2Mag5D",
        "outputId": "6e8c113f-91d0-4559-a8d4-bc13bccc47f5"
      },
      "execution_count": 24,
      "outputs": [
        {
          "output_type": "stream",
          "name": "stdout",
          "text": [
            "Updated CELL_PARAMETERS:\n",
            "CELL_PARAMETERS angstrom\n",
            "  4.920   0.000   0.000\n",
            " -2.460   4.260   0.000\n",
            "  0.00   0.00   3.00\n",
            "\n",
            "&CONTROL\n",
            "  calculation = 'scf'\n",
            "  restart_mode = 'from_scratch'\n",
            "  pseudo_dir= '/content/qe-lite/pseudopotentials'\n",
            "  prefix = 'graphene'\n",
            "/\n",
            "&SYSTEM\n",
            "  ibrav = 0\n",
            "  nat = 8\n",
            "  ntyp = 1\n",
            "  occupations = 'smearing'\n",
            "  smearing = 'mv'\n",
            "  degauss = 0.02\n",
            "  ecutwfc = 80\n",
            "/\n",
            "&ELECTRONS\n",
            "  mixing_beta = 0.3\n",
            "  conv_thr = 1.0d-8\n",
            "/\n",
            "ATOMIC_SPECIES\n",
            "C 12.01017 C.upf\n",
            "\n",
            "ATOMIC_POSITIONS (crystal)\n",
            "C 0.00000  0.00000  0.0\n",
            "C 0.33333  0.66667  0.0\n",
            "C 0.50000  0.00000  0.0\n",
            "C 0.83333  0.66667  0.0\n",
            "C 0.00000  0.50000  0.0\n",
            "C 0.33333  0.16667  0.0\n",
            "C 0.50000  0.50000  0.0\n",
            "C 0.83333  0.16667  0.0\n",
            "\n",
            "\n",
            "CELL_PARAMETERS angstrom\n",
            "  4.920   0.000   0.000\n",
            " -2.460   4.260   0.000\n",
            "  0.00   0.00   3.00\n",
            "  \n",
            "K_POINTS (automatic)\n",
            "20 20 1 0 0 0\n"
          ]
        }
      ]
    },
    {
      "cell_type": "code",
      "source": [
        "for c in c_values:\n",
        "  change_vacuum_value(c)\n",
        "  ! /content/qe-lite/bin/pw.x < graphene.scf.in > graphene.scf.out\n",
        "  output = ase.io.read(\"graphene.scf.out\")\n",
        "  c_values_total_energies.append(output.get_total_energy())\n",
        "  print(f\"Successfully read energy: {output.get_total_energy()}\")\n",
        "  print(f\"Successfully read lattice parameter: {c}\")\n",
        "\n",
        "plt.plot(c_values, c_values_total_energies, 'o-')\n",
        "plt.xlabel('C')\n",
        "plt.ylabel('Total Energy (eV/atom)')\n",
        "plt.title('Total Energy vs. C')\n",
        "plt.show()\n"
      ],
      "metadata": {
        "colab": {
          "base_uri": "https://localhost:8080/",
          "height": 1000
        },
        "id": "bnTnlzhHaij9",
        "outputId": "91aae75f-be53-4697-f354-5822acf1e036"
      },
      "execution_count": 25,
      "outputs": [
        {
          "output_type": "stream",
          "name": "stdout",
          "text": [
            "Updated CELL_PARAMETERS:\n",
            "CELL_PARAMETERS angstrom\n",
            "  4.920   0.000   0.000\n",
            " -2.460   4.260   0.000\n",
            "  0.00   0.00   2.00\n",
            "Successfully read energy: -1975.061993760231\n",
            "Successfully read lattice parameter: 2.0\n",
            "Updated CELL_PARAMETERS:\n",
            "CELL_PARAMETERS angstrom\n",
            "  4.920   0.000   0.000\n",
            " -2.460   4.260   0.000\n",
            "  0.00   0.00   3.00\n",
            "Successfully read energy: -1998.559160873521\n",
            "Successfully read lattice parameter: 3.0\n",
            "Updated CELL_PARAMETERS:\n",
            "CELL_PARAMETERS angstrom\n",
            "  4.920   0.000   0.000\n",
            " -2.460   4.260   0.000\n",
            "  0.00   0.00   4.00\n",
            "Successfully read energy: -2005.4370758369805\n",
            "Successfully read lattice parameter: 4.0\n",
            "Updated CELL_PARAMETERS:\n",
            "CELL_PARAMETERS angstrom\n",
            "  4.920   0.000   0.000\n",
            " -2.460   4.260   0.000\n",
            "  0.00   0.00   5.00\n",
            "Successfully read energy: -2007.1230888274695\n",
            "Successfully read lattice parameter: 5.0\n",
            "Updated CELL_PARAMETERS:\n",
            "CELL_PARAMETERS angstrom\n",
            "  4.920   0.000   0.000\n",
            " -2.460   4.260   0.000\n",
            "  0.00   0.00   6.00\n",
            "Successfully read energy: -2007.4665393497824\n",
            "Successfully read lattice parameter: 6.0\n",
            "Updated CELL_PARAMETERS:\n",
            "CELL_PARAMETERS angstrom\n",
            "  4.920   0.000   0.000\n",
            " -2.460   4.260   0.000\n",
            "  0.00   0.00   7.00\n",
            "Successfully read energy: -2007.5316918382857\n",
            "Successfully read lattice parameter: 7.0\n",
            "Updated CELL_PARAMETERS:\n",
            "CELL_PARAMETERS angstrom\n",
            "  4.920   0.000   0.000\n",
            " -2.460   4.260   0.000\n",
            "  0.00   0.00   8.00\n",
            "Successfully read energy: -2007.5419867211435\n",
            "Successfully read lattice parameter: 8.0\n",
            "Updated CELL_PARAMETERS:\n",
            "CELL_PARAMETERS angstrom\n",
            "  4.920   0.000   0.000\n",
            " -2.460   4.260   0.000\n",
            "  0.00   0.00   9.00\n",
            "Successfully read energy: -2007.5442051292132\n",
            "Successfully read lattice parameter: 9.0\n",
            "Updated CELL_PARAMETERS:\n",
            "CELL_PARAMETERS angstrom\n",
            "  4.920   0.000   0.000\n",
            " -2.460   4.260   0.000\n",
            "  0.00   0.00   10.00\n",
            "Successfully read energy: -2007.5450456888605\n",
            "Successfully read lattice parameter: 10.0\n",
            "Updated CELL_PARAMETERS:\n",
            "CELL_PARAMETERS angstrom\n",
            "  4.920   0.000   0.000\n",
            " -2.460   4.260   0.000\n",
            "  0.00   0.00   11.00\n",
            "Successfully read energy: -2007.5450277293473\n",
            "Successfully read lattice parameter: 11.0\n",
            "Updated CELL_PARAMETERS:\n",
            "CELL_PARAMETERS angstrom\n",
            "  4.920   0.000   0.000\n",
            " -2.460   4.260   0.000\n",
            "  0.00   0.00   12.00\n",
            "Successfully read energy: -2007.5444232284547\n",
            "Successfully read lattice parameter: 12.0\n",
            "Updated CELL_PARAMETERS:\n",
            "CELL_PARAMETERS angstrom\n",
            "  4.920   0.000   0.000\n",
            " -2.460   4.260   0.000\n",
            "  0.00   0.00   13.00\n",
            "Successfully read energy: -2007.544701464855\n",
            "Successfully read lattice parameter: 13.0\n",
            "Updated CELL_PARAMETERS:\n",
            "CELL_PARAMETERS angstrom\n",
            "  4.920   0.000   0.000\n",
            " -2.460   4.260   0.000\n",
            "  0.00   0.00   14.00\n",
            "Successfully read energy: -2007.5443060834473\n",
            "Successfully read lattice parameter: 14.0\n",
            "Updated CELL_PARAMETERS:\n",
            "CELL_PARAMETERS angstrom\n",
            "  4.920   0.000   0.000\n",
            " -2.460   4.260   0.000\n",
            "  0.00   0.00   15.00\n",
            "Successfully read energy: -2007.545153173827\n",
            "Successfully read lattice parameter: 15.0\n",
            "Updated CELL_PARAMETERS:\n",
            "CELL_PARAMETERS angstrom\n",
            "  4.920   0.000   0.000\n",
            " -2.460   4.260   0.000\n",
            "  0.00   0.00   16.00\n",
            "Successfully read energy: -2007.5442923416983\n",
            "Successfully read lattice parameter: 16.0\n",
            "Updated CELL_PARAMETERS:\n",
            "CELL_PARAMETERS angstrom\n",
            "  4.920   0.000   0.000\n",
            " -2.460   4.260   0.000\n",
            "  0.00   0.00   17.00\n",
            "Successfully read energy: -2007.5443795541837\n",
            "Successfully read lattice parameter: 17.0\n",
            "Updated CELL_PARAMETERS:\n",
            "CELL_PARAMETERS angstrom\n",
            "  4.920   0.000   0.000\n",
            " -2.460   4.260   0.000\n",
            "  0.00   0.00   18.00\n",
            "Successfully read energy: -2007.5445036380938\n",
            "Successfully read lattice parameter: 18.0\n",
            "Updated CELL_PARAMETERS:\n",
            "CELL_PARAMETERS angstrom\n",
            "  4.920   0.000   0.000\n",
            " -2.460   4.260   0.000\n",
            "  0.00   0.00   19.00\n",
            "Successfully read energy: -2007.5442360141337\n",
            "Successfully read lattice parameter: 19.0\n",
            "Updated CELL_PARAMETERS:\n",
            "CELL_PARAMETERS angstrom\n",
            "  4.920   0.000   0.000\n",
            " -2.460   4.260   0.000\n",
            "  0.00   0.00   20.00\n",
            "Successfully read energy: -2007.545102288539\n",
            "Successfully read lattice parameter: 20.0\n"
          ]
        },
        {
          "output_type": "display_data",
          "data": {
            "text/plain": [
              "<Figure size 640x480 with 1 Axes>"
            ],
            "image/png": "[encoded data removed]"
          },
          "metadata": {}
        }
      ]
    },
    {
      "cell_type": "markdown",
      "source": [
        "## COMBINING ALL GRAPHS INTO ONE FIGURE"
      ],
      "metadata": {
        "id": "jAe0LloLdXvi"
      }
    },
    {
      "cell_type": "code",
      "source": [
        "plt.figure(figsize=(20, 8))\n",
        "\n",
        "plt.subplot(1, 3, 1)\n",
        "plt.plot(ecutwfc_values, ecutoff_total_energies, 'o-')\n",
        "plt.xlabel('ecutwfc')\n",
        "plt.ylabel('Total Energy (eV/atom)')\n",
        "plt.title('Total Energy vs. ecutwfc')\n",
        "\n",
        "plt.subplot(1, 3, 2)\n",
        "plt.plot(k_point_values, k_point_total_energies, 'o-')\n",
        "plt.xlabel('K Points')\n",
        "plt.ylabel('Total Energy (eV/atom)')\n",
        "plt.title('Total Energy vs. K Points')\n",
        "\n",
        "plt.subplot(1, 3, 3)\n",
        "plt.plot(c_values, c_values_total_energies, 'o-')\n",
        "plt.xlabel('C')\n",
        "plt.ylabel('Total Energy (eV/atom)')\n",
        "plt.title('Total Energy vs. C')\n",
        "\n",
        "plt.tight_layout()\n",
        "plt.show()"
      ],
      "metadata": {
        "colab": {
          "base_uri": "https://localhost:8080/",
          "height": 591
        },
        "id": "F-iDnjrycM-3",
        "outputId": "0278073d-89e9-4d6f-9771-b1f80c1732bb"
      },
      "execution_count": 26,
      "outputs": [
        {
          "output_type": "display_data",
          "data": {
            "text/plain": [
              "<Figure size 2000x800 with 3 Axes>"
            ],
            "image/png": "[encoded data removed]"
          },
          "metadata": {}
        }
      ]
    }
  ]
}
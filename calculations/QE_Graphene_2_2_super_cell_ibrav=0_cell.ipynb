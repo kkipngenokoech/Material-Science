{
  "nbformat": 4,
  "nbformat_minor": 0,
  "metadata": {
    "colab": {
      "provenance": [],
      "authorship_tag": "ABX9TyOcJ5QSxUqez0fyBLzQwH7/",
      "include_colab_link": true
    },
    "kernelspec": {
      "name": "python3",
      "display_name": "Python 3"
    },
    "language_info": {
      "name": "python"
    }
  },
  "cells": [
    {
      "cell_type": "markdown",
      "metadata": {
        "id": "view-in-github",
        "colab_type": "text"
      },
      "source": [
        "<a href=\"https://colab.research.google.com/github/kkipngenokoech/Material-Science/blob/main/calculations/QE_Graphene_2_2_super_cell_ibrav%3D0_cell.ipynb\" target=\"_parent\"><img src=\"https://colab.research.google.com/assets/colab-badge.svg\" alt=\"Open In Colab\"/></a>"
      ]
    },
    {
      "cell_type": "code",
      "source": [
        "# eliminate text output during installation\n",
        "%%capture\n",
        "\n",
        "# install mathematical libraries to peform fast Fourier transforms\n",
        "# (the exclamation mark means that the command is run under Linux)\n",
        "! apt-get install -y libfftw3-3 libfftw3-dev libfftw3-doc"
      ],
      "metadata": {
        "id": "VrwoK7hIjDB_"
      },
      "execution_count": null,
      "outputs": []
    },
    {
      "cell_type": "code",
      "source": [
        "# eliminate text output during installation\n",
        "%%capture\n",
        "\n",
        "# install the Atomic simulation environment\n",
        "# ! apt install ase\n",
        "! pip install git+https://gitlab.com/ase/ase"
      ],
      "metadata": {
        "id": "xnD1Gf1CjFRX"
      },
      "execution_count": null,
      "outputs": []
    },
    {
      "cell_type": "markdown",
      "source": [
        "## Loading Libraries"
      ],
      "metadata": {
        "id": "s1sTuzu5yOoe"
      }
    },
    {
      "cell_type": "code",
      "source": [
        "import ase.io\n",
        "import matplotlib.pyplot as plt\n",
        "import numpy as np\n",
        "import re"
      ],
      "metadata": {
        "id": "7lAbGW99m1jT"
      },
      "execution_count": null,
      "outputs": []
    },
    {
      "cell_type": "code",
      "source": [
        "# eliminate text output during installation\n",
        "%%capture\n",
        "\n",
        "# navigate to main directory named '/content/'\n",
        "%cd /content/\n",
        "\n",
        "# download the pre-compiled files in compressed format (under Linux)\n",
        "#! wget 'https://docs.google.com/uc?export=download&id=1kw_CJMjP6ggDZXDNp5phAqCPpoe2WXCA' -O qe-lite.tgz\n",
        "!gdown 'https://drive.google.com/uc?export=download&id=13l-Kiyg-F6aYb5lF8M3RsE1hSnLRdGna' -O qe-lite.tgz\n",
        "\n",
        "# unpack the compressed files (under Linux)\n",
        "! tar -xvzf qe-lite.tgz\n",
        "\n",
        "# clean up some files\n",
        "! rm -rf sample_data qe-lite.tgz"
      ],
      "metadata": {
        "id": "vN51ckNjjHMr"
      },
      "execution_count": null,
      "outputs": []
    },
    {
      "cell_type": "code",
      "source": [
        "!ls"
      ],
      "metadata": {
        "colab": {
          "base_uri": "https://localhost:8080/"
        },
        "id": "SasoO6D6jNTs",
        "outputId": "2b84f69d-59c1-4c84-83a9-59c412570f30"
      },
      "execution_count": null,
      "outputs": [
        {
          "output_type": "stream",
          "name": "stdout",
          "text": [
            "qe-lite\n"
          ]
        }
      ]
    },
    {
      "cell_type": "code",
      "source": [
        "%cd /content/qe-lite/pseudopotentials/\n",
        "!wget 'http://pseudopotentials.quantum-espresso.org/upf_files/C.pbe-n-kjpaw_psl.1.0.0.UPF'\n",
        "!mv C.pbe-n-kjpaw_psl.1.0.0.UPF C.upf"
      ],
      "metadata": {
        "colab": {
          "base_uri": "https://localhost:8080/"
        },
        "id": "ppy4fbH7jQ3J",
        "outputId": "7b505594-2a81-48f8-e80e-fbc8baf621b3"
      },
      "execution_count": null,
      "outputs": [
        {
          "output_type": "stream",
          "name": "stdout",
          "text": [
            "/content/qe-lite/pseudopotentials\n",
            "--2025-07-29 08:11:50--  http://pseudopotentials.quantum-espresso.org/upf_files/C.pbe-n-kjpaw_psl.1.0.0.UPF\n",
            "Resolving pseudopotentials.quantum-espresso.org (pseudopotentials.quantum-espresso.org)... 51.77.118.191\n",
            "Connecting to pseudopotentials.quantum-espresso.org (pseudopotentials.quantum-espresso.org)|51.77.118.191|:80... connected.\n",
            "HTTP request sent, awaiting response... 200 OK\n",
            "Length: 858332 (838K)\n",
            "Saving to: ‘C.pbe-n-kjpaw_psl.1.0.0.UPF’\n",
            "\n",
            "C.pbe-n-kjpaw_psl.1 100%[===================>] 838.21K  1.42MB/s    in 0.6s    \n",
            "\n",
            "2025-07-29 08:11:51 (1.42 MB/s) - ‘C.pbe-n-kjpaw_psl.1.0.0.UPF’ saved [858332/858332]\n",
            "\n"
          ]
        }
      ]
    },
    {
      "cell_type": "code",
      "source": [
        "# create calculation folder and navigate into it\n",
        "%mkdir -p /content/graphene\n",
        "%cd /content/graphene/\n",
        "\n",
        "# create input and write it into the file graphene.scf.in\n",
        "# (documentation can be found at https://www.quantum-espresso.org/Doc/INPUT_PW.html)\n",
        "\n",
        "# cut-off and total enegry [10 - 100] with a step of five, a plot of cut-off and total enegry,\n",
        "# k point increase from 1 - 10\n",
        "# cell dimension along the z axis, 1 - 10 , ensure convergence\n",
        "# nitride of graphene  = 18 atoms\n",
        "\n",
        "qe_input = \"\"\"\n",
        "&CONTROL\n",
        "  calculation = 'scf'\n",
        "  restart_mode = 'from_scratch'\n",
        "  pseudo_dir= '/content/qe-lite/pseudopotentials'\n",
        "  prefix = 'graphene'\n",
        "/\n",
        "&SYSTEM\n",
        "  ibrav = 0\n",
        "  nat = 2\n",
        "  ntyp = 1\n",
        "  occupations = 'smearing'\n",
        "  smearing = 'mv'\n",
        "  degauss = 0.02\n",
        "  ecutwfc = 50\n",
        "/\n",
        "&ELECTRONS\n",
        "  mixing_beta = 0.3\n",
        "  conv_thr = 1.0d-8\n",
        "/\n",
        "ATOMIC_SPECIES\n",
        "C 12.01017 C.upf\n",
        "ATOMIC_POSITIONS (crystal)\n",
        "C 0 0 0\n",
        "C 0.33333 0.66667 0\n",
        "\n",
        "CELL_PARAMETERS angstrom\n",
        "  2.46    0.00     0.00\n",
        " -1.23    2.13     0.00\n",
        "  0.00    0.00    15.00\n",
        "\n",
        "K_POINTS (automatic)\n",
        "10 10 1 0 0 0\n",
        "\"\"\"\n",
        "\n",
        "\n",
        "with open(\"graphene.scf.in\", \"w\") as f:\n",
        "    f.write(qe_input)\n",
        "\n",
        "# print the content of the input file (under Linux)\n",
        "! cat graphene.scf.in"
      ],
      "metadata": {
        "colab": {
          "base_uri": "https://localhost:8080/"
        },
        "id": "uM-ovq-jjjJB",
        "outputId": "9b17336c-e40a-4f64-8f9d-2e820b9985d8"
      },
      "execution_count": null,
      "outputs": [
        {
          "output_type": "stream",
          "name": "stdout",
          "text": [
            "/content/graphene\n",
            "\n",
            "&CONTROL\n",
            "  calculation = 'scf'\n",
            "  restart_mode = 'from_scratch'\n",
            "  pseudo_dir= '/content/qe-lite/pseudopotentials'\n",
            "  prefix = 'graphene'\n",
            "/\n",
            "&SYSTEM\n",
            "  ibrav = 0\n",
            "  nat = 2\n",
            "  ntyp = 1\n",
            "  occupations = 'smearing'\n",
            "  smearing = 'mv'\n",
            "  degauss = 0.02\n",
            "  ecutwfc = 50\n",
            "/\n",
            "&ELECTRONS\n",
            "  mixing_beta = 0.3\n",
            "  conv_thr = 1.0d-8\n",
            "/\n",
            "ATOMIC_SPECIES\n",
            "C 12.01017 C.upf\n",
            "ATOMIC_POSITIONS (crystal)\n",
            "C 0 0 0\n",
            "C 0.33333 0.66667 0\n",
            "\n",
            "CELL_PARAMETERS angstrom\n",
            "  2.46    0.00     0.00\n",
            " -1.23    2.13     0.00\n",
            "  0.00    0.00    15.00\n",
            "\n",
            "K_POINTS (automatic)\n",
            "10 10 1 0 0 0\n"
          ]
        }
      ]
    },
    {
      "cell_type": "code",
      "source": [
        "# run the pw.x executable using si.scf.in to create si.scf.out\n",
        "! /content/qe-lite/bin/pw.x < graphene.scf.in > graphene.scf.out\n",
        "\n",
        "# print the content of the output file (under Linux)\n",
        "! cat graphene.scf.out"
      ],
      "metadata": {
        "colab": {
          "base_uri": "https://localhost:8080/"
        },
        "id": "ql_y3A3SkIYt",
        "outputId": "441a1e57-71b1-49db-c7cb-09f457121395"
      },
      "execution_count": null,
      "outputs": [
        {
          "output_type": "stream",
          "name": "stdout",
          "text": [
            "\n",
            "     Program PWSCF v.7.4 starts on 29Jul2025 at  9: 0:14 \n",
            "\n",
            "     This program is part of the open-source Quantum ESPRESSO suite\n",
            "     for quantum simulation of materials; please cite\n",
            "         \"P. Giannozzi et al., J. Phys.:Condens. Matter 21 395502 (2009);\n",
            "         \"P. Giannozzi et al., J. Phys.:Condens. Matter 29 465901 (2017);\n",
            "         \"P. Giannozzi et al., J. Chem. Phys. 152 154105 (2020);\n",
            "          URL http://www.quantum-espresso.org\", \n",
            "     in publications or presentations arising from this work. More details at\n",
            "     http://www.quantum-espresso.org/quote\n",
            "\n",
            "     Serial version\n",
            "     7802 MiB available memory on the printing compute node when the environment starts\n",
            "\n",
            "     Waiting for input...\n",
            "     Reading input from standard input\n",
            "\n",
            "     Current dimensions of program PWSCF are:\n",
            "     Max number of different atomic species (ntypx) = 10\n",
            "     Max number of k-points (npk) =  40000\n",
            "     Max angular momentum in pseudopotentials (lmaxx) =  4\n",
            "     file C.upf: wavefunction(s)  2S 2P renormalized\n",
            "     Message from routine setup:\n",
            "     using ibrav=0 with symmetry is DISCOURAGED, use correct ibrav instead\n",
            "\n",
            "\n",
            "     G-vector sticks info\n",
            "     --------------------\n",
            "     sticks:   dense  smooth     PW     G-vecs:    dense   smooth      PW\n",
            "     Sum         301     301     91                25471    25471    4591\n",
            "\n",
            "     Using Slab Decomposition\n",
            "\n",
            "\n",
            "\n",
            "     bravais-lattice index     =            0\n",
            "     lattice parameter (alat)  =       4.6487  a.u.\n",
            "     unit-cell volume          =     530.3988 (a.u.)^3\n",
            "     number of atoms/cell      =            2\n",
            "     number of atomic types    =            1\n",
            "     number of electrons       =         8.00\n",
            "     number of Kohn-Sham states=            8\n",
            "     kinetic-energy cutoff     =      50.0000  Ry\n",
            "     charge density cutoff     =     200.0000  Ry\n",
            "     scf convergence threshold =      1.0E-08\n",
            "     mixing beta               =       0.3000\n",
            "     number of iterations used =            8  plain     mixing\n",
            "     Exchange-correlation= SLA  PW   PBX  PBC\n",
            "                           (   1   4   3   4   0   0   0)\n",
            "\n",
            "     celldm(1)=   4.648726  celldm(2)=   0.000000  celldm(3)=   0.000000\n",
            "     celldm(4)=   0.000000  celldm(5)=   0.000000  celldm(6)=   0.000000\n",
            "\n",
            "     crystal axes: (cart. coord. in units of alat)\n",
            "               a(1) = (   1.000000   0.000000   0.000000 )  \n",
            "               a(2) = (  -0.500000   0.865854   0.000000 )  \n",
            "               a(3) = (   0.000000   0.000000   6.097561 )  \n",
            "\n",
            "     reciprocal axes: (cart. coord. in units 2 pi/alat)\n",
            "               b(1) = (  1.000000  0.577465 -0.000000 )  \n",
            "               b(2) = (  0.000000  1.154930  0.000000 )  \n",
            "               b(3) = (  0.000000 -0.000000  0.164000 )  \n",
            "\n",
            "\n",
            "     PseudoPot. # 1 for C  read from file:\n",
            "     /content/qe-lite/pseudopotentials/C.upf\n",
            "     MD5 check sum: 5f16ad9a65e90284d1d834d4ab3b0f7d\n",
            "     Pseudo is Projector augmented-wave + core cor, Zval =  4.0\n",
            "     Generated using &quot;atomic&quot; code by A. Dal Corso  v.6.3\n",
            "     Shape of augmentation charge: PSQ\n",
            "     Using radial grid of 1073 points,  4 beta functions with: \n",
            "                l(1) =   0\n",
            "                l(2) =   0\n",
            "                l(3) =   1\n",
            "                l(4) =   1\n",
            "     Q(r) pseudized with 0 coefficients \n",
            "\n",
            "\n",
            "     atomic species   valence    mass     pseudopotential\n",
            "     C                 4.00    12.01017     C ( 1.00)\n",
            "\n",
            "      4 Sym. Ops. (no inversion) found\n",
            "\n",
            "\n",
            "\n",
            "   Cartesian axes\n",
            "\n",
            "     site n.     atom                  positions (alat units)\n",
            "         1        C      tau(   1) = (   0.0000000   0.0000000   0.0000000  )\n",
            "         2        C      tau(   2) = (  -0.0000050   0.5772387   0.0000000  )\n",
            "\n",
            "     number of k points=    31  Marzari-Vanderbilt smearing, width (Ry)=  0.0200\n",
            "                       cart. coord. in units 2pi/alat\n",
            "        k(    1) = (   0.0000000   0.0000000   0.0000000), wk =   0.0200000\n",
            "        k(    2) = (   0.0000000   0.1154930   0.0000000), wk =   0.0400000\n",
            "        k(    3) = (   0.0000000   0.2309859   0.0000000), wk =   0.0400000\n",
            "        k(    4) = (   0.0000000   0.3464789   0.0000000), wk =   0.0400000\n",
            "        k(    5) = (   0.0000000   0.4619718   0.0000000), wk =   0.0400000\n",
            "        k(    6) = (   0.0000000  -0.5774648   0.0000000), wk =   0.0200000\n",
            "        k(    7) = (   0.1000000   0.0577465   0.0000000), wk =   0.0800000\n",
            "        k(    8) = (   0.1000000   0.1732394   0.0000000), wk =   0.0800000\n",
            "        k(    9) = (   0.1000000   0.2887324   0.0000000), wk =   0.0800000\n",
            "        k(   10) = (   0.1000000   0.4042254   0.0000000), wk =   0.0800000\n",
            "        k(   11) = (   0.1000000   0.5197183   0.0000000), wk =   0.0800000\n",
            "        k(   12) = (   0.2000000   0.1154930   0.0000000), wk =   0.0800000\n",
            "        k(   13) = (   0.2000000   0.2309859   0.0000000), wk =   0.0800000\n",
            "        k(   14) = (   0.2000000   0.3464789   0.0000000), wk =   0.0800000\n",
            "        k(   15) = (   0.2000000   0.4619718   0.0000000), wk =   0.0800000\n",
            "        k(   16) = (   0.2000000   0.5774648   0.0000000), wk =   0.0400000\n",
            "        k(   17) = (   0.2000000   0.0000000   0.0000000), wk =   0.0400000\n",
            "        k(   18) = (   0.3000000   0.1732394   0.0000000), wk =   0.0800000\n",
            "        k(   19) = (   0.3000000   0.2887324   0.0000000), wk =   0.0800000\n",
            "        k(   20) = (   0.3000000   0.4042254   0.0000000), wk =   0.0800000\n",
            "        k(   21) = (   0.3000000   0.5197183   0.0000000), wk =   0.0800000\n",
            "        k(   22) = (   0.3000000  -0.0577465   0.0000000), wk =   0.0800000\n",
            "        k(   23) = (   0.4000000   0.2309859   0.0000000), wk =   0.0800000\n",
            "        k(   24) = (   0.4000000   0.3464789   0.0000000), wk =   0.0800000\n",
            "        k(   25) = (   0.4000000   0.4619718   0.0000000), wk =   0.0800000\n",
            "        k(   26) = (   0.4000000   0.5774648   0.0000000), wk =   0.0400000\n",
            "        k(   27) = (   0.4000000  -0.1154930   0.0000000), wk =   0.0800000\n",
            "        k(   28) = (   0.4000000   0.0000000   0.0000000), wk =   0.0400000\n",
            "        k(   29) = (  -0.5000000  -0.2887324   0.0000000), wk =   0.0400000\n",
            "        k(   30) = (  -0.5000000  -0.1732394   0.0000000), wk =   0.0800000\n",
            "        k(   31) = (  -0.5000000  -0.0577465   0.0000000), wk =   0.0800000\n",
            "\n",
            "     Dense  grid:    25471 G-vectors     FFT dimensions: (  24,  24, 128)\n",
            "\n",
            "     Estimated max dynamical RAM per process >      46.61 MB\n",
            "\n",
            "     Check: negative core charge=   -0.000025\n",
            "\n",
            "     Initial potential from superposition of free atoms\n",
            "\n",
            "     starting charge       7.9999, renormalised to       8.0000\n",
            "\n",
            "     negative rho (up, down):  4.773E-05 0.000E+00\n",
            "     Starting wfcs are    8 randomized atomic wfcs\n",
            "\n",
            "     total cpu time spent up to now is        1.1 secs\n",
            "\n",
            "     Self-consistent Calculation\n",
            "\n",
            "     iteration #  1     ecut=    50.00 Ry     beta= 0.30\n",
            "     Davidson diagonalization with overlap\n",
            "     ethr =  1.00E-02,  avg # of iterations =  5.9\n",
            "\n",
            "     negative rho (up, down):  3.586E-05 0.000E+00\n",
            "\n",
            "     total cpu time spent up to now is        2.3 secs\n",
            "\n",
            "     total energy              =     -36.91233869 Ry\n",
            "     estimated scf accuracy    <       0.19850963 Ry\n",
            "\n",
            "     iteration #  2     ecut=    50.00 Ry     beta= 0.30\n",
            "     Davidson diagonalization with overlap\n",
            "     ethr =  2.48E-03,  avg # of iterations =  1.9\n",
            "\n",
            "     negative rho (up, down):  1.461E-04 0.000E+00\n",
            "\n",
            "     total cpu time spent up to now is        3.1 secs\n",
            "\n",
            "     total energy              =     -36.87475994 Ry\n",
            "     estimated scf accuracy    <       0.07045707 Ry\n",
            "\n",
            "     iteration #  3     ecut=    50.00 Ry     beta= 0.30\n",
            "     Davidson diagonalization with overlap\n",
            "     ethr =  8.81E-04,  avg # of iterations =  5.5\n",
            "\n",
            "     negative rho (up, down):  1.533E-04 0.000E+00\n",
            "\n",
            "     total cpu time spent up to now is        4.2 secs\n",
            "\n",
            "     total energy              =     -36.88752275 Ry\n",
            "     estimated scf accuracy    <       0.00184532 Ry\n",
            "\n",
            "     iteration #  4     ecut=    50.00 Ry     beta= 0.30\n",
            "     Davidson diagonalization with overlap\n",
            "     ethr =  2.31E-05,  avg # of iterations =  8.0\n",
            "\n",
            "     negative rho (up, down):  1.963E-04 0.000E+00\n",
            "\n",
            "     total cpu time spent up to now is        5.5 secs\n",
            "\n",
            "     total energy              =     -36.88778154 Ry\n",
            "     estimated scf accuracy    <       0.00058602 Ry\n",
            "\n",
            "     iteration #  5     ecut=    50.00 Ry     beta= 0.30\n",
            "     Davidson diagonalization with overlap\n",
            "     ethr =  7.33E-06,  avg # of iterations =  2.0\n",
            "\n",
            "     negative rho (up, down):  1.993E-04 0.000E+00\n",
            "\n",
            "     total cpu time spent up to now is        6.2 secs\n",
            "\n",
            "     total energy              =     -36.88782547 Ry\n",
            "     estimated scf accuracy    <       0.00001499 Ry\n",
            "\n",
            "     iteration #  6     ecut=    50.00 Ry     beta= 0.30\n",
            "     Davidson diagonalization with overlap\n",
            "     ethr =  1.87E-07,  avg # of iterations =  2.8\n",
            "\n",
            "     negative rho (up, down):  1.995E-04 0.000E+00\n",
            "\n",
            "     total cpu time spent up to now is        7.1 secs\n",
            "\n",
            "     total energy              =     -36.88782866 Ry\n",
            "     estimated scf accuracy    <       0.00000036 Ry\n",
            "\n",
            "     iteration #  7     ecut=    50.00 Ry     beta= 0.30\n",
            "     Davidson diagonalization with overlap\n",
            "     ethr =  4.46E-09,  avg # of iterations =  2.4\n",
            "\n",
            "     negative rho (up, down):  1.999E-04 0.000E+00\n",
            "\n",
            "     total cpu time spent up to now is        8.4 secs\n",
            "\n",
            "     total energy              =     -36.88782868 Ry\n",
            "     estimated scf accuracy    <       0.00000010 Ry\n",
            "\n",
            "     iteration #  8     ecut=    50.00 Ry     beta= 0.30\n",
            "     Davidson diagonalization with overlap\n",
            "     ethr =  1.23E-09,  avg # of iterations =  2.0\n",
            "\n",
            "     negative rho (up, down):  1.998E-04 0.000E+00\n",
            "\n",
            "     total cpu time spent up to now is        9.3 secs\n",
            "\n",
            "     total energy              =     -36.88782871 Ry\n",
            "     estimated scf accuracy    <       0.00000001 Ry\n",
            "\n",
            "     iteration #  9     ecut=    50.00 Ry     beta= 0.30\n",
            "     Davidson diagonalization with overlap\n",
            "     ethr =  1.31E-10,  avg # of iterations =  1.3\n",
            "\n",
            "     negative rho (up, down):  1.998E-04 0.000E+00\n",
            "\n",
            "     total cpu time spent up to now is       10.1 secs\n",
            "\n",
            "     End of self-consistent calculation\n",
            "\n",
            "          k = 0.0000 0.0000 0.0000 (  3123 PWs)   bands (ev):\n",
            "\n",
            "   -21.2853  -9.3687  -4.7464  -4.7453   1.0882   1.8153   2.0598   4.0763\n",
            "\n",
            "          k = 0.0000 0.1155 0.0000 (  3161 PWs)   bands (ev):\n",
            "\n",
            "   -21.0483  -9.0850  -5.6655  -5.2239   1.4151   2.1430   2.3860   4.3991\n",
            "\n",
            "          k = 0.0000 0.2310 0.0000 (  3151 PWs)   bands (ev):\n",
            "\n",
            "   -20.3408  -8.2451  -7.8537  -6.2480   2.3952   3.1240   3.3645   5.3588\n",
            "\n",
            "          k = 0.0000 0.3465 0.0000 (  3183 PWs)   bands (ev):\n",
            "\n",
            "   -19.1758 -10.4797  -7.2445  -6.8954   4.0247   4.1498   4.8077   4.9910\n",
            "\n",
            "          k = 0.0000 0.4620 0.0000 (  3205 PWs)   bands (ev):\n",
            "\n",
            "   -17.5864 -13.0678  -7.9183  -5.2004   1.4852   5.8645   6.3192   7.0504\n",
            "\n",
            "          k = 0.0000-0.5775 0.0000 (  3204 PWs)   bands (ev):\n",
            "\n",
            "   -16.0093 -14.9947  -8.1531  -4.0690  -0.0114   5.7615   9.1463   9.2366\n",
            "\n",
            "          k = 0.1000 0.0577 0.0000 (  3161 PWs)   bands (ev):\n",
            "\n",
            "   -21.0484  -9.0851  -5.6666  -5.2229   1.4150   2.1429   2.3859   4.3990\n",
            "\n",
            "          k = 0.1000 0.1732 0.0000 (  3151 PWs)   bands (ev):\n",
            "\n",
            "   -20.5761  -8.5229  -7.0200  -6.1775   2.0687   2.7976   3.0386   5.0427\n",
            "\n",
            "          k = 0.1000 0.2887 0.0000 (  3167 PWs)   bands (ev):\n",
            "\n",
            "   -19.6398  -9.1886  -7.4310  -7.4238   3.3744   4.0989   4.3433   5.3057\n",
            "\n",
            "          k = 0.1000 0.4042 0.0000 (  3172 PWs)   bands (ev):\n",
            "\n",
            "   -18.2607 -11.7097  -8.3543  -5.8693   2.6598   5.3251   6.0627   6.2913\n",
            "\n",
            "          k = 0.1000 0.5197 0.0000 (  3174 PWs)   bands (ev):\n",
            "\n",
            "   -16.5153 -14.1026  -8.8340  -4.2157   0.3753   6.8070   7.9149   8.6209\n",
            "\n",
            "          k = 0.2000 0.1155 0.0000 (  3149 PWs)   bands (ev):\n",
            "\n",
            "   -20.3411  -8.2455  -7.8553  -6.2461   2.3948   3.1236   3.3641   5.3583\n",
            "\n",
            "          k = 0.2000 0.2310 0.0000 (  3167 PWs)   bands (ev):\n",
            "\n",
            "   -19.6401  -9.1905  -7.4288  -7.4241   3.3741   4.0986   4.3430   5.3051\n",
            "\n",
            "          k = 0.2000 0.3465 0.0000 (  3145 PWs)   bands (ev):\n",
            "\n",
            "   -18.4891 -10.6648  -9.2025  -6.1033   3.2388   5.0019   5.7172   5.9723\n",
            "\n",
            "          k = 0.2000 0.4620 0.0000 (  3161 PWs)   bands (ev):\n",
            "\n",
            "   -16.9295 -12.6672 -10.2812  -4.4205   1.0248   7.2613   7.9005   8.2396\n",
            "\n",
            "          k = 0.2000 0.5775 0.0000 (  3170 PWs)   bands (ev):\n",
            "\n",
            "   -15.4016 -14.4324 -10.5867  -3.2042  -0.3892   9.2084   9.5635  10.0068\n",
            "\n",
            "          k = 0.2000 0.0000 0.0000 (  3151 PWs)   bands (ev):\n",
            "\n",
            "   -20.5763  -8.5232  -7.0200  -6.1776   2.0684   2.7973   3.0383   5.0422\n",
            "\n",
            "          k = 0.3000 0.1732 0.0000 (  3183 PWs)   bands (ev):\n",
            "\n",
            "   -19.1764 -10.4814  -7.2418  -6.8963   4.0239   4.1487   4.8071   4.9902\n",
            "\n",
            "          k = 0.3000 0.2887 0.0000 (  3172 PWs)   bands (ev):\n",
            "\n",
            "   -18.2613 -11.7116  -8.3514  -5.8702   2.6589   5.3243   6.0621   6.2908\n",
            "\n",
            "          k = 0.3000 0.4042 0.0000 (  3163 PWs)   bands (ev):\n",
            "\n",
            "   -16.9299 -12.6686 -10.2791  -4.4211   1.0246   7.2608   7.9002   8.2391\n",
            "\n",
            "          k = 0.3000 0.5197 0.0000 (  3149 PWs)   bands (ev):\n",
            "\n",
            "   -15.2904 -13.5944 -11.9309  -2.7256  -0.6762   8.9953   9.7480  10.7752\n",
            "\n",
            "          k = 0.3000-0.0577 0.0000 (  3167 PWs)   bands (ev):\n",
            "\n",
            "   -19.6404  -9.1895  -7.4297  -7.4245   3.3736   4.0981   4.3425   5.3053\n",
            "\n",
            "          k = 0.4000 0.2310 0.0000 (  3205 PWs)   bands (ev):\n",
            "\n",
            "   -17.5877 -13.0690  -7.9153  -5.2021   1.4846   5.8710   6.3179   7.0489\n",
            "\n",
            "          k = 0.4000 0.3465 0.0000 (  3174 PWs)   bands (ev):\n",
            "\n",
            "   -16.5168 -14.1036  -8.8310  -4.2177   0.3753   6.8142   7.9134   8.6197\n",
            "\n",
            "          k = 0.4000 0.4620 0.0000 (  3170 PWs)   bands (ev):\n",
            "\n",
            "   -15.4046 -14.4311 -10.5846  -3.2067  -0.3879   9.2163   9.5637  10.0040\n",
            "\n",
            "          k = 0.4000 0.5775 0.0000 (  3147 PWs)   bands (ev):\n",
            "\n",
            "   -15.2925 -13.5922 -11.9310  -2.7274  -0.6747   8.9950   9.7450  10.7727\n",
            "\n",
            "          k = 0.4000-0.1155 0.0000 (  3172 PWs)   bands (ev):\n",
            "\n",
            "   -18.2618 -11.7107  -8.3520  -5.8707   2.6594   5.3236   6.0613   6.2899\n",
            "\n",
            "          k = 0.4000 0.0000 0.0000 (  3143 PWs)   bands (ev):\n",
            "\n",
            "   -18.4900 -10.6636  -9.2031  -6.1043   3.2393   5.0007   5.7160   5.9711\n",
            "\n",
            "          k =-0.5000-0.2887 0.0000 (  3204 PWs)   bands (ev):\n",
            "\n",
            "   -16.0125 -14.9940  -8.1500  -4.0717  -0.0110   5.7687   9.1438   9.2341\n",
            "\n",
            "          k =-0.5000-0.1732 0.0000 (  3174 PWs)   bands (ev):\n",
            "\n",
            "   -16.5174 -14.1028  -8.8313  -4.2182   0.3758   6.8145   7.9126   8.6189\n",
            "\n",
            "          k =-0.5000-0.0577 0.0000 (  3161 PWs)   bands (ev):\n",
            "\n",
            "   -16.9311 -12.6667 -10.2800  -4.4223   1.0257   7.2592   7.8987   8.2374\n",
            "\n",
            "     the Fermi energy is    -1.5157 ev\n",
            "\n",
            "!    total energy              =     -36.88782871 Ry\n",
            "     total all-electron energy =      -152.416023 Ry\n",
            "     estimated scf accuracy    <          2.5E-09 Ry\n",
            "     smearing contrib. (-TS)   =       0.00000000 Ry\n",
            "     internal energy E=F+TS    =     -36.88782871 Ry\n",
            "\n",
            "     The total energy is F=E-TS. E is the sum of the following terms:\n",
            "     one-electron contribution =    -157.59536086 Ry\n",
            "     hartree contribution      =      80.42221503 Ry\n",
            "     xc contribution           =      -9.28506481 Ry\n",
            "     ewald contribution        =      61.90460002 Ry\n",
            "     one-center paw contrib.   =     -12.33421809 Ry\n",
            "\n",
            "     convergence has been achieved in   9 iterations\n",
            "\n",
            "     Writing all to output data dir ./graphene.save/ :\n",
            "     XML data file, charge density, pseudopotentials, collected wavefunctions\n",
            "\n",
            "     init_run     :      1.05s CPU      1.09s WALL (       1 calls)\n",
            "     electrons    :      8.82s CPU      8.93s WALL (       1 calls)\n",
            "\n",
            "     Called by init_run:\n",
            "     wfcinit      :      0.47s CPU      0.48s WALL (       1 calls)\n",
            "     potinit      :      0.10s CPU      0.12s WALL (       1 calls)\n",
            "     hinit0       :      0.44s CPU      0.45s WALL (       1 calls)\n",
            "\n",
            "     Called by electrons:\n",
            "     c_bands      :      6.68s CPU      6.76s WALL (       9 calls)\n",
            "     sum_band     :      1.18s CPU      1.19s WALL (       9 calls)\n",
            "     v_of_rho     :      0.23s CPU      0.24s WALL (      10 calls)\n",
            "     newd         :      0.13s CPU      0.14s WALL (      10 calls)\n",
            "     PAW_pot      :      0.67s CPU      0.68s WALL (      10 calls)\n",
            "     mix_rho      :      0.02s CPU      0.02s WALL (       9 calls)\n",
            "\n",
            "     Called by c_bands:\n",
            "     init_us_2    :      0.26s CPU      0.27s WALL (     589 calls)\n",
            "     cegterg      :      6.35s CPU      6.41s WALL (     279 calls)\n",
            "\n",
            "     Called by *egterg:\n",
            "     cdiaghg      :      0.11s CPU      0.11s WALL (    1266 calls)\n",
            "     h_psi        :      5.59s CPU      5.65s WALL (    1297 calls)\n",
            "     s_psi        :      0.12s CPU      0.12s WALL (    1297 calls)\n",
            "     g_psi        :      0.05s CPU      0.05s WALL (     987 calls)\n",
            "\n",
            "     Called by h_psi:\n",
            "     h_psi:calbec :      0.16s CPU      0.16s WALL (    1297 calls)\n",
            "     vloc_psi     :      5.26s CPU      5.32s WALL (    1297 calls)\n",
            "     add_vuspsi   :      0.14s CPU      0.14s WALL (    1297 calls)\n",
            "\n",
            "     General routines\n",
            "     calbec       :      0.19s CPU      0.19s WALL (    1576 calls)\n",
            "     fft          :      0.37s CPU      0.38s WALL (     110 calls)\n",
            "     ffts         :      0.00s CPU      0.01s WALL (       9 calls)\n",
            "     fftw         :      5.13s CPU      5.18s WALL (   15226 calls)\n",
            "\n",
            "\n",
            "     PWSCF        :      9.92s CPU     10.08s WALL\n",
            "\n",
            "\n",
            "   This run was terminated on:   9: 0:24  29Jul2025            \n",
            "\n",
            "=------------------------------------------------------------------------------=\n",
            "   JOB DONE.\n",
            "=------------------------------------------------------------------------------=\n"
          ]
        }
      ]
    },
    {
      "cell_type": "code",
      "source": [
        "\n",
        "! grep -e \"total energy  \" -e \"estimated\" graphene.scf.out"
      ],
      "metadata": {
        "colab": {
          "base_uri": "https://localhost:8080/"
        },
        "id": "2bBy8PPikMYN",
        "outputId": "5fa7829a-3478-4a41-81b0-549b57ca2fa4"
      },
      "execution_count": null,
      "outputs": [
        {
          "output_type": "stream",
          "name": "stdout",
          "text": [
            "     total energy              =     -36.91233869 Ry\n",
            "     estimated scf accuracy    <       0.19850963 Ry\n",
            "     total energy              =     -36.87475994 Ry\n",
            "     estimated scf accuracy    <       0.07045707 Ry\n",
            "     total energy              =     -36.88752275 Ry\n",
            "     estimated scf accuracy    <       0.00184532 Ry\n",
            "     total energy              =     -36.88778154 Ry\n",
            "     estimated scf accuracy    <       0.00058602 Ry\n",
            "     total energy              =     -36.88782547 Ry\n",
            "     estimated scf accuracy    <       0.00001499 Ry\n",
            "     total energy              =     -36.88782866 Ry\n",
            "     estimated scf accuracy    <       0.00000036 Ry\n",
            "     total energy              =     -36.88782868 Ry\n",
            "     estimated scf accuracy    <       0.00000010 Ry\n",
            "     total energy              =     -36.88782871 Ry\n",
            "     estimated scf accuracy    <       0.00000001 Ry\n",
            "!    total energy              =     -36.88782871 Ry\n",
            "     estimated scf accuracy    <          2.5E-09 Ry\n"
          ]
        }
      ]
    },
    {
      "cell_type": "markdown",
      "source": [
        "## CONVERGENCE TEST W.R.T TO PLANE WAVE FUNCTION ECUTOFF ENERGY"
      ],
      "metadata": {
        "id": "vmqNhL3-nduB"
      }
    },
    {
      "cell_type": "code",
      "source": [
        "!cat graphene.scf.in"
      ],
      "metadata": {
        "colab": {
          "base_uri": "https://localhost:8080/"
        },
        "id": "JJHNVHOwpl1G",
        "outputId": "73143e0b-d750-4eb2-9bb1-b5dbe3789b62"
      },
      "execution_count": null,
      "outputs": [
        {
          "output_type": "stream",
          "name": "stdout",
          "text": [
            "\n",
            "&CONTROL\n",
            "  calculation = 'scf'\n",
            "  restart_mode = 'from_scratch'\n",
            "  pseudo_dir= '/content/qe-lite/pseudopotentials'\n",
            "  prefix = 'graphene'\n",
            "/\n",
            "&SYSTEM\n",
            "  ibrav = 0\n",
            "  nat = 2\n",
            "  ntyp = 1\n",
            "  occupations = 'smearing'\n",
            "  smearing = 'mv'\n",
            "  degauss = 0.02\n",
            "  ecutwfc = 50\n",
            "/\n",
            "&ELECTRONS\n",
            "  mixing_beta = 0.3\n",
            "  conv_thr = 1.0d-8\n",
            "/\n",
            "ATOMIC_SPECIES\n",
            "C 12.01017 C.upf\n",
            "ATOMIC_POSITIONS (crystal)\n",
            "C 0 0 0\n",
            "C 0.33333 0.66667 0\n",
            "\n",
            "CELL_PARAMETERS angstrom\n",
            "  2.46    0.00     0.00\n",
            " -1.23    2.13     0.00\n",
            "  0.00    0.00    15.00\n",
            "\n",
            "K_POINTS (automatic)\n",
            "10 10 1 0 0 0\n"
          ]
        }
      ]
    },
    {
      "cell_type": "code",
      "source": [
        "!grep -e \"ecutwfc\" graphene.scf.in"
      ],
      "metadata": {
        "colab": {
          "base_uri": "https://localhost:8080/"
        },
        "id": "j0yMo_stptRJ",
        "outputId": "9e9f3656-55a6-4ea1-8498-9434d3af9420"
      },
      "execution_count": null,
      "outputs": [
        {
          "output_type": "stream",
          "name": "stdout",
          "text": [
            "  ecutwfc = 50\n"
          ]
        }
      ]
    },
    {
      "cell_type": "markdown",
      "source": [
        "## Changing the value of ecutwfc"
      ],
      "metadata": {
        "id": "jNLRjmGvq64x"
      }
    },
    {
      "cell_type": "code",
      "source": [
        "def change_ecutwfc_param(new_cutwfc):\n",
        "  global qe_input\n",
        "  qe_input = re.sub(r\"ecutwfc\\s*=\\s*\\d+\", f\"ecutwfc = {new_cutwfc}\", qe_input)\n",
        "  with open(\"graphene.scf.in\", \"w\") as f:\n",
        "    f.write(qe_input)\n",
        "\n",
        "  grep_output = !grep -e \"ecutwfc \" graphene.scf.in\n",
        "  if grep_output:\n",
        "      match = re.search(r\"ecutwfc\\s*=\\s*(\\d+)\", grep_output[0])\n",
        "      if match:\n",
        "          ecutwfc_value = match.group(1)\n",
        "\n",
        "  print(f\"Running calculation with ecutwfc={ecutwfc_value}\")\n",
        "\n"
      ],
      "metadata": {
        "id": "7-KCv-O0pw-t"
      },
      "execution_count": null,
      "outputs": []
    },
    {
      "cell_type": "code",
      "source": [
        "change_ecutwfc_param(20)\n",
        "!cat graphene.scf.in"
      ],
      "metadata": {
        "colab": {
          "base_uri": "https://localhost:8080/"
        },
        "id": "dYAixjXowA_n",
        "outputId": "1fc45c3e-3e97-4569-86b5-d5236f7d8f4f"
      },
      "execution_count": null,
      "outputs": [
        {
          "output_type": "stream",
          "name": "stdout",
          "text": [
            "Running calculation with ecutwfc=20\n",
            "\n",
            "&CONTROL\n",
            "  calculation = 'scf'\n",
            "  restart_mode = 'from_scratch'\n",
            "  pseudo_dir= '/content/qe-lite/pseudopotentials'\n",
            "  prefix = 'graphene'\n",
            "/\n",
            "&SYSTEM\n",
            "  ibrav = 0\n",
            "  nat = 2\n",
            "  ntyp = 1\n",
            "  occupations = 'smearing'\n",
            "  smearing = 'mv'\n",
            "  degauss = 0.02\n",
            "  ecutwfc = 20\n",
            "/\n",
            "&ELECTRONS\n",
            "  mixing_beta = 0.3\n",
            "  conv_thr = 1.0d-8\n",
            "/\n",
            "ATOMIC_SPECIES\n",
            "C 12.01017 C.upf\n",
            "ATOMIC_POSITIONS (crystal)\n",
            "C 0 0 0\n",
            "C 0.33333 0.66667 0\n",
            "\n",
            "CELL_PARAMETERS angstrom\n",
            "  2.46    0.00     0.00\n",
            " -1.23    2.13     0.00\n",
            "  0.00    0.00    15.00\n",
            "\n",
            "K_POINTS (automatic)\n",
            "10 10 1 0 0 0\n"
          ]
        }
      ]
    },
    {
      "cell_type": "markdown",
      "source": [
        "### PLOTTING A GRAPH OF TOTAL ENERGY AGAINST CUTOFF"
      ],
      "metadata": {
        "id": "6AOii7XGxDMv"
      }
    },
    {
      "cell_type": "code",
      "source": [
        "ecutwfc_values = [10, 20, 30, 40, 50, 60, 70, 80, 90, 100, 110, 120]\n",
        "ecutoff_total_energies = []\n",
        "\n",
        "for ecutwfc in ecutwfc_values:\n",
        "  change_ecutwfc_param(ecutwfc)\n",
        "  ! /content/qe-lite/bin/pw.x < graphene.scf.in > graphene.scf.out\n",
        "  output = ase.io.read(\"graphene.scf.out\")\n",
        "  # ! grep -e \"total energy  \" -e \"estimated\" graphene.scf.out\n",
        "  ecutoff_total_energies.append(output.get_total_energy())\n",
        "  print(f\"Successfully read energy: {output.get_total_energy()}\")\n",
        "\n",
        "\n",
        "plt.plot(ecutwfc_values, ecutoff_total_energies, 'o-')\n",
        "plt.xlabel('ecutwfc')\n",
        "plt.ylabel('Total Energy (eV/atom)')\n",
        "plt.title('Total Energy vs. ecutwfc')\n",
        "plt.show()\n"
      ],
      "metadata": {
        "colab": {
          "base_uri": "https://localhost:8080/",
          "height": 889
        },
        "id": "Rb9N9S0vxCyl",
        "outputId": "1fad05ff-f6bb-472c-d686-5e467d4d0c66"
      },
      "execution_count": null,
      "outputs": [
        {
          "output_type": "stream",
          "name": "stdout",
          "text": [
            "Running calculation with ecutwfc=10\n",
            "Successfully read energy: -489.5170991268398\n",
            "Running calculation with ecutwfc=20\n",
            "Successfully read energy: -500.83658351411333\n",
            "Running calculation with ecutwfc=30\n",
            "Successfully read energy: -501.78639890879464\n",
            "Running calculation with ecutwfc=40\n",
            "Successfully read energy: -501.87085488089815\n",
            "Running calculation with ecutwfc=50\n",
            "Successfully read energy: -501.884433497504\n",
            "Running calculation with ecutwfc=60\n",
            "Successfully read energy: -501.885829985724\n",
            "Running calculation with ecutwfc=70\n",
            "Successfully read energy: -501.8889963023506\n",
            "Running calculation with ecutwfc=80\n",
            "Successfully read energy: -501.890919875076\n",
            "Running calculation with ecutwfc=90\n",
            "Successfully read energy: -501.89135811441315\n",
            "Running calculation with ecutwfc=100\n",
            "Successfully read energy: -501.8915661454428\n",
            "Running calculation with ecutwfc=110\n",
            "Successfully read energy: -501.8916812495966\n",
            "Running calculation with ecutwfc=120\n",
            "Successfully read energy: -501.89196125473654\n"
          ]
        },
        {
          "output_type": "display_data",
          "data": {
            "text/plain": [
              "<Figure size 640x480 with 1 Axes>"
            ],
            "image/png": "[encoded data removed]"
          },
          "metadata": {}
        }
      ]
    },
    {
      "cell_type": "markdown",
      "source": [
        "## CONVERGENCE OF K-POINT SAMPLING WITH TOTAL ENERGY"
      ],
      "metadata": {
        "id": "qJHZP60RAS52"
      }
    },
    {
      "cell_type": "code",
      "source": [
        "!cat graphene.scf.in"
      ],
      "metadata": {
        "colab": {
          "base_uri": "https://localhost:8080/"
        },
        "id": "D7YVHT43mpIR",
        "outputId": "7ba6a61d-6fdb-4274-c84d-05ee964dcaff"
      },
      "execution_count": null,
      "outputs": [
        {
          "output_type": "stream",
          "name": "stdout",
          "text": [
            "\n",
            "&CONTROL\n",
            "  calculation = 'scf'\n",
            "  restart_mode = 'from_scratch'\n",
            "  pseudo_dir= '/content/qe-lite/pseudopotentials'\n",
            "  prefix = 'graphene'\n",
            "/\n",
            "&SYSTEM\n",
            "  ibrav = 0\n",
            "  nat = 2\n",
            "  ntyp = 1\n",
            "  occupations = 'smearing'\n",
            "  smearing = 'mv'\n",
            "  degauss = 0.02\n",
            "  ecutwfc = 120\n",
            "/\n",
            "&ELECTRONS\n",
            "  mixing_beta = 0.3\n",
            "  conv_thr = 1.0d-8\n",
            "/\n",
            "ATOMIC_SPECIES\n",
            "C 12.01017 C.upf\n",
            "ATOMIC_POSITIONS (crystal)\n",
            "C 0 0 0\n",
            "C 0.33333 0.66667 0\n",
            "\n",
            "CELL_PARAMETERS angstrom\n",
            "  2.46    0.00     0.00\n",
            " -1.23    2.13     0.00\n",
            "  0.00    0.00    15.00\n",
            "\n",
            "K_POINTS (automatic)\n",
            "10 10 1 0 0 0\n"
          ]
        }
      ]
    },
    {
      "cell_type": "markdown",
      "source": [
        "### changing the k point sampling"
      ],
      "metadata": {
        "id": "NXnFwnDlCaF1"
      }
    },
    {
      "cell_type": "code",
      "source": [
        "k_point_values = [2, 3, 4, 5, 6, 7, 8, 9, 10, 11, 12,13, 14, 15, 16, 17, 18, 19, 20]\n",
        "k_point_total_energies = []\n",
        "def change_k_point_param(new_k_point):\n",
        "  global qe_input\n",
        "  qe_input = re.sub(r\"K_POINTS\\s*\\(\\s*automatic\\s*\\)\\s*\\n.*\", f\"K_POINTS (automatic)\\n{new_k_point} {new_k_point} 1 0 0 0\", qe_input)\n",
        "  with open(\"graphene.scf.in\", \"w\") as f:\n",
        "    f.write(qe_input)\n",
        "  qe_output = !grep -e \"K_POINTS\" -A 1 graphene.scf.in\n",
        "  print(f\"The current K points is: {qe_output[1]}\")"
      ],
      "metadata": {
        "id": "W1Gz5KTPL-Lw"
      },
      "execution_count": null,
      "outputs": []
    },
    {
      "cell_type": "code",
      "source": [
        "change_k_point_param(3)\n",
        "!cat graphene.scf.in"
      ],
      "metadata": {
        "colab": {
          "base_uri": "https://localhost:8080/"
        },
        "id": "xfqIzoANMU5M",
        "outputId": "1c70a4d9-8e50-40aa-b7e6-fd25921066b8"
      },
      "execution_count": null,
      "outputs": [
        {
          "output_type": "stream",
          "name": "stdout",
          "text": [
            "The current K points is: 3 3 1 0 0 0\n",
            "\n",
            "&CONTROL\n",
            "  calculation = 'scf'\n",
            "  restart_mode = 'from_scratch'\n",
            "  pseudo_dir= '/content/qe-lite/pseudopotentials'\n",
            "  prefix = 'graphene'\n",
            "/\n",
            "&SYSTEM\n",
            "  ibrav = 0\n",
            "  nat = 2\n",
            "  ntyp = 1\n",
            "  occupations = 'smearing'\n",
            "  smearing = 'mv'\n",
            "  degauss = 0.02\n",
            "  ecutwfc = 120\n",
            "/\n",
            "&ELECTRONS\n",
            "  mixing_beta = 0.3\n",
            "  conv_thr = 1.0d-8\n",
            "/\n",
            "ATOMIC_SPECIES\n",
            "C 12.01017 C.upf\n",
            "ATOMIC_POSITIONS (crystal)\n",
            "C 0 0 0\n",
            "C 0.33333 0.66667 0\n",
            "\n",
            "CELL_PARAMETERS angstrom\n",
            "  2.46    0.00     0.00\n",
            " -1.23    2.13     0.00\n",
            "  0.00    0.00    15.00\n",
            "\n",
            "K_POINTS (automatic)\n",
            "3 3 1 0 0 0\n"
          ]
        }
      ]
    },
    {
      "cell_type": "markdown",
      "source": [
        "### PLOTTING A GRAPH OF K POINTS AGAINST TOTAL ENERGY TO TEST FOR CONVERENCE"
      ],
      "metadata": {
        "id": "ho6HWgJlOZyX"
      }
    },
    {
      "cell_type": "code",
      "source": [
        "for k_point in k_point_values:\n",
        "  change_k_point_param(k_point)\n",
        "  ! /content/qe-lite/bin/pw.x < graphene.scf.in > graphene.scf.out\n",
        "  output = ase.io.read(\"graphene.scf.out\")\n",
        "  k_point_total_energies.append(output.get_total_energy())\n",
        "  print(f\"Successfully read energy: {output.get_total_energy()}\")\n",
        "\n",
        "plt.plot(k_point_values, k_point_total_energies, 'o-')\n",
        "plt.xlabel('K Points')\n",
        "plt.ylabel('Total Energy (eV/atom)')\n",
        "plt.title('Total Energy vs. K Points')\n",
        "plt.show()"
      ],
      "metadata": {
        "colab": {
          "base_uri": "https://localhost:8080/",
          "height": 1000
        },
        "id": "y1vLxpHYCMuM",
        "outputId": "1fa9e9b5-7d56-4e30-9df9-835d632d6fbb"
      },
      "execution_count": null,
      "outputs": [
        {
          "output_type": "stream",
          "name": "stdout",
          "text": [
            "The current K points is: 2 2 1 0 0 0\n",
            "Successfully read energy: -499.76391470778333\n",
            "The current K points is: 3 3 1 0 0 0\n",
            "Successfully read energy: -501.35173691621964\n",
            "The current K points is: 4 4 1 0 0 0\n",
            "Successfully read energy: -501.9196659809917\n",
            "The current K points is: 5 5 1 0 0 0\n",
            "Successfully read energy: -501.86241227694\n",
            "The current K points is: 6 6 1 0 0 0\n",
            "Successfully read energy: -501.83971988759305\n",
            "The current K points is: 7 7 1 0 0 0\n",
            "Successfully read energy: -501.9003471229594\n",
            "The current K points is: 8 8 1 0 0 0\n",
            "Successfully read energy: -501.8868463309114\n",
            "The current K points is: 9 9 1 0 0 0\n",
            "Successfully read energy: -501.8745893712199\n",
            "The current K points is: 10 10 1 0 0 0\n",
            "Successfully read energy: -501.89196125473654\n",
            "The current K points is: 11 11 1 0 0 0\n",
            "Successfully read energy: -501.88802839342645\n",
            "The current K points is: 12 12 1 0 0 0\n",
            "Successfully read energy: -501.88255999372484\n",
            "The current K points is: 13 13 1 0 0 0\n",
            "Successfully read energy: -501.889513318644\n",
            "The current K points is: 14 14 1 0 0 0\n",
            "Successfully read energy: -501.8884094888575\n",
            "The current K points is: 15 15 1 0 0 0\n",
            "Successfully read energy: -501.88527092784244\n",
            "The current K points is: 16 16 1 0 0 0\n",
            "Successfully read energy: -501.88886106177273\n",
            "The current K points is: 17 17 1 0 0 0\n",
            "Successfully read energy: -501.889179434964\n",
            "The current K points is: 18 18 1 0 0 0\n",
            "Successfully read energy: -501.88641339779406\n",
            "The current K points is: 19 19 1 0 0 0\n",
            "Successfully read energy: -501.88912161077326\n",
            "The current K points is: 20 20 1 0 0 0\n",
            "Successfully read energy: -501.89007224046867\n"
          ]
        },
        {
          "output_type": "display_data",
          "data": {
            "text/plain": [
              "<Figure size 640x480 with 1 Axes>"
            ],
            "image/png": "[encoded data removed]"
          },
          "metadata": {}
        }
      ]
    },
    {
      "cell_type": "markdown",
      "source": [
        "## PLOTTING VACUUM SIZE SPACE AGAINST TOTAL ENERGY (Lattice Parameter C)\n",
        "\n"
      ],
      "metadata": {
        "id": "pb3MjjYPR87m"
      }
    },
    {
      "cell_type": "code",
      "source": [
        "!cat graphene.scf.in"
      ],
      "metadata": {
        "colab": {
          "base_uri": "https://localhost:8080/"
        },
        "id": "jHsnys7WPoUx",
        "outputId": "d09dc5ca-e895-4267-abdf-7da268d84cb4"
      },
      "execution_count": null,
      "outputs": [
        {
          "output_type": "stream",
          "name": "stdout",
          "text": [
            "\n",
            "&CONTROL\n",
            "  calculation = 'scf'\n",
            "  restart_mode = 'from_scratch'\n",
            "  pseudo_dir= '/content/qe-lite/pseudopotentials'\n",
            "  prefix = 'graphene'\n",
            "/\n",
            "&SYSTEM\n",
            "  ibrav = 0\n",
            "  nat = 2\n",
            "  ntyp = 1\n",
            "  occupations = 'smearing'\n",
            "  smearing = 'mv'\n",
            "  degauss = 0.02\n",
            "  ecutwfc = 120\n",
            "/\n",
            "&ELECTRONS\n",
            "  mixing_beta = 0.3\n",
            "  conv_thr = 1.0d-8\n",
            "/\n",
            "ATOMIC_SPECIES\n",
            "C 12.01017 C.upf\n",
            "ATOMIC_POSITIONS (crystal)\n",
            "C 0 0 0\n",
            "C 0.33333 0.66667 0\n",
            "\n",
            "CELL_PARAMETERS angstrom\n",
            "  2.46    0.00     0.00\n",
            " -1.23    2.13     0.00\n",
            "  0.00    0.00    15.00\n",
            "\n",
            "K_POINTS (automatic)\n",
            "20 20 1 0 0 0\n"
          ]
        }
      ]
    },
    {
      "cell_type": "code",
      "source": [
        "c_values = [2.00, 3.00, 4.00, 5.00, 6.00, 7.00, 8.00, 9.00, 10.00, 11.00, 12.00, 13.00, 14.00, 15.00, 16.00, 17.00, 18.00, 19.00, 20.00]\n",
        "c_values_total_energies = []"
      ],
      "metadata": {
        "id": "qzA5s185XotE"
      },
      "execution_count": null,
      "outputs": []
    },
    {
      "cell_type": "code",
      "source": [
        "def change_vacuum_value(c):\n",
        "    global qe_input\n",
        "\n",
        "    # Use regex to replace only the third line of CELL_PARAMETERS\n",
        "    qe_input = re.sub(\n",
        "        r\"(CELL_PARAMETERS\\s+angstrom\\s+[\\s\\S]*?\\n[\\s\\S]*?\\n)[\\s\\S]*?\\n\",\n",
        "        rf\"\\1  0.00   0.00   {c:.2f}\\n\",\n",
        "        qe_input\n",
        "    )\n",
        "\n",
        "    with open(\"graphene.scf.in\", \"w\") as f:\n",
        "        f.write(qe_input)\n",
        "\n",
        "    # Confirm what was written\n",
        "    output = !grep -A 3 CELL_PARAMETERS graphene.scf.in\n",
        "    print(\"Updated CELL_PARAMETERS:\")\n",
        "    for line in output:\n",
        "        print(line)\n"
      ],
      "metadata": {
        "id": "YoGfUCdBeXIv"
      },
      "execution_count": null,
      "outputs": []
    },
    {
      "cell_type": "code",
      "source": [
        "change_vacuum_value(3.00)\n",
        "!cat graphene.scf.in"
      ],
      "metadata": {
        "colab": {
          "base_uri": "https://localhost:8080/"
        },
        "id": "XWAQ-b2Mag5D",
        "outputId": "9080876e-8166-4f43-fe11-719447617ad1"
      },
      "execution_count": null,
      "outputs": [
        {
          "output_type": "stream",
          "name": "stdout",
          "text": [
            "Updated CELL_PARAMETERS:\n",
            "CELL_PARAMETERS angstrom\n",
            "  2.46    0.00     0.00\n",
            " -1.23    2.13     0.00\n",
            "  0.00   0.00   3.00\n",
            "\n",
            "&CONTROL\n",
            "  calculation = 'scf'\n",
            "  restart_mode = 'from_scratch'\n",
            "  pseudo_dir= '/content/qe-lite/pseudopotentials'\n",
            "  prefix = 'graphene'\n",
            "/\n",
            "&SYSTEM\n",
            "  ibrav = 0\n",
            "  nat = 2\n",
            "  ntyp = 1\n",
            "  occupations = 'smearing'\n",
            "  smearing = 'mv'\n",
            "  degauss = 0.02\n",
            "  ecutwfc = 120\n",
            "/\n",
            "&ELECTRONS\n",
            "  mixing_beta = 0.3\n",
            "  conv_thr = 1.0d-8\n",
            "/\n",
            "ATOMIC_SPECIES\n",
            "C 12.01017 C.upf\n",
            "ATOMIC_POSITIONS (crystal)\n",
            "C 0 0 0\n",
            "C 0.33333 0.66667 0\n",
            "\n",
            "CELL_PARAMETERS angstrom\n",
            "  2.46    0.00     0.00\n",
            " -1.23    2.13     0.00\n",
            "  0.00   0.00   3.00\n",
            "\n",
            "K_POINTS (automatic)\n",
            "20 20 1 0 0 0\n"
          ]
        }
      ]
    },
    {
      "cell_type": "code",
      "source": [
        "for c in c_values:\n",
        "  change_vacuum_value(c)\n",
        "  ! /content/qe-lite/bin/pw.x < graphene.scf.in > graphene.scf.out\n",
        "  output = ase.io.read(\"graphene.scf.out\")\n",
        "  c_values_total_energies.append(output.get_total_energy())\n",
        "  print(f\"Successfully read energy: {output.get_total_energy()}\")\n",
        "  print(f\"Successfully read lattice parameter: {c}\")\n",
        "\n",
        "plt.plot(c_values, c_values_total_energies, 'o-')\n",
        "plt.xlabel('C')\n",
        "plt.ylabel('Total Energy (eV/atom)')\n",
        "plt.title('Total Energy vs. C')\n",
        "plt.show()\n"
      ],
      "metadata": {
        "colab": {
          "base_uri": "https://localhost:8080/",
          "height": 1000
        },
        "id": "bnTnlzhHaij9",
        "outputId": "185f6983-d488-4123-a9ae-de979cd80b1a"
      },
      "execution_count": null,
      "outputs": [
        {
          "output_type": "stream",
          "name": "stdout",
          "text": [
            "Updated CELL_PARAMETERS:\n",
            "CELL_PARAMETERS angstrom\n",
            "  2.46    0.00     0.00\n",
            " -1.23    2.13     0.00\n",
            "  0.00   0.00   2.00\n",
            "Successfully read energy: -493.7626211423421\n",
            "Successfully read lattice parameter: 2.0\n",
            "Updated CELL_PARAMETERS:\n",
            "CELL_PARAMETERS angstrom\n",
            "  2.46    0.00     0.00\n",
            " -1.23    2.13     0.00\n",
            "  0.00   0.00   3.00\n",
            "Successfully read energy: -499.6237383931091\n",
            "Successfully read lattice parameter: 3.0\n",
            "Updated CELL_PARAMETERS:\n",
            "CELL_PARAMETERS angstrom\n",
            "  2.46    0.00     0.00\n",
            " -1.23    2.13     0.00\n",
            "  0.00   0.00   4.00\n",
            "Successfully read energy: -501.35164752682357\n",
            "Successfully read lattice parameter: 4.0\n",
            "Updated CELL_PARAMETERS:\n",
            "CELL_PARAMETERS angstrom\n",
            "  2.46    0.00     0.00\n",
            " -1.23    2.13     0.00\n",
            "  0.00   0.00   5.00\n",
            "Successfully read energy: -501.77658661982963\n",
            "Successfully read lattice parameter: 5.0\n",
            "Updated CELL_PARAMETERS:\n",
            "CELL_PARAMETERS angstrom\n",
            "  2.46    0.00     0.00\n",
            " -1.23    2.13     0.00\n",
            "  0.00   0.00   6.00\n",
            "Successfully read energy: -501.8648836148227\n",
            "Successfully read lattice parameter: 6.0\n",
            "Updated CELL_PARAMETERS:\n",
            "CELL_PARAMETERS angstrom\n",
            "  2.46    0.00     0.00\n",
            " -1.23    2.13     0.00\n",
            "  0.00   0.00   7.00\n",
            "Successfully read energy: -501.8822733217959\n",
            "Successfully read lattice parameter: 7.0\n",
            "Updated CELL_PARAMETERS:\n",
            "CELL_PARAMETERS angstrom\n",
            "  2.46    0.00     0.00\n",
            " -1.23    2.13     0.00\n",
            "  0.00   0.00   8.00\n",
            "Successfully read energy: -501.8861396512724\n",
            "Successfully read lattice parameter: 8.0\n",
            "Updated CELL_PARAMETERS:\n",
            "CELL_PARAMETERS angstrom\n",
            "  2.46    0.00     0.00\n",
            " -1.23    2.13     0.00\n",
            "  0.00   0.00   9.00\n",
            "Successfully read energy: -501.8874275660707\n",
            "Successfully read lattice parameter: 9.0\n",
            "Updated CELL_PARAMETERS:\n",
            "CELL_PARAMETERS angstrom\n",
            "  2.46    0.00     0.00\n",
            " -1.23    2.13     0.00\n",
            "  0.00   0.00   10.00\n",
            "Successfully read energy: -501.8881396879865\n",
            "Successfully read lattice parameter: 10.0\n",
            "Updated CELL_PARAMETERS:\n",
            "CELL_PARAMETERS angstrom\n",
            "  2.46    0.00     0.00\n",
            " -1.23    2.13     0.00\n",
            "  0.00   0.00   11.00\n",
            "Successfully read energy: -501.88866840517494\n",
            "Successfully read lattice parameter: 11.0\n",
            "Updated CELL_PARAMETERS:\n",
            "CELL_PARAMETERS angstrom\n",
            "  2.46    0.00     0.00\n",
            " -1.23    2.13     0.00\n",
            "  0.00   0.00   12.00\n",
            "Successfully read energy: -501.88911997809026\n",
            "Successfully read lattice parameter: 12.0\n",
            "Updated CELL_PARAMETERS:\n",
            "CELL_PARAMETERS angstrom\n",
            "  2.46    0.00     0.00\n",
            " -1.23    2.13     0.00\n",
            "  0.00   0.00   13.00\n",
            "Successfully read energy: -501.8894569910794\n",
            "Successfully read lattice parameter: 13.0\n",
            "Updated CELL_PARAMETERS:\n",
            "CELL_PARAMETERS angstrom\n",
            "  2.46    0.00     0.00\n",
            " -1.23    2.13     0.00\n",
            "  0.00   0.00   14.00\n",
            "Successfully read energy: -501.88977985414897\n",
            "Successfully read lattice parameter: 14.0\n",
            "Updated CELL_PARAMETERS:\n",
            "CELL_PARAMETERS angstrom\n",
            "  2.46    0.00     0.00\n",
            " -1.23    2.13     0.00\n",
            "  0.00   0.00   15.00\n",
            "Successfully read energy: -501.89007224046867\n",
            "Successfully read lattice parameter: 15.0\n",
            "Updated CELL_PARAMETERS:\n",
            "CELL_PARAMETERS angstrom\n",
            "  2.46    0.00     0.00\n",
            " -1.23    2.13     0.00\n",
            "  0.00   0.00   16.00\n",
            "Successfully read energy: -501.89030095215\n",
            "Successfully read lattice parameter: 16.0\n",
            "Updated CELL_PARAMETERS:\n",
            "CELL_PARAMETERS angstrom\n",
            "  2.46    0.00     0.00\n",
            " -1.23    2.13     0.00\n",
            "  0.00   0.00   17.00\n",
            "Successfully read energy: -501.8905175547656\n",
            "Successfully read lattice parameter: 17.0\n",
            "Updated CELL_PARAMETERS:\n",
            "CELL_PARAMETERS angstrom\n",
            "  2.46    0.00     0.00\n",
            " -1.23    2.13     0.00\n",
            "  0.00   0.00   18.00\n",
            "Successfully read energy: -501.89070259217584\n",
            "Successfully read lattice parameter: 18.0\n",
            "Updated CELL_PARAMETERS:\n",
            "CELL_PARAMETERS angstrom\n",
            "  2.46    0.00     0.00\n",
            " -1.23    2.13     0.00\n",
            "  0.00   0.00   19.00\n",
            "Successfully read energy: -501.8908624590561\n",
            "Successfully read lattice parameter: 19.0\n",
            "Updated CELL_PARAMETERS:\n",
            "CELL_PARAMETERS angstrom\n",
            "  2.46    0.00     0.00\n",
            " -1.23    2.13     0.00\n",
            "  0.00   0.00   20.00\n",
            "Successfully read energy: -501.89100885630126\n",
            "Successfully read lattice parameter: 20.0\n"
          ]
        },
        {
          "output_type": "display_data",
          "data": {
            "text/plain": [
              "<Figure size 640x480 with 1 Axes>"
            ],
            "image/png": "[encoded data removed]"
          },
          "metadata": {}
        }
      ]
    },
    {
      "cell_type": "markdown",
      "source": [
        "## COMBINING ALL GRAPHS INTO ONE FIGURE"
      ],
      "metadata": {
        "id": "jAe0LloLdXvi"
      }
    },
    {
      "cell_type": "code",
      "source": [
        "plt.figure(figsize=(20, 8))\n",
        "\n",
        "plt.subplot(1, 3, 1)\n",
        "plt.plot(ecutwfc_values, ecutoff_total_energies, 'o-')\n",
        "plt.xlabel('ecutwfc')\n",
        "plt.ylabel('Total Energy (eV/atom)')\n",
        "plt.title('Total Energy vs. ecutwfc')\n",
        "\n",
        "plt.subplot(1, 3, 2)\n",
        "plt.plot(k_point_values, k_point_total_energies, 'o-')\n",
        "plt.xlabel('K Points')\n",
        "plt.ylabel('Total Energy (eV/atom)')\n",
        "plt.title('Total Energy vs. K Points')\n",
        "\n",
        "plt.subplot(1, 3, 3)\n",
        "plt.plot(c_values, c_values_total_energies, 'o-')\n",
        "plt.xlabel('C')\n",
        "plt.ylabel('Total Energy (eV/atom)')\n",
        "plt.title('Total Energy vs. C')\n",
        "\n",
        "plt.tight_layout()\n",
        "plt.show()"
      ],
      "metadata": {
        "colab": {
          "base_uri": "https://localhost:8080/",
          "height": 591
        },
        "id": "F-iDnjrycM-3",
        "outputId": "3d3d9f3d-cf26-4612-da7f-074f7b8edb99"
      },
      "execution_count": null,
      "outputs": [
        {
          "output_type": "display_data",
          "data": {
            "text/plain": [
              "<Figure size 2000x800 with 3 Axes>"
            ],
            "image/png": "[encoded data removed]"
          },
          "metadata": {}
        }
      ]
    }
  ]
}
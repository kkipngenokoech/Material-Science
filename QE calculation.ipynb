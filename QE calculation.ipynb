{
  "nbformat": 4,
  "nbformat_minor": 0,
  "metadata": {
    "colab": {
      "provenance": [],
      "authorship_tag": "ABX9TyNZ418OSjol+X1/kKgGtC3m",
      "include_colab_link": true
    },
    "kernelspec": {
      "name": "python3",
      "display_name": "Python 3"
    },
    "language_info": {
      "name": "python"
    }
  },
  "cells": [
    {
      "cell_type": "markdown",
      "metadata": {
        "id": "view-in-github",
        "colab_type": "text"
      },
      "source": [
        "<a href=\"https://colab.research.google.com/github/kkipngenokoech/Material-Science/blob/main/QE%20calculation.ipynb\" target=\"_parent\"><img src=\"https://colab.research.google.com/assets/colab-badge.svg\" alt=\"Open In Colab\"/></a>"
      ]
    },
    {
      "cell_type": "code",
      "source": [
        "# eliminate text output during installation\n",
        "%%capture\n",
        "\n",
        "# install mathematical libraries to peform fast Fourier transforms\n",
        "# (the exclamation mark means that the command is run under Linux)\n",
        "! apt-get install -y libfftw3-3 libfftw3-dev libfftw3-doc"
      ],
      "metadata": {
        "id": "VrwoK7hIjDB_"
      },
      "execution_count": 28,
      "outputs": []
    },
    {
      "cell_type": "code",
      "source": [
        "# eliminate text output during installation\n",
        "%%capture\n",
        "\n",
        "# install the Atomic simulation environment\n",
        "# ! apt install ase\n",
        "! pip install git+https://gitlab.com/ase/ase"
      ],
      "metadata": {
        "id": "xnD1Gf1CjFRX"
      },
      "execution_count": 29,
      "outputs": []
    },
    {
      "cell_type": "markdown",
      "source": [
        "## Loading Libraries"
      ],
      "metadata": {
        "id": "s1sTuzu5yOoe"
      }
    },
    {
      "cell_type": "code",
      "source": [
        "import ase.io\n",
        "import matplotlib.pyplot as plt\n",
        "import numpy as np"
      ],
      "metadata": {
        "id": "7lAbGW99m1jT"
      },
      "execution_count": 53,
      "outputs": []
    },
    {
      "cell_type": "code",
      "source": [
        "# eliminate text output during installation\n",
        "%%capture\n",
        "\n",
        "# navigate to main directory named '/content/'\n",
        "%cd /content/\n",
        "\n",
        "# download the pre-compiled files in compressed format (under Linux)\n",
        "#! wget 'https://docs.google.com/uc?export=download&id=1kw_CJMjP6ggDZXDNp5phAqCPpoe2WXCA' -O qe-lite.tgz\n",
        "!gdown 'https://drive.google.com/uc?export=download&id=13l-Kiyg-F6aYb5lF8M3RsE1hSnLRdGna' -O qe-lite.tgz\n",
        "\n",
        "# unpack the compressed files (under Linux)\n",
        "! tar -xvzf qe-lite.tgz\n",
        "\n",
        "# clean up some files\n",
        "! rm -rf sample_data qe-lite.tgz"
      ],
      "metadata": {
        "id": "vN51ckNjjHMr"
      },
      "execution_count": 31,
      "outputs": []
    },
    {
      "cell_type": "code",
      "source": [
        "!ls"
      ],
      "metadata": {
        "colab": {
          "base_uri": "https://localhost:8080/"
        },
        "id": "SasoO6D6jNTs",
        "outputId": "f99478b5-33e2-4b98-c13f-f99abd938309"
      },
      "execution_count": 32,
      "outputs": [
        {
          "output_type": "stream",
          "name": "stdout",
          "text": [
            "graphene  qe-lite\n"
          ]
        }
      ]
    },
    {
      "cell_type": "code",
      "source": [
        "%cd /content/qe-lite/pseudopotentials/\n",
        "!wget 'http://pseudopotentials.quantum-espresso.org/upf_files/C.pbe-n-kjpaw_psl.1.0.0.UPF'\n",
        "!mv C.pbe-n-kjpaw_psl.1.0.0.UPF C.upf"
      ],
      "metadata": {
        "colab": {
          "base_uri": "https://localhost:8080/"
        },
        "id": "ppy4fbH7jQ3J",
        "outputId": "5e3330cb-ea9f-4614-a140-cddc6887bb27"
      },
      "execution_count": 33,
      "outputs": [
        {
          "output_type": "stream",
          "name": "stdout",
          "text": [
            "/content/qe-lite/pseudopotentials\n",
            "--2025-07-15 11:00:20--  http://pseudopotentials.quantum-espresso.org/upf_files/C.pbe-n-kjpaw_psl.1.0.0.UPF\n",
            "Resolving pseudopotentials.quantum-espresso.org (pseudopotentials.quantum-espresso.org)... 51.77.118.191\n",
            "Connecting to pseudopotentials.quantum-espresso.org (pseudopotentials.quantum-espresso.org)|51.77.118.191|:80... connected.\n",
            "HTTP request sent, awaiting response... 200 OK\n",
            "Length: 858332 (838K)\n",
            "Saving to: ‘C.pbe-n-kjpaw_psl.1.0.0.UPF’\n",
            "\n",
            "C.pbe-n-kjpaw_psl.1 100%[===================>] 838.21K  1.86MB/s    in 0.4s    \n",
            "\n",
            "2025-07-15 11:00:21 (1.86 MB/s) - ‘C.pbe-n-kjpaw_psl.1.0.0.UPF’ saved [858332/858332]\n",
            "\n"
          ]
        }
      ]
    },
    {
      "cell_type": "code",
      "source": [
        "# create calculation folder and navigate into it\n",
        "%mkdir -p /content/graphene\n",
        "%cd /content/graphene/\n",
        "\n",
        "# create input and write it into the file graphene.scf.in\n",
        "# (documentation can be found at https://www.quantum-espresso.org/Doc/INPUT_PW.html)\n",
        "\n",
        "# cut-off and total enegry [10 - 100] with a step of five, a plot of cut-off and total enegry,\n",
        "# k point increase from 1 - 10\n",
        "# cell dimension along the z axis, 1 - 10 , ensure convergence\n",
        "# nitride of graphene  = 18 atoms\n",
        "\n",
        "qe_input = \"\"\"\n",
        "&CONTROL\n",
        "  calculation = 'scf'\n",
        "  restart_mode = 'from_scratch'\n",
        "  pseudo_dir= '/content/qe-lite/pseudopotentials'\n",
        "  prefix = 'graphene'\n",
        "/\n",
        "&SYSTEM\n",
        "  ibrav = 4\n",
        "  A = 2.47\n",
        "  C = 5.00\n",
        "  nat = 2\n",
        "  ntyp = 1\n",
        "  occupations = 'smearing'\n",
        "  smearing = 'mv'\n",
        "  degauss = 0.02\n",
        "  ecutwfc = 10\n",
        "/\n",
        "&ELECTRONS\n",
        "  mixing_beta = 0.3\n",
        "  conv_thr = 1.0d-8\n",
        "/\n",
        "ATOMIC_SPECIES\n",
        "C 12.01017 C.upf\n",
        "ATOMIC_POSITIONS (crystal)\n",
        "C 0 0 0\n",
        "C 0.33333 0.33333 0\n",
        "K_POINTS (automatic)\n",
        "10 10 1 0 0 0\n",
        "\"\"\"\n",
        "\n",
        "\n",
        "with open(\"graphene.scf.in\", \"w\") as f:\n",
        "    f.write(qe_input)\n",
        "\n",
        "# print the content of the input file (under Linux)\n",
        "! cat graphene.scf.in"
      ],
      "metadata": {
        "colab": {
          "base_uri": "https://localhost:8080/"
        },
        "id": "uM-ovq-jjjJB",
        "outputId": "887447c7-1d25-4b2d-f867-e21b4cb1047a"
      },
      "execution_count": 139,
      "outputs": [
        {
          "output_type": "stream",
          "name": "stdout",
          "text": [
            "/content/graphene\n",
            "\n",
            "&CONTROL\n",
            "  calculation = 'scf'\n",
            "  restart_mode = 'from_scratch'\n",
            "  pseudo_dir= '/content/qe-lite/pseudopotentials'\n",
            "  prefix = 'graphene'\n",
            "/\n",
            "&SYSTEM\n",
            "  ibrav = 4\n",
            "  A = 2.47\n",
            "  C = 5.00\n",
            "  nat = 2\n",
            "  ntyp = 1\n",
            "  occupations = 'smearing'\n",
            "  smearing = 'mv'\n",
            "  degauss = 0.02\n",
            "  ecutwfc = 10\n",
            "/\n",
            "&ELECTRONS\n",
            "  mixing_beta = 0.3\n",
            "  conv_thr = 1.0d-8\n",
            "/\n",
            "ATOMIC_SPECIES\n",
            "C 12.01017 C.upf\n",
            "ATOMIC_POSITIONS (crystal)\n",
            "C 0 0 0\n",
            "C 0.33333 0.33333 0\n",
            "K_POINTS (automatic)\n",
            "10 10 1 0 0 0\n"
          ]
        }
      ]
    },
    {
      "cell_type": "code",
      "source": [
        "# run the pw.x executable using si.scf.in to create si.scf.out\n",
        "! /content/qe-lite/bin/pw.x < graphene.scf.in > graphene.scf.out\n",
        "\n",
        "# print the content of the output file (under Linux)\n",
        "! cat graphene.scf.out"
      ],
      "metadata": {
        "colab": {
          "base_uri": "https://localhost:8080/"
        },
        "id": "ql_y3A3SkIYt",
        "outputId": "f45c032c-c0fa-49fb-d99a-0d3235d755ba"
      },
      "execution_count": 35,
      "outputs": [
        {
          "output_type": "stream",
          "name": "stdout",
          "text": [
            "\n",
            "     Program PWSCF v.7.4 starts on 15Jul2025 at 11: 0:22 \n",
            "\n",
            "     This program is part of the open-source Quantum ESPRESSO suite\n",
            "     for quantum simulation of materials; please cite\n",
            "         \"P. Giannozzi et al., J. Phys.:Condens. Matter 21 395502 (2009);\n",
            "         \"P. Giannozzi et al., J. Phys.:Condens. Matter 29 465901 (2017);\n",
            "         \"P. Giannozzi et al., J. Chem. Phys. 152 154105 (2020);\n",
            "          URL http://www.quantum-espresso.org\", \n",
            "     in publications or presentations arising from this work. More details at\n",
            "     http://www.quantum-espresso.org/quote\n",
            "\n",
            "     Serial version\n",
            "     9416 MiB available memory on the printing compute node when the environment starts\n",
            "\n",
            "     Waiting for input...\n",
            "     Reading input from standard input\n",
            "\n",
            "     Current dimensions of program PWSCF are:\n",
            "     Max number of different atomic species (ntypx) = 10\n",
            "     Max number of k-points (npk) =  40000\n",
            "     Max angular momentum in pseudopotentials (lmaxx) =  4\n",
            "     file C.upf: wavefunction(s)  2S 2P renormalized\n",
            "\n",
            "\n",
            "     G-vector sticks info\n",
            "     --------------------\n",
            "     sticks:   dense  smooth     PW     G-vecs:    dense   smooth      PW\n",
            "     Sum          61      61     19                  775      775     173\n",
            "\n",
            "     Using Slab Decomposition\n",
            "\n",
            "\n",
            "\n",
            "     bravais-lattice index     =            4\n",
            "     lattice parameter (alat)  =       4.6676  a.u.\n",
            "     unit-cell volume          =     178.2753 (a.u.)^3\n",
            "     number of atoms/cell      =            2\n",
            "     number of atomic types    =            1\n",
            "     number of electrons       =         8.00\n",
            "     number of Kohn-Sham states=            8\n",
            "     kinetic-energy cutoff     =      10.0000  Ry\n",
            "     charge density cutoff     =      40.0000  Ry\n",
            "     scf convergence threshold =      1.0E-08\n",
            "     mixing beta               =       0.3000\n",
            "     number of iterations used =            8  plain     mixing\n",
            "     Exchange-correlation= SLA  PW   PBX  PBC\n",
            "                           (   1   4   3   4   0   0   0)\n",
            "\n",
            "     celldm(1)=   4.667624  celldm(2)=   0.000000  celldm(3)=   2.024291\n",
            "     celldm(4)=   0.000000  celldm(5)=   0.000000  celldm(6)=   0.000000\n",
            "\n",
            "     crystal axes: (cart. coord. in units of alat)\n",
            "               a(1) = (   1.000000   0.000000   0.000000 )  \n",
            "               a(2) = (  -0.500000   0.866025   0.000000 )  \n",
            "               a(3) = (   0.000000   0.000000   2.024291 )  \n",
            "\n",
            "     reciprocal axes: (cart. coord. in units 2 pi/alat)\n",
            "               b(1) = (  1.000000  0.577350 -0.000000 )  \n",
            "               b(2) = (  0.000000  1.154701  0.000000 )  \n",
            "               b(3) = (  0.000000 -0.000000  0.494000 )  \n",
            "\n",
            "\n",
            "     PseudoPot. # 1 for C  read from file:\n",
            "     /content/qe-lite/pseudopotentials/C.upf\n",
            "     MD5 check sum: 5f16ad9a65e90284d1d834d4ab3b0f7d\n",
            "     Pseudo is Projector augmented-wave + core cor, Zval =  4.0\n",
            "     Generated using &quot;atomic&quot; code by A. Dal Corso  v.6.3\n",
            "     Shape of augmentation charge: PSQ\n",
            "     Using radial grid of 1073 points,  4 beta functions with: \n",
            "                l(1) =   0\n",
            "                l(2) =   0\n",
            "                l(3) =   1\n",
            "                l(4) =   1\n",
            "     Q(r) pseudized with 0 coefficients \n",
            "\n",
            "\n",
            "     atomic species   valence    mass     pseudopotential\n",
            "     C                 4.00    12.01017     C ( 1.00)\n",
            "\n",
            "      4 Sym. Ops. (no inversion) found\n",
            "\n",
            "\n",
            "\n",
            "   Cartesian axes\n",
            "\n",
            "     site n.     atom                  positions (alat units)\n",
            "         1        C      tau(   1) = (   0.0000000   0.0000000   0.0000000  )\n",
            "         2        C      tau(   2) = (   0.1666650   0.2886722   0.0000000  )\n",
            "\n",
            "     number of k points=    31  Marzari-Vanderbilt smearing, width (Ry)=  0.0200\n",
            "                       cart. coord. in units 2pi/alat\n",
            "        k(    1) = (   0.0000000   0.0000000   0.0000000), wk =   0.0200000\n",
            "        k(    2) = (   0.0000000   0.1154701   0.0000000), wk =   0.0800000\n",
            "        k(    3) = (   0.0000000   0.2309401   0.0000000), wk =   0.0800000\n",
            "        k(    4) = (   0.0000000   0.3464102   0.0000000), wk =   0.0800000\n",
            "        k(    5) = (   0.0000000   0.4618802   0.0000000), wk =   0.0800000\n",
            "        k(    6) = (   0.0000000  -0.5773503   0.0000000), wk =   0.0400000\n",
            "        k(    7) = (   0.1000000   0.1732051   0.0000000), wk =   0.0400000\n",
            "        k(    8) = (   0.1000000   0.2886751   0.0000000), wk =   0.0800000\n",
            "        k(    9) = (   0.1000000   0.4041452   0.0000000), wk =   0.0800000\n",
            "        k(   10) = (   0.1000000   0.5196152   0.0000000), wk =   0.0800000\n",
            "        k(   11) = (   0.2000000   0.3464102   0.0000000), wk =   0.0400000\n",
            "        k(   12) = (   0.2000000   0.4618802   0.0000000), wk =   0.0800000\n",
            "        k(   13) = (   0.2000000   0.5773503   0.0000000), wk =   0.0800000\n",
            "        k(   14) = (   0.3000000   0.5196152   0.0000000), wk =   0.0400000\n",
            "        k(   15) = (  -0.1000000   0.0577350   0.0000000), wk =   0.0400000\n",
            "        k(   16) = (  -0.2000000   0.1154701   0.0000000), wk =   0.0400000\n",
            "        k(   17) = (  -0.3000000   0.1732051   0.0000000), wk =   0.0400000\n",
            "        k(   18) = (  -0.4000000   0.2309401   0.0000000), wk =   0.0400000\n",
            "        k(   19) = (   0.5000000  -0.2886751   0.0000000), wk =   0.0200000\n",
            "        k(   20) = (  -0.1000000   0.1732051   0.0000000), wk =   0.0800000\n",
            "        k(   21) = (  -0.2000000   0.2309401   0.0000000), wk =   0.0800000\n",
            "        k(   22) = (   0.3000000   0.0577350   0.0000000), wk =   0.0800000\n",
            "        k(   23) = (  -0.3000000   0.2886751   0.0000000), wk =   0.0800000\n",
            "        k(   24) = (   0.4000000   0.1154701   0.0000000), wk =   0.0800000\n",
            "        k(   25) = (  -0.4000000   0.3464102   0.0000000), wk =   0.0800000\n",
            "        k(   26) = (   0.5000000   0.1732051   0.0000000), wk =   0.0800000\n",
            "        k(   27) = (  -0.2000000   0.3464102   0.0000000), wk =   0.0800000\n",
            "        k(   28) = (  -0.3000000   0.4041452   0.0000000), wk =   0.0800000\n",
            "        k(   29) = (   0.5000000   0.0577350   0.0000000), wk =   0.0800000\n",
            "        k(   30) = (  -0.4000000   0.4618802   0.0000000), wk =   0.0400000\n",
            "        k(   31) = (  -0.3000000   0.5196152   0.0000000), wk =   0.0800000\n",
            "\n",
            "     Dense  grid:      775 G-vectors     FFT dimensions: (   9,   9,  20)\n",
            "\n",
            "     Estimated max dynamical RAM per process >       1.51 MB\n",
            "\n",
            "     Check: negative core charge=   -0.006041\n",
            "\n",
            "     Initial potential from superposition of free atoms\n",
            "\n",
            "     starting charge       7.9999, renormalised to       8.0000\n",
            "\n",
            "     negative rho (up, down):  2.295E-04 0.000E+00\n",
            "     Starting wfcs are    8 randomized atomic wfcs\n",
            "\n",
            "     total cpu time spent up to now is        0.6 secs\n",
            "\n",
            "     Self-consistent Calculation\n",
            "\n",
            "     iteration #  1     ecut=    10.00 Ry     beta= 0.30\n",
            "     Davidson diagonalization with overlap\n",
            "     ethr =  1.00E-02,  avg # of iterations =  4.1\n",
            "\n",
            "     negative rho (up, down):  5.772E-04 0.000E+00\n",
            "\n",
            "     total cpu time spent up to now is        0.8 secs\n",
            "\n",
            "     total energy              =     -33.85048024 Ry\n",
            "     estimated scf accuracy    <       0.37901567 Ry\n",
            "\n",
            "     iteration #  2     ecut=    10.00 Ry     beta= 0.30\n",
            "     Davidson diagonalization with overlap\n",
            "     ethr =  4.74E-03,  avg # of iterations =  1.0\n",
            "\n",
            "     negative rho (up, down):  5.550E-03 0.000E+00\n",
            "\n",
            "     total cpu time spent up to now is        1.0 secs\n",
            "\n",
            "     total energy              =     -33.78313560 Ry\n",
            "     estimated scf accuracy    <       0.13375598 Ry\n",
            "\n",
            "     iteration #  3     ecut=    10.00 Ry     beta= 0.30\n",
            "     Davidson diagonalization with overlap\n",
            "     ethr =  1.67E-03,  avg # of iterations =  2.3\n",
            "\n",
            "     negative rho (up, down):  6.031E-03 0.000E+00\n",
            "\n",
            "     total cpu time spent up to now is        1.3 secs\n",
            "\n",
            "     total energy              =     -33.80390438 Ry\n",
            "     estimated scf accuracy    <       0.00477625 Ry\n",
            "\n",
            "     iteration #  4     ecut=    10.00 Ry     beta= 0.30\n",
            "     Davidson diagonalization with overlap\n",
            "     ethr =  5.97E-05,  avg # of iterations =  2.5\n",
            "\n",
            "     negative rho (up, down):  7.153E-03 0.000E+00\n",
            "\n",
            "     total cpu time spent up to now is        1.6 secs\n",
            "\n",
            "     WARNING: integrated charge=     8.00000141, expected=     8.00000000\n",
            "\n",
            "     total energy              =     -33.80254313 Ry\n",
            "     estimated scf accuracy    <       0.00714335 Ry\n",
            "\n",
            "     iteration #  5     ecut=    10.00 Ry     beta= 0.30\n",
            "     Davidson diagonalization with overlap\n",
            "     ethr =  5.97E-05,  avg # of iterations =  2.5\n",
            "\n",
            "     negative rho (up, down):  7.464E-03 0.000E+00\n",
            "\n",
            "     total cpu time spent up to now is        1.9 secs\n",
            "\n",
            "     WARNING: integrated charge=     8.00113476, expected=     8.00000000\n",
            "\n",
            "     total energy              =     -33.80325682 Ry\n",
            "     estimated scf accuracy    <       0.00011150 Ry\n",
            "\n",
            "     iteration #  6     ecut=    10.00 Ry     beta= 0.30\n",
            "     Davidson diagonalization with overlap\n",
            "     ethr =  1.39E-06,  avg # of iterations =  4.6\n",
            "\n",
            "     negative rho (up, down):  7.544E-03 0.000E+00\n",
            "\n",
            "     total cpu time spent up to now is        2.3 secs\n",
            "\n",
            "     WARNING: integrated charge=     8.00088569, expected=     8.00000000\n",
            "\n",
            "     total energy              =     -33.80359931 Ry\n",
            "     estimated scf accuracy    <       0.00000129 Ry\n",
            "\n",
            "     iteration #  7     ecut=    10.00 Ry     beta= 0.30\n",
            "     Davidson diagonalization with overlap\n",
            "     ethr =  1.62E-08,  avg # of iterations =  1.2\n",
            "\n",
            "     negative rho (up, down):  7.600E-03 0.000E+00\n",
            "\n",
            "     total cpu time spent up to now is        2.6 secs\n",
            "\n",
            "     WARNING: integrated charge=     8.00021491, expected=     8.00000000\n",
            "\n",
            "     total energy              =     -33.80359894 Ry\n",
            "     estimated scf accuracy    <       0.00000092 Ry\n",
            "\n",
            "     iteration #  8     ecut=    10.00 Ry     beta= 0.30\n",
            "     Davidson diagonalization with overlap\n",
            "     ethr =  1.15E-08,  avg # of iterations =  1.6\n",
            "\n",
            "     negative rho (up, down):  7.612E-03 0.000E+00\n",
            "\n",
            "     total cpu time spent up to now is        2.9 secs\n",
            "\n",
            "     WARNING: integrated charge=     8.00007545, expected=     8.00000000\n",
            "\n",
            "     total energy              =     -33.80359906 Ry\n",
            "     estimated scf accuracy    <       0.00000006 Ry\n",
            "\n",
            "     iteration #  9     ecut=    10.00 Ry     beta= 0.30\n",
            "     Davidson diagonalization with overlap\n",
            "     ethr =  7.86E-10,  avg # of iterations =  2.0\n",
            "\n",
            "     negative rho (up, down):  7.619E-03 0.000E+00\n",
            "\n",
            "     total cpu time spent up to now is        3.2 secs\n",
            "\n",
            "     End of self-consistent calculation\n",
            "\n",
            "          k = 0.0000 0.0000 0.0000 (    99 PWs)   bands (ev):\n",
            "\n",
            "   -17.5714  -5.3819  -2.1794   2.5751   3.2704  11.3118  12.5200  16.2967\n",
            "\n",
            "          k = 0.0000 0.1155 0.0000 (   102 PWs)   bands (ev):\n",
            "\n",
            "   -17.4361  -5.1555  -3.0756   1.8050   3.5625  11.2878  12.5714  15.0778\n",
            "\n",
            "          k = 0.0000 0.2309 0.0000 (    98 PWs)   bands (ev):\n",
            "\n",
            "   -16.8949  -4.3113  -4.0066   1.3669   4.4677  10.7776  12.3122  14.1392\n",
            "\n",
            "          k = 0.0000 0.3464 0.0000 (    94 PWs)   bands (ev):\n",
            "\n",
            "   -15.9694  -5.6835  -2.9856   0.7911   5.9674   9.7170  10.6834  15.0885\n",
            "\n",
            "          k = 0.0000 0.4619 0.0000 (    96 PWs)   bands (ev):\n",
            "\n",
            "   -15.0810  -7.2955  -1.9795  -0.2043   7.4220   8.6499   9.0229  14.6454\n",
            "\n",
            "          k = 0.0000-0.5774 0.0000 (    98 PWs)   bands (ev):\n",
            "\n",
            "   -14.7425  -8.0138  -1.4532  -0.3760   7.4466   7.6611  11.3440  11.4503\n",
            "\n",
            "          k = 0.1000 0.1732 0.0000 (    97 PWs)   bands (ev):\n",
            "\n",
            "   -17.0507  -4.4574  -3.6771   2.1075   4.1596  12.4029  12.5286  12.8989\n",
            "\n",
            "          k = 0.1000 0.2887 0.0000 (   100 PWs)   bands (ev):\n",
            "\n",
            "   -16.4410  -5.0910  -3.6425   0.5719   5.3798  10.8537  11.0244  13.6919\n",
            "\n",
            "          k = 0.1000 0.4041 0.0000 (    93 PWs)   bands (ev):\n",
            "\n",
            "   -15.4160  -6.4179  -2.1877  -0.3199   7.1910   9.2254  10.4193  15.4082\n",
            "\n",
            "          k = 0.1000 0.5196 0.0000 (    94 PWs)   bands (ev):\n",
            "\n",
            "   -14.6998  -7.6227  -1.3826  -0.9779   7.9225   8.9105  10.6164  13.3687\n",
            "\n",
            "          k = 0.2000 0.3464 0.0000 (    94 PWs)   bands (ev):\n",
            "\n",
            "   -15.6235  -5.8963  -2.4954  -0.5162   6.9228   9.7245  12.3947  14.0083\n",
            "\n",
            "          k = 0.2000 0.4619 0.0000 (    91 PWs)   bands (ev):\n",
            "\n",
            "   -14.7156  -6.8341  -2.1831  -1.3514   8.4460   9.0232  12.8327  15.3634\n",
            "\n",
            "          k = 0.2000 0.5774 0.0000 (    94 PWs)   bands (ev):\n",
            "\n",
            "   -14.3401  -7.2585  -3.1719  -1.1718   8.4794  10.4419  12.2686  13.5299\n",
            "\n",
            "          k = 0.3000 0.5196 0.0000 (    90 PWs)   bands (ev):\n",
            "\n",
            "   -14.1324  -6.6505  -4.4284  -0.9233   8.6636  11.1458  13.9015  14.7840\n",
            "\n",
            "          k =-0.1000 0.0577 0.0000 (   102 PWs)   bands (ev):\n",
            "\n",
            "   -17.4204  -5.1915  -2.9153   1.2013   3.5758  10.5688  12.6259  17.3249\n",
            "\n",
            "          k =-0.2000 0.1155 0.0000 (    98 PWs)   bands (ev):\n",
            "\n",
            "   -16.7764  -4.2242  -4.0933  -0.2676   4.5162   9.2191  12.9438  19.8972\n",
            "\n",
            "          k =-0.3000 0.1732 0.0000 (    94 PWs)   bands (ev):\n",
            "\n",
            "   -15.8144  -5.4989  -3.4256  -1.3869   6.0994   8.1376  12.6778  18.6984\n",
            "\n",
            "          k =-0.4000 0.2309 0.0000 (    96 PWs)   bands (ev):\n",
            "\n",
            "   -14.9792  -6.9396  -3.0007  -2.6445   7.4341   8.3337  11.8664  14.7177\n",
            "\n",
            "          k = 0.5000-0.2887 0.0000 (    98 PWs)   bands (ev):\n",
            "\n",
            "   -14.5189  -7.8142  -3.4397  -2.5421   7.1998  11.0772  11.3127  11.3247\n",
            "\n",
            "          k =-0.1000 0.1732 0.0000 (    97 PWs)   bands (ev):\n",
            "\n",
            "   -16.9626  -4.3848  -3.4821   0.8661   4.1837  10.2570  12.8157  16.7197\n",
            "\n",
            "          k =-0.2000 0.2309 0.0000 (   100 PWs)   bands (ev):\n",
            "\n",
            "   -16.2683  -5.1876  -3.8015  -1.2737   5.4329   9.1014  12.7352  18.8937\n",
            "\n",
            "          k = 0.3000 0.0577 0.0000 (   100 PWs)   bands (ev):\n",
            "\n",
            "   -16.3236  -5.2260  -3.6464  -0.3741   5.3802   9.7073  12.0786  15.5439\n",
            "\n",
            "          k =-0.3000 0.2887 0.0000 (    93 PWs)   bands (ev):\n",
            "\n",
            "   -15.2125  -6.1671  -2.8340  -2.3974   7.2938   8.4501  12.3931  16.8699\n",
            "\n",
            "          k = 0.4000 0.1155 0.0000 (    93 PWs)   bands (ev):\n",
            "\n",
            "   -15.3119  -6.5052  -2.4570  -0.7535   7.1547  10.1542  10.2424  15.6194\n",
            "\n",
            "          k =-0.4000 0.3464 0.0000 (    94 PWs)   bands (ev):\n",
            "\n",
            "   -14.4112  -7.4265  -3.2632  -2.4541   7.9292   9.9523  11.6629  13.1179\n",
            "\n",
            "          k = 0.5000 0.1732 0.0000 (    94 PWs)   bands (ev):\n",
            "\n",
            "   -14.6582  -7.6512  -1.5180  -1.1148   8.3300   8.8330  10.6936  13.2999\n",
            "\n",
            "          k =-0.2000 0.3464 0.0000 (    94 PWs)   bands (ev):\n",
            "\n",
            "   -15.3536  -5.8497  -2.8696  -2.1351   6.9396  10.2108  11.9635  16.2664\n",
            "\n",
            "          k =-0.3000 0.4041 0.0000 (    91 PWs)   bands (ev):\n",
            "\n",
            "   -14.4589  -6.5053  -3.7315  -2.0111   8.9992  10.2075  12.1167  14.4071\n",
            "\n",
            "          k = 0.5000 0.0577 0.0000 (    91 PWs)   bands (ev):\n",
            "\n",
            "   -14.4956  -6.7619  -2.9871  -1.8068   9.0172  10.0920  11.6152  15.5883\n",
            "\n",
            "          k =-0.4000 0.4619 0.0000 (    94 PWs)   bands (ev):\n",
            "\n",
            "   -14.1367  -6.9459  -4.7524  -1.9462   9.5205  12.1682  12.2689  12.2970\n",
            "\n",
            "          k =-0.3000 0.5196 0.0000 (    90 PWs)   bands (ev):\n",
            "\n",
            "   -14.0364  -6.3769  -5.0084  -1.3471  10.3759  11.0091  12.3515  13.8028\n",
            "\n",
            "     the Fermi energy is     2.8142 ev\n",
            "\n",
            "!    total energy              =     -33.80359907 Ry\n",
            "     total all-electron energy =      -149.331794 Ry\n",
            "     estimated scf accuracy    <          5.9E-10 Ry\n",
            "     smearing contrib. (-TS)   =       0.00004244 Ry\n",
            "     internal energy E=F+TS    =     -33.80364151 Ry\n",
            "\n",
            "     The total energy is F=E-TS. E is the sum of the following terms:\n",
            "     one-electron contribution =     -26.68568105 Ry\n",
            "     hartree contribution      =      16.51741238 Ry\n",
            "     xc contribution           =      -9.71815112 Ry\n",
            "     ewald contribution        =      -1.42771162 Ry\n",
            "     one-center paw contrib.   =     -12.48951008 Ry\n",
            "\n",
            "     convergence has been achieved in   9 iterations\n",
            "\n",
            "     Writing all to output data dir ./graphene.save/ :\n",
            "     XML data file, charge density, pseudopotentials, collected wavefunctions\n",
            "\n",
            "     init_run     :      0.36s CPU      0.40s WALL (       1 calls)\n",
            "     electrons    :      1.70s CPU      2.55s WALL (       1 calls)\n",
            "\n",
            "     Called by init_run:\n",
            "     wfcinit      :      0.06s CPU      0.07s WALL (       1 calls)\n",
            "     potinit      :      0.11s CPU      0.13s WALL (       1 calls)\n",
            "     hinit0       :      0.19s CPU      0.20s WALL (       1 calls)\n",
            "\n",
            "     Called by electrons:\n",
            "     c_bands      :      0.34s CPU      0.41s WALL (       9 calls)\n",
            "     sum_band     :      0.05s CPU      0.07s WALL (       9 calls)\n",
            "     v_of_rho     :      0.01s CPU      0.01s WALL (      10 calls)\n",
            "     newd         :      0.01s CPU      0.02s WALL (      10 calls)\n",
            "     PAW_pot      :      1.38s CPU      2.16s WALL (      10 calls)\n",
            "     mix_rho      :      0.00s CPU      0.00s WALL (       9 calls)\n",
            "\n",
            "     Called by c_bands:\n",
            "     init_us_2    :      0.02s CPU      0.02s WALL (     589 calls)\n",
            "     cegterg      :      0.32s CPU      0.38s WALL (     279 calls)\n",
            "\n",
            "     Called by *egterg:\n",
            "     cdiaghg      :      0.10s CPU      0.12s WALL (     951 calls)\n",
            "     h_psi        :      0.22s CPU      0.25s WALL (     982 calls)\n",
            "     s_psi        :      0.01s CPU      0.01s WALL (     982 calls)\n",
            "     g_psi        :      0.00s CPU      0.00s WALL (     672 calls)\n",
            "\n",
            "     Called by h_psi:\n",
            "     h_psi:calbec :      0.01s CPU      0.01s WALL (     982 calls)\n",
            "     vloc_psi     :      0.20s CPU      0.22s WALL (     982 calls)\n",
            "     add_vuspsi   :      0.01s CPU      0.01s WALL (     982 calls)\n",
            "\n",
            "     General routines\n",
            "     calbec       :      0.01s CPU      0.01s WALL (    1261 calls)\n",
            "     fft          :      0.09s CPU      0.09s WALL (     110 calls)\n",
            "     ffts         :      0.00s CPU      0.00s WALL (       9 calls)\n",
            "     fftw         :      0.17s CPU      0.20s WALL (   13844 calls)\n",
            "\n",
            "\n",
            "     PWSCF        :      2.23s CPU      3.17s WALL\n",
            "\n",
            "\n",
            "   This run was terminated on:  11: 0:25  15Jul2025            \n",
            "\n",
            "=------------------------------------------------------------------------------=\n",
            "   JOB DONE.\n",
            "=------------------------------------------------------------------------------=\n"
          ]
        }
      ]
    },
    {
      "cell_type": "code",
      "source": [
        "# first method: extract total energies in rydberg during the self-consistent-field calculation (under Linux)\n",
        "! grep -e \"total energy  \" -e \"estimated\" graphene.scf.out"
      ],
      "metadata": {
        "colab": {
          "base_uri": "https://localhost:8080/"
        },
        "id": "2bBy8PPikMYN",
        "outputId": "c41e57b3-00da-474b-9239-186156b06a00"
      },
      "execution_count": 36,
      "outputs": [
        {
          "output_type": "stream",
          "name": "stdout",
          "text": [
            "     total energy              =     -33.85048024 Ry\n",
            "     estimated scf accuracy    <       0.37901567 Ry\n",
            "     total energy              =     -33.78313560 Ry\n",
            "     estimated scf accuracy    <       0.13375598 Ry\n",
            "     total energy              =     -33.80390438 Ry\n",
            "     estimated scf accuracy    <       0.00477625 Ry\n",
            "     total energy              =     -33.80254313 Ry\n",
            "     estimated scf accuracy    <       0.00714335 Ry\n",
            "     total energy              =     -33.80325682 Ry\n",
            "     estimated scf accuracy    <       0.00011150 Ry\n",
            "     total energy              =     -33.80359931 Ry\n",
            "     estimated scf accuracy    <       0.00000129 Ry\n",
            "     total energy              =     -33.80359894 Ry\n",
            "     estimated scf accuracy    <       0.00000092 Ry\n",
            "     total energy              =     -33.80359906 Ry\n",
            "     estimated scf accuracy    <       0.00000006 Ry\n",
            "!    total energy              =     -33.80359907 Ry\n",
            "     estimated scf accuracy    <          5.9E-10 Ry\n"
          ]
        }
      ]
    },
    {
      "cell_type": "markdown",
      "source": [
        "## CONVERGENCE TEST W.R.T TO PLANE WAVE FUNCTION ECUTOFF ENERGY"
      ],
      "metadata": {
        "id": "vmqNhL3-nduB"
      }
    },
    {
      "cell_type": "code",
      "source": [
        "!cat graphene.scf.in"
      ],
      "metadata": {
        "colab": {
          "base_uri": "https://localhost:8080/"
        },
        "id": "JJHNVHOwpl1G",
        "outputId": "d86c5ae5-0d37-4e5b-f979-0061496af848"
      },
      "execution_count": 37,
      "outputs": [
        {
          "output_type": "stream",
          "name": "stdout",
          "text": [
            "\n",
            "&CONTROL\n",
            "  calculation = 'scf'\n",
            "  restart_mode = 'from_scratch'\n",
            "  pseudo_dir= '/content/qe-lite/pseudopotentials'\n",
            "  prefix = 'graphene'\n",
            "/\n",
            "&SYSTEM\n",
            "  ibrav = 4\n",
            "  A = 2.47\n",
            "  C = 5.00\n",
            "  nat = 2\n",
            "  ntyp = 1\n",
            "  occupations = 'smearing'\n",
            "  smearing = 'mv'\n",
            "  degauss = 0.02\n",
            "  ecutwfc = 10\n",
            "/\n",
            "&ELECTRONS\n",
            "  mixing_beta = 0.3\n",
            "  conv_thr = 1.0d-8\n",
            "/\n",
            "ATOMIC_SPECIES\n",
            "C 12.01017 C.upf\n",
            "ATOMIC_POSITIONS (crystal)\n",
            "C 0 0 0\n",
            "C 0.33333 0.33333 0\n",
            "K_POINTS (automatic)\n",
            "10 10 1 0 0 0\n"
          ]
        }
      ]
    },
    {
      "cell_type": "code",
      "source": [
        "!grep -e \"ecutwfc\" graphene.scf.in"
      ],
      "metadata": {
        "colab": {
          "base_uri": "https://localhost:8080/"
        },
        "id": "j0yMo_stptRJ",
        "outputId": "25cc3940-8208-4f2a-a85f-b3c3a866ab54"
      },
      "execution_count": 38,
      "outputs": [
        {
          "output_type": "stream",
          "name": "stdout",
          "text": [
            "  ecutwfc = 10\n"
          ]
        }
      ]
    },
    {
      "cell_type": "markdown",
      "source": [
        "## Changing the value of ecutwfc"
      ],
      "metadata": {
        "id": "jNLRjmGvq64x"
      }
    },
    {
      "cell_type": "code",
      "source": [
        "import re\n",
        "\n",
        "def change_ecutwfc_param(new_cutwfc):\n",
        "  global qe_input\n",
        "  qe_input = re.sub(r\"ecutwfc\\s*=\\s*\\d+\", f\"ecutwfc = {new_cutwfc}\", qe_input)\n",
        "  with open(\"graphene.scf.in\", \"w\") as f:\n",
        "    f.write(qe_input)\n",
        "\n",
        "  grep_output = !grep -e \"ecutwfc \" graphene.scf.in\n",
        "  ecutwfc_value = \"N/A\" # Default value if not found\n",
        "  if grep_output:\n",
        "      match = re.search(r\"ecutwfc\\s*=\\s*(\\d+)\", grep_output[0])\n",
        "      if match:\n",
        "          ecutwfc_value = match.group(1)\n",
        "\n",
        "  print(f\"Running calculation with ecutwfc={ecutwfc_value}\")\n",
        "\n",
        "  # !cat graphene.scf.in # Keep this to show the full input file"
      ],
      "metadata": {
        "id": "7-KCv-O0pw-t"
      },
      "execution_count": 79,
      "outputs": []
    },
    {
      "cell_type": "code",
      "source": [
        "change_ecutwfc_param(20)\n",
        "!cat graphene.scf.in"
      ],
      "metadata": {
        "colab": {
          "base_uri": "https://localhost:8080/"
        },
        "id": "dYAixjXowA_n",
        "outputId": "e86d0b5c-5ea4-4803-f06a-38f5df49f17b"
      },
      "execution_count": 74,
      "outputs": [
        {
          "output_type": "stream",
          "name": "stdout",
          "text": [
            "\n",
            "&CONTROL\n",
            "  calculation = 'scf'\n",
            "  restart_mode = 'from_scratch'\n",
            "  pseudo_dir= '/content/qe-lite/pseudopotentials'\n",
            "  prefix = 'graphene'\n",
            "/\n",
            "&SYSTEM\n",
            "  ibrav = 4\n",
            "  A = 2.47\n",
            "  C = 5.00\n",
            "  nat = 2\n",
            "  ntyp = 1\n",
            "  occupations = 'smearing'\n",
            "  smearing = 'mv'\n",
            "  degauss = 0.02\n",
            "  ecutwfc = 20\n",
            "/\n",
            "&ELECTRONS\n",
            "  mixing_beta = 0.3\n",
            "  conv_thr = 1.0d-8\n",
            "/\n",
            "ATOMIC_SPECIES\n",
            "C 12.01017 C.upf\n",
            "ATOMIC_POSITIONS (crystal)\n",
            "C 0 0 0\n",
            "C 0.33333 0.33333 0\n",
            "K_POINTS (automatic)\n",
            "10 10 1 0 0 0\n"
          ]
        }
      ]
    },
    {
      "cell_type": "markdown",
      "source": [
        "### PLOTTING A GRAPH OF TOTAL ENERGY AGAINST CUTOFF"
      ],
      "metadata": {
        "id": "6AOii7XGxDMv"
      }
    },
    {
      "cell_type": "code",
      "source": [
        "ecutwfc_values = [10, 20, 30, 40, 50, 60, 70, 80, 90, 100, 110, 120]\n",
        "ecutoff_total_energies = []\n",
        "\n",
        "for ecutwfc in ecutwfc_values:\n",
        "  change_ecutwfc_param(ecutwfc)\n",
        "  ! /content/qe-lite/bin/pw.x < graphene.scf.in > graphene.scf.out\n",
        "  output = ase.io.read(\"graphene.scf.out\")\n",
        "  # ! grep -e \"total energy  \" -e \"estimated\" graphene.scf.out\n",
        "  ecutoff_total_energies.append(output.get_total_energy())\n",
        "  print(f\"Successfully read energy: {output.get_total_energy()}\")\n",
        "\n",
        "## Plotting the graph of total enegry against ecutwfc\n",
        "plt.plot(ecutwfc_values, ecutoff_total_energies, 'o-')\n",
        "plt.xlabel('ecutwfc')\n",
        "plt.ylabel('Total Energy (eV/atom)')\n",
        "plt.title('Total Energy vs. ecutwfc')\n",
        "plt.show()\n"
      ],
      "metadata": {
        "colab": {
          "base_uri": "https://localhost:8080/",
          "height": 889
        },
        "id": "Rb9N9S0vxCyl",
        "outputId": "7aab9a10-fc51-4f86-e13d-c0bc9df233ec"
      },
      "execution_count": 162,
      "outputs": [
        {
          "output_type": "stream",
          "name": "stdout",
          "text": [
            "Running calculation with ecutwfc=10\n",
            "Successfully read energy: -459.89960537869786\n",
            "Running calculation with ecutwfc=20\n",
            "Successfully read energy: -477.603662748119\n",
            "Running calculation with ecutwfc=30\n",
            "Successfully read energy: -479.1282470610208\n",
            "Running calculation with ecutwfc=40\n",
            "Successfully read energy: -479.44640895585223\n",
            "Running calculation with ecutwfc=50\n",
            "Successfully read energy: -479.5368774192778\n",
            "Running calculation with ecutwfc=60\n",
            "Successfully read energy: -479.5599811086919\n",
            "Running calculation with ecutwfc=70\n",
            "Successfully read energy: -479.5693377430341\n",
            "Running calculation with ecutwfc=80\n",
            "Successfully read energy: -479.57286773980604\n",
            "Running calculation with ecutwfc=90\n",
            "Successfully read energy: -479.57364843440917\n",
            "Running calculation with ecutwfc=100\n",
            "Successfully read energy: -479.5738114305985\n",
            "Running calculation with ecutwfc=110\n",
            "Successfully read energy: -479.57405714939483\n",
            "Running calculation with ecutwfc=120\n",
            "Successfully read energy: -479.5743640938048\n"
          ]
        },
        {
          "output_type": "display_data",
          "data": {
            "text/plain": [
              "<Figure size 640x480 with 1 Axes>"
            ],
            "image/png": "[encoded data removed]"
          },
          "metadata": {}
        }
      ]
    },
    {
      "cell_type": "markdown",
      "source": [
        "## CONVERGENCE OF K-POINT SAMPLING WITH TOTAL ENERGY"
      ],
      "metadata": {
        "id": "qJHZP60RAS52"
      }
    },
    {
      "cell_type": "code",
      "source": [
        "!cat graphene.scf.in"
      ],
      "metadata": {
        "colab": {
          "base_uri": "https://localhost:8080/"
        },
        "id": "D7YVHT43mpIR",
        "outputId": "54ae0432-ee30-404e-8ff6-82769346d09a"
      },
      "execution_count": 82,
      "outputs": [
        {
          "output_type": "stream",
          "name": "stdout",
          "text": [
            "\n",
            "&CONTROL\n",
            "  calculation = 'scf'\n",
            "  restart_mode = 'from_scratch'\n",
            "  pseudo_dir= '/content/qe-lite/pseudopotentials'\n",
            "  prefix = 'graphene'\n",
            "/\n",
            "&SYSTEM\n",
            "  ibrav = 4\n",
            "  A = 2.47\n",
            "  C = 5.00\n",
            "  nat = 2\n",
            "  ntyp = 1\n",
            "  occupations = 'smearing'\n",
            "  smearing = 'mv'\n",
            "  degauss = 0.02\n",
            "  ecutwfc = 120\n",
            "/\n",
            "&ELECTRONS\n",
            "  mixing_beta = 0.3\n",
            "  conv_thr = 1.0d-8\n",
            "/\n",
            "ATOMIC_SPECIES\n",
            "C 12.01017 C.upf\n",
            "ATOMIC_POSITIONS (crystal)\n",
            "C 0 0 0\n",
            "C 0.33333 0.33333 0\n",
            "K_POINTS (automatic)\n",
            "10 10 1 0 0 0\n"
          ]
        }
      ]
    },
    {
      "cell_type": "markdown",
      "source": [
        "### changing the k point sampling"
      ],
      "metadata": {
        "id": "NXnFwnDlCaF1"
      }
    },
    {
      "cell_type": "code",
      "source": [
        "import re\n",
        "\n",
        "k_point_values = [2, 3, 4, 5, 6, 7, 8, 9, 10, 11, 12,13, 14, 15, 16, 17, 18, 19, 20]\n",
        "k_point_total_energies = []\n",
        "def change_k_point_param(new_k_point):\n",
        "  global qe_input\n",
        "  # Modified regex to match K_POINTS (automatic) and the following line\n",
        "  qe_input = re.sub(r\"K_POINTS\\s*\\(\\s*automatic\\s*\\)\\s*\\n.*\", f\"K_POINTS (automatic)\\n{new_k_point} {new_k_point} 1 0 0 0\", qe_input)\n",
        "  with open(\"graphene.scf.in\", \"w\") as f:\n",
        "    f.write(qe_input)\n",
        "  qe_output = !grep -e \"K_POINTS\" -A 1 graphene.scf.in\n",
        "  print(f\"The current K points is: {qe_output[1]}\")"
      ],
      "metadata": {
        "id": "W1Gz5KTPL-Lw"
      },
      "execution_count": 117,
      "outputs": []
    },
    {
      "cell_type": "code",
      "source": [
        "change_k_point_param(3)\n",
        "!cat graphene.scf.in"
      ],
      "metadata": {
        "colab": {
          "base_uri": "https://localhost:8080/"
        },
        "id": "xfqIzoANMU5M",
        "outputId": "1aed1916-7175-4937-adbf-c0840dafb2da"
      },
      "execution_count": 115,
      "outputs": [
        {
          "output_type": "stream",
          "name": "stdout",
          "text": [
            "The current K points is: 3 3 1 0 0 0\n",
            "\n",
            "&CONTROL\n",
            "  calculation = 'scf'\n",
            "  restart_mode = 'from_scratch'\n",
            "  pseudo_dir= '/content/qe-lite/pseudopotentials'\n",
            "  prefix = 'graphene'\n",
            "/\n",
            "&SYSTEM\n",
            "  ibrav = 4\n",
            "  A = 2.47\n",
            "  C = 5.00\n",
            "  nat = 2\n",
            "  ntyp = 1\n",
            "  occupations = 'smearing'\n",
            "  smearing = 'mv'\n",
            "  degauss = 0.02\n",
            "  ecutwfc = 10\n",
            "/\n",
            "&ELECTRONS\n",
            "  mixing_beta = 0.3\n",
            "  conv_thr = 1.0d-8\n",
            "/\n",
            "ATOMIC_SPECIES\n",
            "C 12.01017 C.upf\n",
            "ATOMIC_POSITIONS (crystal)\n",
            "C 0 0 0\n",
            "C 0.33333 0.33333 0\n",
            "K_POINTS (automatic)\n",
            "3 3 1 0 0 0\n"
          ]
        }
      ]
    },
    {
      "cell_type": "markdown",
      "source": [
        "### PLOTTING A GRAPH OF K POINTS AGAINST TOTAL ENERGY TO TEST FOR CONVERENCE"
      ],
      "metadata": {
        "id": "ho6HWgJlOZyX"
      }
    },
    {
      "cell_type": "code",
      "source": [
        "for k_point in k_point_values:\n",
        "  change_k_point_param(k_point)\n",
        "  ! /content/qe-lite/bin/pw.x < graphene.scf.in > graphene.scf.out\n",
        "  output = ase.io.read(\"graphene.scf.out\")\n",
        "  k_point_total_energies.append(output.get_total_energy())\n",
        "  print(f\"Successfully read energy: {output.get_total_energy()}\")\n",
        "\n",
        "plt.plot(k_point_values, k_point_total_energies, 'o-')\n",
        "plt.xlabel('K Points')\n",
        "plt.ylabel('Total Energy (eV/atom)')\n",
        "plt.title('Total Energy vs. K Points')\n",
        "plt.show()"
      ],
      "metadata": {
        "colab": {
          "base_uri": "https://localhost:8080/",
          "height": 1000
        },
        "id": "y1vLxpHYCMuM",
        "outputId": "1ee04f71-d6fc-4f57-f805-a76a2c151774"
      },
      "execution_count": 118,
      "outputs": [
        {
          "output_type": "stream",
          "name": "stdout",
          "text": [
            "The current K points is: 2 2 1 0 0 0\n",
            "Successfully read energy: -459.1408262799325\n",
            "The current K points is: 3 3 1 0 0 0\n",
            "Successfully read energy: -459.08008380435547\n",
            "The current K points is: 4 4 1 0 0 0\n",
            "Successfully read energy: -460.2834174582434\n",
            "The current K points is: 5 5 1 0 0 0\n",
            "Successfully read energy: -460.0073295330311\n",
            "The current K points is: 6 6 1 0 0 0\n",
            "Successfully read energy: -459.6721965783673\n",
            "The current K points is: 7 7 1 0 0 0\n",
            "Successfully read energy: -459.72240593542074\n",
            "The current K points is: 8 8 1 0 0 0\n",
            "Successfully read energy: -460.0473581589819\n",
            "The current K points is: 9 9 1 0 0 0\n",
            "Successfully read energy: -460.06183121377546\n",
            "The current K points is: 10 10 1 0 0 0\n",
            "Successfully read energy: -459.9213551657078\n",
            "The current K points is: 11 11 1 0 0 0\n",
            "Successfully read energy: -459.9560245096063\n",
            "The current K points is: 12 12 1 0 0 0\n",
            "Successfully read energy: -459.93336899168446\n",
            "The current K points is: 13 13 1 0 0 0\n",
            "Successfully read energy: -459.8344436383242\n",
            "The current K points is: 14 14 1 0 0 0\n",
            "Successfully read energy: -459.8966337595229\n",
            "The current K points is: 15 15 1 0 0 0\n",
            "Successfully read energy: -460.02507421250675\n",
            "The current K points is: 16 16 1 0 0 0\n",
            "Successfully read energy: -460.0734990470062\n",
            "The current K points is: 17 17 1 0 0 0\n",
            "Successfully read energy: -459.9123328232164\n",
            "The current K points is: 18 18 1 0 0 0\n",
            "Successfully read energy: -460.02801249773654\n",
            "The current K points is: 19 19 1 0 0 0\n",
            "Successfully read energy: -459.98735120711086\n",
            "The current K points is: 20 20 1 0 0 0\n",
            "Successfully read energy: -459.95737501058755\n"
          ]
        },
        {
          "output_type": "display_data",
          "data": {
            "text/plain": [
              "<Figure size 640x480 with 1 Axes>"
            ],
            "image/png": "[encoded data removed]"
          },
          "metadata": {}
        }
      ]
    },
    {
      "cell_type": "markdown",
      "source": [
        "## PLOTTING VACUUM SIZE SPACE AGAINST TOTAL ENERGY (Lattice Parameter C)\n",
        "\n"
      ],
      "metadata": {
        "id": "pb3MjjYPR87m"
      }
    },
    {
      "cell_type": "code",
      "source": [
        "!cat graphene.scf.in"
      ],
      "metadata": {
        "colab": {
          "base_uri": "https://localhost:8080/"
        },
        "id": "jHsnys7WPoUx",
        "outputId": "6bcb975b-ca3f-4c45-f039-3623fa10806c"
      },
      "execution_count": 119,
      "outputs": [
        {
          "output_type": "stream",
          "name": "stdout",
          "text": [
            "\n",
            "&CONTROL\n",
            "  calculation = 'scf'\n",
            "  restart_mode = 'from_scratch'\n",
            "  pseudo_dir= '/content/qe-lite/pseudopotentials'\n",
            "  prefix = 'graphene'\n",
            "/\n",
            "&SYSTEM\n",
            "  ibrav = 4\n",
            "  A = 2.47\n",
            "  C = 5.00\n",
            "  nat = 2\n",
            "  ntyp = 1\n",
            "  occupations = 'smearing'\n",
            "  smearing = 'mv'\n",
            "  degauss = 0.02\n",
            "  ecutwfc = 10\n",
            "/\n",
            "&ELECTRONS\n",
            "  mixing_beta = 0.3\n",
            "  conv_thr = 1.0d-8\n",
            "/\n",
            "ATOMIC_SPECIES\n",
            "C 12.01017 C.upf\n",
            "ATOMIC_POSITIONS (crystal)\n",
            "C 0 0 0\n",
            "C 0.33333 0.33333 0\n",
            "K_POINTS (automatic)\n",
            "20 20 1 0 0 0\n"
          ]
        }
      ]
    },
    {
      "cell_type": "code",
      "source": [
        "c_values = [2.00, 3.00, 4.00, 5.00, 6.00, 7.00, 8.00]#, 9.00, 10.00, 11.00, 12.00, 13.00, 14.00, 15.00, 16.00, 17.00, 18.00, 19.00, 20.00]\n",
        "c_values_total_energies = []"
      ],
      "metadata": {
        "id": "qzA5s185XotE"
      },
      "execution_count": 157,
      "outputs": []
    },
    {
      "cell_type": "code",
      "source": [
        "!grep -e 'C =' graphene.scf.in"
      ],
      "metadata": {
        "colab": {
          "base_uri": "https://localhost:8080/"
        },
        "id": "Y_4Fy_2rYFhv",
        "outputId": "0cc3d834-0030-42f7-d8e4-7e2497cb12eb"
      },
      "execution_count": 123,
      "outputs": [
        {
          "output_type": "stream",
          "name": "stdout",
          "text": [
            "  C = 5.00\n"
          ]
        }
      ]
    },
    {
      "cell_type": "code",
      "source": [
        "import re\n",
        "\n",
        "def change_volume_space_value(c):\n",
        "  global qe_input\n",
        "  qe_input = re.sub(r\"C\\s*=\\s*[-+]?\\d*\\.?\\d+\", f\"C = {c}\", qe_input)\n",
        "  with open(\"graphene.scf.in\", \"w\") as f:\n",
        "    f.write(qe_input)\n",
        "  qe_output = !grep -e 'C =' graphene.scf.in\n",
        "  print(f\"The current{qe_output[0]}\")"
      ],
      "metadata": {
        "id": "SZhNLyfTZWUc"
      },
      "execution_count": 158,
      "outputs": []
    },
    {
      "cell_type": "code",
      "source": [
        "change_volume_space_value(3.00)\n",
        "!cat graphene.scf.in"
      ],
      "metadata": {
        "colab": {
          "base_uri": "https://localhost:8080/"
        },
        "id": "XWAQ-b2Mag5D",
        "outputId": "9b0a7a6b-f307-4bb4-95df-9ef1913663ac"
      },
      "execution_count": 153,
      "outputs": [
        {
          "output_type": "stream",
          "name": "stdout",
          "text": [
            "The current  C = 3.0\n",
            "\n",
            "&CONTROL\n",
            "  calculation = 'scf'\n",
            "  restart_mode = 'from_scratch'\n",
            "  pseudo_dir= '/content/qe-lite/pseudopotentials'\n",
            "  prefix = 'graphene'\n",
            "/\n",
            "&SYSTEM\n",
            "  ibrav = 4\n",
            "  A = 2.47\n",
            "  C = 3.0\n",
            "  nat = 2\n",
            "  ntyp = 1\n",
            "  occupations = 'smearing'\n",
            "  smearing = 'mv'\n",
            "  degauss = 0.02\n",
            "  ecutwfc = 10\n",
            "/\n",
            "&ELECTRONS\n",
            "  mixing_beta = 0.3\n",
            "  conv_thr = 1.0d-8\n",
            "/\n",
            "ATOMIC_SPECIES\n",
            "C 12.01017 C.upf\n",
            "ATOMIC_POSITIONS (crystal)\n",
            "C 0 0 0\n",
            "C 0.33333 0.33333 0\n",
            "K_POINTS (automatic)\n",
            "10 10 1 0 0 0\n"
          ]
        }
      ]
    },
    {
      "cell_type": "code",
      "source": [
        "for c in c_values:\n",
        "  change_volume_space_value(c)\n",
        "  ! /content/qe-lite/bin/pw.x < graphene.scf.in > graphene.scf.out\n",
        "  output = ase.io.read(\"graphene.scf.out\")\n",
        "  c_values_total_energies.append(output.get_total_energy())\n",
        "  print(f\"Successfully read energy: {output.get_total_energy()}\")\n",
        "  print(f\"Successfully read lattice parameter: {c}\")\n",
        "\n",
        "plt.plot(c_values, c_values_total_energies, 'o-')\n",
        "plt.xlabel('C')\n",
        "plt.ylabel('Total Energy (eV/atom)')\n",
        "plt.title('Total Energy vs. C')\n",
        "plt.show()\n"
      ],
      "metadata": {
        "colab": {
          "base_uri": "https://localhost:8080/",
          "height": 837
        },
        "id": "bnTnlzhHaij9",
        "outputId": "bd05d508-8da0-4eff-ad67-21157ac4db13"
      },
      "execution_count": 159,
      "outputs": [
        {
          "output_type": "stream",
          "name": "stdout",
          "text": [
            "The current  C = 2.0\n",
            "Successfully read energy: -450.9357960706329\n",
            "Successfully read lattice parameter: 2.0\n",
            "The current  C = 3.0\n",
            "Successfully read energy: -458.27999904939446\n",
            "Successfully read lattice parameter: 3.0\n",
            "The current  C = 4.0\n",
            "Successfully read energy: -459.4551007564648\n",
            "Successfully read lattice parameter: 4.0\n",
            "The current  C = 5.0\n",
            "Successfully read energy: -459.9213551657078\n",
            "Successfully read lattice parameter: 5.0\n",
            "The current  C = 6.0\n",
            "Successfully read energy: -459.8833346038293\n",
            "Successfully read lattice parameter: 6.0\n",
            "The current  C = 7.0\n",
            "Successfully read energy: -460.064356566255\n",
            "Successfully read lattice parameter: 7.0\n",
            "The current  C = 8.0\n",
            "Successfully read energy: -459.89960537869786\n",
            "Successfully read lattice parameter: 8.0\n"
          ]
        },
        {
          "output_type": "display_data",
          "data": {
            "text/plain": [
              "<Figure size 640x480 with 1 Axes>"
            ],
            "image/png": "[encoded data removed]"
          },
          "metadata": {}
        }
      ]
    },
    {
      "cell_type": "markdown",
      "source": [
        "## COMBINING ALL GRAPHS INTO ONE FIGURE"
      ],
      "metadata": {
        "id": "jAe0LloLdXvi"
      }
    },
    {
      "cell_type": "code",
      "source": [
        "plt.figure(figsize=(20, 8))\n",
        "\n",
        "plt.subplot(1, 3, 1)\n",
        "plt.plot(ecutwfc_values, ecutoff_total_energies, 'o-')\n",
        "plt.xlabel('ecutwfc')\n",
        "plt.ylabel('Total Energy (eV/atom)')\n",
        "plt.title('Total Energy vs. ecutwfc')\n",
        "\n",
        "plt.subplot(1, 3, 2)\n",
        "plt.plot(k_point_values, k_point_total_energies, 'o-')\n",
        "plt.xlabel('K Points')\n",
        "plt.ylabel('Total Energy (eV/atom)')\n",
        "plt.title('Total Energy vs. K Points')\n",
        "\n",
        "plt.subplot(1, 3, 3)\n",
        "plt.plot(c_values, c_values_total_energies, 'o-')\n",
        "plt.xlabel('C')\n",
        "plt.ylabel('Total Energy (eV/atom)')\n",
        "plt.title('Total Energy vs. C')\n",
        "\n",
        "plt.tight_layout()\n",
        "plt.show()"
      ],
      "metadata": {
        "colab": {
          "base_uri": "https://localhost:8080/",
          "height": 711
        },
        "id": "F-iDnjrycM-3",
        "outputId": "1c7b220b-b7ee-4bf0-899b-f37a4d22b20a"
      },
      "execution_count": 166,
      "outputs": [
        {
          "output_type": "display_data",
          "data": {
            "text/plain": [
              "<Figure size 2000x800 with 3 Axes>"
            ],
            "image/png": "[encoded data removed]"
          },
          "metadata": {}
        }
      ]
    },
    {
      "cell_type": "code",
      "source": [],
      "metadata": {
        "id": "svmXBvYmd0m4"
      },
      "execution_count": null,
      "outputs": []
    }
  ]
}